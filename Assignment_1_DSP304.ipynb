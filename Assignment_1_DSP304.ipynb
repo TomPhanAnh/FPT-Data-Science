{
  "nbformat": 4,
  "nbformat_minor": 0,
  "metadata": {
    "colab": {
      "name": "Assignment 1_DSP304",
      "provenance": [],
      "collapsed_sections": [],
      "include_colab_link": true
    },
    "kernelspec": {
      "name": "python3",
      "display_name": "Python 3"
    },
    "accelerator": "GPU",
    "gpuClass": "standard"
  },
  "cells": [
    {
      "cell_type": "markdown",
      "metadata": {
        "id": "view-in-github",
        "colab_type": "text"
      },
      "source": [
        "<a href=\"https://colab.research.google.com/github/TomPhanAnh/FPT-Data-Science/blob/main/Assignment_1_DSP304.ipynb\" target=\"_parent\"><img src=\"https://colab.research.google.com/assets/colab-badge.svg\" alt=\"Open In Colab\"/></a>"
      ]
    },
    {
      "cell_type": "markdown",
      "metadata": {
        "id": "o_6-uzr-2vLO"
      },
      "source": [
        "In this notebook, we will try the process of implementing CNN with Keras in order to classify images.\n",
        "\n",
        "I.   **Firstly**, we'll import useful packages.\n",
        "\n",
        "II.   **Then**, we'll load the data, before visualize and preprocess it.\n",
        "\n",
        "III.  **We'll try a simple CNN model** and then we will evaluate its performances.\n",
        "\n",
        "IV.   **Finally,** we'll use techniques such as data augmentation, learning rate decay and dropout to increase our test F1."
      ]
    },
    {
      "cell_type": "markdown",
      "metadata": {
        "id": "zFh0lHAL2ui3"
      },
      "source": [
        "# I. Let import all useful packages."
      ]
    },
    {
      "cell_type": "code",
      "source": [
        "!pip install keras==2.6.*"
      ],
      "metadata": {
        "colab": {
          "base_uri": "https://localhost:8080/"
        },
        "id": "KlLP95URVWM5",
        "outputId": "b4474a0a-ec23-4f2c-d460-b93b02cca35d"
      },
      "execution_count": null,
      "outputs": [
        {
          "output_type": "stream",
          "name": "stdout",
          "text": [
            "Looking in indexes: https://pypi.org/simple, https://us-python.pkg.dev/colab-wheels/public/simple/\n",
            "Requirement already satisfied: keras==2.6.* in /usr/local/lib/python3.7/dist-packages (2.6.0)\n"
          ]
        }
      ]
    },
    {
      "cell_type": "code",
      "source": [
        "!pip install tensorflow_addons"
      ],
      "metadata": {
        "id": "y8O9mpcVWHgs",
        "outputId": "4d8b819c-2c2c-4798-8d0d-81f86913ad10",
        "colab": {
          "base_uri": "https://localhost:8080/"
        }
      },
      "execution_count": null,
      "outputs": [
        {
          "output_type": "stream",
          "name": "stdout",
          "text": [
            "Looking in indexes: https://pypi.org/simple, https://us-python.pkg.dev/colab-wheels/public/simple/\n",
            "Requirement already satisfied: tensorflow_addons in /usr/local/lib/python3.7/dist-packages (0.17.1)\n",
            "Requirement already satisfied: packaging in /usr/local/lib/python3.7/dist-packages (from tensorflow_addons) (21.3)\n",
            "Requirement already satisfied: typeguard>=2.7 in /usr/local/lib/python3.7/dist-packages (from tensorflow_addons) (2.7.1)\n",
            "Requirement already satisfied: pyparsing!=3.0.5,>=2.0.2 in /usr/local/lib/python3.7/dist-packages (from packaging->tensorflow_addons) (3.0.9)\n"
          ]
        }
      ]
    },
    {
      "cell_type": "code",
      "metadata": {
        "id": "no86DwmY2ren"
      },
      "source": [
        "from tensorflow import keras\n",
        "import tensorflow.keras.layers as Layers\n",
        "import tensorflow.keras.activations as Actications\n",
        "import tensorflow.keras.models as Models\n",
        "import tensorflow.keras.optimizers as Optimizer\n",
        "import tensorflow.keras.metrics as Metrics\n",
        "import tensorflow.keras.utils as Utils\n",
        "from tensorflow.keras.preprocessing.image import ImageDataGenerator\n",
        "from tensorflow.keras.callbacks import ModelCheckpoint\n",
        "from tensorflow.keras.models import load_model\n",
        "from tensorflow.keras.callbacks import TensorBoard\n",
        "import tensorflow_addons as tfa\n",
        "import os\n",
        "import random\n",
        "import datetime\n",
        "import cv2\n",
        "import numpy as np\n",
        "from sklearn.utils import shuffle\n",
        "from sklearn.metrics import confusion_matrix as CM\n",
        "from sklearn.metrics import confusion_matrix\n",
        "import matplotlib.pyplot as plot\n",
        "import seaborn as sn"
      ],
      "execution_count": null,
      "outputs": []
    },
    {
      "cell_type": "markdown",
      "metadata": {
        "id": "x2uieeaWZ4KE"
      },
      "source": [
        "**Task 1:** Setting Fre GPU in this Google Colab notebook.\n",
        "\n",
        "[*Hint.*](https://medium.com/deep-learning-turkey/google-colab-free-gpu-tutorial-e113627b9f5d)"
      ]
    },
    {
      "cell_type": "code",
      "source": [
        "import tensorflow as tf\n",
        "device_name = tf.test.gpu_device_name()\n",
        "if device_name != \"/device:GPU:0\":\n",
        "  raise SystemError(\"GPU device not found\")\n",
        "\n",
        "print(\"Found GPU at: {}\".format(device_name))"
      ],
      "metadata": {
        "id": "G0_G630hWq2Q",
        "outputId": "679213b4-63b1-4477-c61c-689dd829d911",
        "colab": {
          "base_uri": "https://localhost:8080/"
        }
      },
      "execution_count": null,
      "outputs": [
        {
          "output_type": "stream",
          "name": "stdout",
          "text": [
            "Found GPU at: /device:GPU:0\n"
          ]
        }
      ]
    },
    {
      "cell_type": "markdown",
      "metadata": {
        "id": "DOHCCwRv56Z7"
      },
      "source": [
        "## Mounting Google Drive locally\n",
        "**Task 2:** Mount the Google Driver into the Google Colab Driver.\n",
        "\n",
        "[*Hint.*](https://colab.research.google.com/notebooks/io.ipynb#scrollTo=eikfzi8ZT_rW)"
      ]
    },
    {
      "cell_type": "code",
      "metadata": {
        "id": "Oj1-PNvs55A7",
        "outputId": "483d0667-022b-4e3b-b1b1-0aafe179406a",
        "colab": {
          "base_uri": "https://localhost:8080/"
        }
      },
      "source": [
        "## TYPE YOUR CODE for task 2 here:\n",
        "from google.colab import drive \n",
        "drive.mount(\"/content/drive\")"
      ],
      "execution_count": null,
      "outputs": [
        {
          "output_type": "stream",
          "name": "stdout",
          "text": [
            "Drive already mounted at /content/drive; to attempt to forcibly remount, call drive.mount(\"/content/drive\", force_remount=True).\n"
          ]
        }
      ]
    },
    {
      "cell_type": "markdown",
      "metadata": {
        "id": "k30Tx3txZTnM"
      },
      "source": [
        "**Task 3**: Copy the zip dataset from Google Drive into Colab, then unzip it and finally remove the zip file to free up space.\n",
        "\n",
        "[*Hint.*](https://medium.com/datadriveninvestor/speed-up-your-image-training-on-google-colab-dc95ea1491cf)"
      ]
    },
    {
      "cell_type": "code",
      "source": [
        "## TYPE YOUR CODE for task 3 here:\n",
        "!unzip \"/content/drive/MyDrive/Data FPT/Old dataset/image-classification.zip\""
      ],
      "metadata": {
        "id": "XjikkypWZQKt",
        "outputId": "9ee26240-5952-49fb-dea4-9e8dc3c21f8d",
        "colab": {
          "base_uri": "https://localhost:8080/"
        }
      },
      "execution_count": null,
      "outputs": [
        {
          "output_type": "stream",
          "name": "stdout",
          "text": [
            "Archive:  /content/drive/MyDrive/Data FPT/Old dataset/image-classification.zip\n",
            "replace seg_pred/seg_pred/10004.jpg? [y]es, [n]o, [A]ll, [N]one, [r]ename: "
          ]
        }
      ]
    },
    {
      "cell_type": "markdown",
      "metadata": {
        "id": "_JH2R1h0_mld"
      },
      "source": [
        "# II. Load the data.\n",
        "\n",
        "## About dataset.\n",
        "This is image data of Natural Scenes around the world.\n",
        "This Data contains around 25k images of size 150x150 distributed under 6 categories. {'buildings' -> 0, 'forest' -> 1, 'glacier' -> 2, 'mountain' -> 3, 'sea' -> 4, 'street' -> 5 }\n",
        "\n",
        "The Train, Test and Prediction data is separated in each zip files. There are around 14k images in Train, 3k in Test.\n",
        "\n",
        "\n",
        "Now, We need to prepare our data to feed into the model. There is a builtin method in Keras that can extract your images from folder.\n",
        "\n",
        "Following is the gernalized functions used to extract data from the directory."
      ]
    },
    {
      "cell_type": "code",
      "metadata": {
        "id": "c6MhtFZ6-h8U"
      },
      "source": [
        "# Here's our 6 categories that we have to classify.\n",
        "class_names = ['buildings', 'forest', 'glacier', 'mountain', 'sea', 'street']\n",
        "class_names_label = {'buildings': 0,\n",
        "                    'forest' : 1,\n",
        "                    'glacier' : 2,\n",
        "                    'mountain' : 3,\n",
        "                    'sea' : 4,\n",
        "                    'street' : 5\n",
        "                    }\n",
        "nb_classes = 6"
      ],
      "execution_count": null,
      "outputs": []
    },
    {
      "cell_type": "markdown",
      "metadata": {
        "id": "spNB1ri1ibxo"
      },
      "source": [
        "## Loading the Data\n",
        "\n",
        "**Task 4:** We have to write a load_data function that load the training and test data ( which contain images and the labels) from the folder.\n",
        "\n",
        "* **Load_data** function return **train_set** and **test_set**. Each set contains **images and labels**.\n",
        "* Apply 2 augmentation transformations (**shear_range** = 0.2, **zoom_range** = 0.2), shuffle with seed = 8 and rescaling function( to [0, 1]) to **train_set.**\n",
        "* Apply rescaling funtion to [0, 1]  to **test_set**, no shuffle.\n",
        "* Batch size = 32.\n",
        "\n",
        "\n",
        "\n",
        "[*Hint.*](https://keras.io/preprocessing/image/)\n"
      ]
    },
    {
      "cell_type": "code",
      "source": [
        "def load_data(data_directories):\n",
        "  batch_size = 32\n",
        "\n",
        "# this is the augmentation configuration we will use for training\n",
        "  train_datagen = ImageDataGenerator(\n",
        "        rescale=1./255,\n",
        "        shear_range=0.2,\n",
        "        zoom_range=0.2,\n",
        "        horizontal_flip=True)\n",
        "\n",
        "# this is the augmentation configuration we will use for testing:\n",
        "# only rescaling\n",
        "  test_datagen = ImageDataGenerator(rescale=1./255)\n",
        "\n",
        "# this is a generator that will read pictures found in\n",
        "# subfolers of 'data/train', and indefinitely generate\n",
        "# batches of augmented image data\n",
        "  train_generator = train_datagen.flow_from_directory(\n",
        "        data_directories[0],  # this is the target directory\n",
        "        target_size=(32, 32),  # all images will be resized to 150x150\n",
        "        batch_size=batch_size,\n",
        "        class_mode = \"categorical\")  # since we use binary_crossentropy loss, we need binary labels\n",
        "\n",
        "# this is a similar generator, for validation data\n",
        "  validation_generator = test_datagen.flow_from_directory(\n",
        "         data_directories[1],\n",
        "        target_size=(32,32),\n",
        "        batch_size=batch_size,\n",
        "        class_mode = \"categorical\")\n",
        "  \n",
        "  return train_generator, validation_generator\n",
        "\n",
        "\n",
        "data_directories = ['/content/seg_train/seg_train', '/content/seg_test/seg_test/']\n",
        "train_ds, test_ds = load_data(data_directories)"
      ],
      "metadata": {
        "colab": {
          "base_uri": "https://localhost:8080/"
        },
        "id": "7rMUbq3QmdJN",
        "outputId": "a2266a3a-7ad5-451c-dc0f-65ad664d9a13"
      },
      "execution_count": null,
      "outputs": [
        {
          "output_type": "stream",
          "name": "stdout",
          "text": [
            "Found 14034 images belonging to 6 classes.\n",
            "Found 3000 images belonging to 6 classes.\n"
          ]
        }
      ]
    },
    {
      "cell_type": "code",
      "source": [],
      "metadata": {
        "id": "-RWaCHzwop5o"
      },
      "execution_count": null,
      "outputs": []
    },
    {
      "cell_type": "markdown",
      "metadata": {
        "id": "TWPF8h4yqt46"
      },
      "source": [
        "## Let's explore the dataset.\n",
        "We can, for example, ask ourselves:\n",
        "\n",
        "* How many training and testing examples do we have ?\n",
        "* What is the size of the images ?\n",
        "* What is the proportion of each observed category ?\n",
        "\n",
        "As you see, The Training data is in shape of (Number of Training Images, Width of image, Height of image, Channel of image). This shape is very important. If you didnot resize the images to same size. It should be (No. of images,) shape. So, using this shape you cant feed the images to the model.\n"
      ]
    },
    {
      "cell_type": "markdown",
      "metadata": {
        "id": "yUrZB2T3iznG"
      },
      "source": [
        "**Task 5:** Print out:\n",
        "\n",
        "*  Number of training examples.\n",
        "*  Number of testing examples.\n",
        "* Size of each image.\n",
        "\n"
      ]
    },
    {
      "cell_type": "code",
      "source": [
        "from glob import glob\n",
        "import pathlib"
      ],
      "metadata": {
        "id": "cS75G8RxgdRK"
      },
      "execution_count": null,
      "outputs": []
    },
    {
      "cell_type": "code",
      "metadata": {
        "id": "ksffawo5jkWW",
        "colab": {
          "base_uri": "https://localhost:8080/"
        },
        "outputId": "731940f8-f626-4515-f3e2-4dfe004e882b"
      },
      "source": [
        "## TYPE YOUR CODE for task 5 here:\n",
        "train_dir = pathlib.Path(\"/content/seg_train/seg_train\")\n",
        "print(\"The number of image - Training\", len(list(train_dir.glob('*/*.jpg'))))\n",
        "test_dir = pathlib.Path(\"/content/seg_test/seg_test\")\n",
        "print(\"The number of image - Testing\", len(list(test_dir.glob(\"*/*.jpg\"))))\n",
        "\n",
        "for image_batchs, labels_batch in train_ds:\n",
        "  print(\"Size of image:{}\".format(image_batchs.shape))\n",
        "  print(\"Size of image;{}\".format(labels_batch.shape))\n",
        "  break"
      ],
      "execution_count": null,
      "outputs": [
        {
          "output_type": "stream",
          "name": "stdout",
          "text": [
            "The number of image - Training 14034\n",
            "The number of image - Testing 3000\n",
            "Size of image:(32, 32, 32, 3)\n",
            "Size of image;(32, 6)\n"
          ]
        }
      ]
    },
    {
      "cell_type": "markdown",
      "metadata": {
        "id": "7dbcX9zvk1XJ"
      },
      "source": [
        "**Task 6:** Plot a pie chart of the proportion of each class.\n",
        "You need to show the name and proportion of each class on the pie chart.\n",
        "\n",
        "*Hint:* [plot.pie](https://matplotlib.org/3.1.1/gallery/pie_and_polar_charts/pie_features.html#sphx-glr-gallery-pie-and-polar-charts-pie-features-py)"
      ]
    },
    {
      "cell_type": "code",
      "source": [
        "number = []\n",
        "for i in class_names:\n",
        "  path = \"/content/seg_train/seg_train/\" + i\n",
        "  number.append(len(os.listdir(path)))"
      ],
      "metadata": {
        "id": "edKeTTGuX0Cg"
      },
      "execution_count": null,
      "outputs": []
    },
    {
      "cell_type": "code",
      "metadata": {
        "id": "dfxrhiOwtUuK",
        "colab": {
          "base_uri": "https://localhost:8080/",
          "height": 265
        },
        "outputId": "a6256194-4d39-4a1b-d62c-a1f7b9e21373"
      },
      "source": [
        "import os\n",
        "import matplotlib.pyplot as plt\n",
        "\n",
        "def plot_pie(train_dataset, class_names):\n",
        "    ## TYPE YOUR CODE for task 6 here:\n",
        "    number = []\n",
        "    for i in class_names:\n",
        "      path = \"/content/seg_train/seg_train/\" + i\n",
        "      number.append(len(os.listdir(path)))\n",
        "\n",
        "    fig1, ax1 = plt.subplots()\n",
        "    ax1.pie(number, labels=class_names, autopct='%1.1f%%',\n",
        "        shadow=True, startangle=90)\n",
        "    ax1.axis('equal')\n",
        "    return ax1\n",
        "\n",
        "plot_pie(train_ds, class_names)"
      ],
      "execution_count": null,
      "outputs": [
        {
          "output_type": "execute_result",
          "data": {
            "text/plain": [
              "<matplotlib.axes._subplots.AxesSubplot at 0x7f289e34e490>"
            ]
          },
          "metadata": {},
          "execution_count": 12
        },
        {
          "output_type": "display_data",
          "data": {
            "text/plain": [
              "<Figure size 432x288 with 1 Axes>"
            ],
            "image/png": "[encoded data removed]"
          },
          "metadata": {}
        }
      ]
    },
    {
      "cell_type": "markdown",
      "metadata": {
        "id": "P6KyznQ4uYGQ"
      },
      "source": [
        "**Task 7**: Display the 36 random images from the training set.\n",
        "\n",
        "* Each class contain 6 random images.\n",
        "* Bellow the image, show the class it belongs to.\n",
        "\n",
        "*Hint*: [plot.imshow](https://matplotlib.org/3.1.0/gallery/images_contours_and_fields/image_demo.html)"
      ]
    },
    {
      "cell_type": "code",
      "metadata": {
        "id": "NX5cfn3muWeg"
      },
      "source": [
        "# def visualize_image(train_directory):\n",
        "#     ## TYPE YOUR CODE for task 7 here:\n",
        "#     plt.figure(figsize = (15,15))\n",
        "#     for images, labels in train_ds:\n",
        "#       for i in range(36):\n",
        "#         try:\n",
        "#           ax = plt.subplot(6,6,i+1)\n",
        "#           plt.imshow(images[i].numpy().astype(\"uint8\"))\n",
        "#           plt.title(class_names[labels[i]])\n",
        "#           plt.axis(\"off\")\n",
        "#         except:\n",
        "#           pass\n",
        "\n",
        "# train_directory = 'seg_train/seg_train/'\n",
        "# visualize_image(train_directory)"
      ],
      "execution_count": null,
      "outputs": []
    },
    {
      "cell_type": "markdown",
      "metadata": {
        "id": "1X_f41h0y_0a"
      },
      "source": [
        "# III. Modelling\n",
        "## There are some steps we need to finish:\n",
        "* Build the model.\n",
        "\n",
        "* Compile the model.\n",
        "\n",
        "* Train / fit the data to the model.\n",
        "\n",
        "* Evaluate the model on the testing set.\n"
      ]
    },
    {
      "cell_type": "markdown",
      "metadata": {
        "id": "dNa9tzaNzwgq"
      },
      "source": [
        "## Build the model\n",
        "We can build an easy model composed of different layers such as:\n",
        "\n",
        "* [Conv2D](https://www.tensorflow.org/api_docs/python/tf/keras/layers/Conv2D).\n",
        "\n",
        "* [MaxPooling2D:](https://www.tensorflow.org/api_docs/python/tf/keras/layers/MaxPool2D) The images get smaller sized.\n",
        "\n",
        "* [Flatten:](https://www.tensorflow.org/api_docs/python/tf/keras/layers/Flatten) Transforms the format of the images from a 2d-array to a 1d-array of 150 150 3 pixel values.\n",
        "\n",
        "* [Relu:](https://www.tensorflow.org/api_docs/python/tf/keras/layers/ReLU) given a value x, returns max(x, 0).\n",
        "\n",
        "* [Softmax:](https://www.tensorflow.org/api_docs/python/tf/keras/layers/Softmax) 6 neurons, probability that the image belongs to one of the classes.\n",
        "\n",
        "* [Dense.](https://www.tensorflow.org/api_docs/python/tf/keras/layers/Dense)\n",
        "\n",
        "* [Dropout.](https://www.tensorflow.org/api_docs/python/tf/keras/layers/Dropout)\n",
        "\n",
        "**Task 8**: Buil a model, which contain these layers:\n",
        "- Layer 1: Conv2D, 8 filters, kernel_size = (3, 3), activation = 'relu', input_shape = image_shape, same padding.\n",
        "- Layer 2: Conv2D, 16 filters, kernel_size = (3, 3), activation = 'relu', same padding.\n",
        "- Layer 3: MaxPooling2D, pooling size = (2, 2).\n",
        "- Layer 4: Conv2D, 32 filters, kernel_size = (3, 3), activation = 'relu', same padding.\n",
        "- Layer 5: Conv2D, 64 filters, kernel_size = (3, 3), activation = 'relu', same padding.\n",
        "- Layer 6: MaxPooling2D, pooling size = (3, 3).\n",
        "- Layer 7: Conv2D, 128 filters, kernel_size = (3, 3), activation = 'relu', same padding.\n",
        "- Layer 8: Conv2D, 256 filters, kernel_size = (3, 3), activation = 'relu', same padding.\n",
        "- Layer 9: MaxPooling2D, pooling size = (5, 5).\n",
        "- Layer 10: Flatten.\n",
        "- Layer 11: Dense with number of unit = 100, activation = 'relu'.\n",
        "- Layer 12: Dropout with probs = 0.5.\n",
        "- Layer 13: Final dense with number of unit = number of class, activation = 'softmax'.\n",
        "\n",
        "\n",
        "\n",
        "All the Conv2D and Dense layers are followed by a Batch Norm layer with customized configuration excepts from the last dense layer:\n",
        "\n",
        "- momentum=0.95 \n",
        "- epsilon=0.005\n",
        "- beta_initializer = RandomNormal with mean = 0 and stddev = 0.05\n",
        "- gammaa_initializer = Constant with value = 0.9\n"
      ]
    },
    {
      "cell_type": "code",
      "metadata": {
        "id": "E2QojakSzvPN"
      },
      "source": [
        "def create_model():\n",
        "    '''\n",
        "    Return: \n",
        "        CNN model with 13 layers.\n",
        "    '''\n",
        "    model = tf.keras.Sequential([\n",
        "        tf.keras.layers.Conv2D(8,  (3,3), activation = \"relu\", input_shape = image_batchs.shape[1:], padding = \"same\"),\n",
        "        tf.keras.layers.Conv2D(16, (3,3), activation = \"relu\", padding = \"same\"),\n",
        "        tf.keras.layers.Conv2D(32, (3,3), activation = \"relu\", padding = \"same\"),\n",
        "        tf.keras.layers.Conv2D(64, (3,3), activation = \"relu\", padding = \"same\"),\n",
        "        tf.keras.layers.Conv2D(128,(3,3), activation = \"relu\", padding = \"same\"),\n",
        "        tf.keras.layers.Conv2D(256,(3,3), activation = \"relu\", padding = \"same\"),\n",
        "        tf.keras.layers.MaxPooling2D(pool_size = (5,5)),\n",
        "        tf.keras.layers.Flatten(),\n",
        "        tf.keras.layers.Dense(units = 100, activation = \"relu\"),\n",
        "        tf.keras.layers.Dropout(0.5),\n",
        "        tf.keras.layers.Dense(6, activation = \"softmax\")\n",
        "        ])\n",
        "    ## TYPE YOUR CODE for task 8 here:\n",
        "\n",
        "    return model\n",
        "model = create_model()"
      ],
      "execution_count": null,
      "outputs": []
    },
    {
      "cell_type": "markdown",
      "metadata": {
        "id": "XEbGFY57C-RM"
      },
      "source": [
        "**Task 9:** Compile the model. Then print out the model summary.\n",
        "* [Compile](https://keras.io/models/model/#compile) the model with Adam Optimizaer, lr = 1e-4, categorical-crossentroy loss and \"[F1 score](https://github.com/tensorflow/addons/issues/825)\" as metric.\n",
        "* Print out the model F1."
      ]
    },
    {
      "cell_type": "code",
      "metadata": {
        "id": "aEYJy8NxyjVU",
        "outputId": "7f2bdec6-5e9a-49a2-d3ea-6b1ecd71834e",
        "colab": {
          "base_uri": "https://localhost:8080/"
        }
      },
      "source": [
        "from keras.callbacks import Callback, ModelCheckpoint\n",
        "from keras.models import Sequential, load_model\n",
        "from keras.layers import Dense, Dropout\n",
        "from keras.wrappers.scikit_learn import KerasClassifier\n",
        "import keras.backend as K\n",
        "\n",
        "def get_f1(y_true, y_pred):\n",
        "  true_positives = K.sum(K.round(K.clip(y_true*y_pred,0,1)))\n",
        "  possible_positives = K.sum(K.round(K.clip(y_true,0,1)))\n",
        "  predicted_positves = K.sum(K.round(K.clip(y_pred,0,1)))\n",
        "  precision = true_positives/ (predicted_positves + K.epsilon())\n",
        "  recall    = true_positives/ (possible_positives + K.epsilon())\n",
        "  f1_val    =  2*(precision*recall)/(precision + recall + K.epsilon())\n",
        "  return f1_val\n",
        "\n",
        "def optimize(model):\n",
        "    '''\n",
        "    Input: \n",
        "        Model.\n",
        "    Return: \n",
        "        Complied model.\n",
        "    '''\n",
        "    ## TYPE YOUR CODE for task 9 here:\n",
        "    model.compile(optimizer=Optimizer.Adam(lr=0.0001),loss='categorical_crossentropy',metrics=['accuracy',get_f1]) # model compile\n",
        "    return model\n",
        "\n",
        "model = optimize(model)\n",
        "print(model.summary())"
      ],
      "execution_count": null,
      "outputs": [
        {
          "output_type": "stream",
          "name": "stdout",
          "text": [
            "Model: \"sequential\"\n",
            "_________________________________________________________________\n",
            "Layer (type)                 Output Shape              Param #   \n",
            "=================================================================\n",
            "conv2d (Conv2D)              (None, 32, 32, 8)         224       \n",
            "_________________________________________________________________\n",
            "conv2d_1 (Conv2D)            (None, 32, 32, 16)        1168      \n",
            "_________________________________________________________________\n",
            "conv2d_2 (Conv2D)            (None, 32, 32, 32)        4640      \n",
            "_________________________________________________________________\n",
            "conv2d_3 (Conv2D)            (None, 32, 32, 64)        18496     \n",
            "_________________________________________________________________\n",
            "conv2d_4 (Conv2D)            (None, 32, 32, 128)       73856     \n",
            "_________________________________________________________________\n",
            "conv2d_5 (Conv2D)            (None, 32, 32, 256)       295168    \n",
            "_________________________________________________________________\n",
            "max_pooling2d (MaxPooling2D) (None, 6, 6, 256)         0         \n",
            "_________________________________________________________________\n",
            "flatten (Flatten)            (None, 9216)              0         \n",
            "_________________________________________________________________\n",
            "dense (Dense)                (None, 100)               921700    \n",
            "_________________________________________________________________\n",
            "dropout (Dropout)            (None, 100)               0         \n",
            "_________________________________________________________________\n",
            "dense_1 (Dense)              (None, 6)                 606       \n",
            "=================================================================\n",
            "Total params: 1,315,858\n",
            "Trainable params: 1,315,858\n",
            "Non-trainable params: 0\n",
            "_________________________________________________________________\n",
            "None\n"
          ]
        },
        {
          "output_type": "stream",
          "name": "stderr",
          "text": [
            "/usr/local/lib/python3.7/dist-packages/keras/optimizer_v2/optimizer_v2.py:356: UserWarning: The `lr` argument is deprecated, use `learning_rate` instead.\n",
            "  \"The `lr` argument is deprecated, use `learning_rate` instead.\")\n"
          ]
        }
      ]
    },
    {
      "cell_type": "markdown",
      "metadata": {
        "id": "Vhe2TN2Jb91G"
      },
      "source": [
        "**Task 10**: Setup callback.\n",
        "* Create the [tensorboard callback](https://www.tensorflow.org/tensorboard/tensorboard_in_notebooks) to save the logs.\n",
        "* Create the [checkpoint callback](https://machinelearningmastery.com/check-point-deep-learning-models-keras/) to save the checkpoint with the best F1 after each epoch. \n",
        "* Create the [ReduceLROnPlateau callback](https://www.tensorflow.org/api_docs/python/tf/keras/callbacks/ReduceLROnPlateau) to reduce learning rate when the validation F1 score has stopped improving with the factor of 0.1 and patience = 2."
      ]
    },
    {
      "cell_type": "code",
      "source": [
        "from keras.callbacks import Callback, ModelCheckpoint\n",
        "from keras.models import Sequential, load_model\n",
        "from keras.layers import Dense, Dropout\n",
        "from keras.wrappers.scikit_learn import KerasClassifier\n",
        "import keras.backend as K\n",
        "\n",
        "\n",
        "def get_call_backs(path, logs_name):\n",
        "  filepath = \"/content/\" + path\n",
        "  checkpoint = ModelCheckpoint(filepath = filepath,\n",
        "                               monitor = \"val_f1_score\",\n",
        "                               verbose = 1,\n",
        "                               save_best_only = False,\n",
        "                               save_weights_only = True,\n",
        "                               mode = max)\n",
        "  lr_reducer = tf.keras.callbacks.ReduceLROnPlateau(factor = 0.1,\n",
        "                                                    patience = 2,\n",
        "                                                    min_lr = 1e-4)\n",
        "  log = TensorBoard(log_dir = logs_name)\n",
        "  return [lr_reducer, checkpoint, log]"
      ],
      "metadata": {
        "id": "OkHLwkDZJkBY"
      },
      "execution_count": null,
      "outputs": []
    },
    {
      "cell_type": "code",
      "metadata": {
        "id": "EaFgS5AcTPx5",
        "colab": {
          "base_uri": "https://localhost:8080/"
        },
        "outputId": "82f7a4cd-6e27-47b1-f732-330f2cd9619f"
      },
      "source": [
        "def callback_model(checkpoint_name, logs_name):\n",
        "    '''\n",
        "    Input: \n",
        "        Best checkpoint name, logs name.\n",
        "    Return: \n",
        "        Callback list, which contains tensorboard callback and checkpoint callback.\n",
        "    '''\n",
        "    ## TYPE YOUR CODE for task 10 here:\n",
        "    callbacks_list = get_call_backs(checkpoint_name, logs_name)\n",
        "    return callbacks_list\n",
        "\n",
        "checkpoint_name = 'weights.best.hdf5'\n",
        "logs_name = 'training_logs'\n",
        "callback_model(checkpoint_name, logs_name)"
      ],
      "execution_count": null,
      "outputs": [
        {
          "output_type": "stream",
          "name": "stderr",
          "text": [
            "WARNING:tensorflow:ModelCheckpoint mode <built-in function max> is unknown, fallback to auto mode.\n"
          ]
        },
        {
          "output_type": "execute_result",
          "data": {
            "text/plain": [
              "[<keras.callbacks.ReduceLROnPlateau at 0x7f280ddf4390>,\n",
              " <keras.callbacks.ModelCheckpoint at 0x7f280d985610>,\n",
              " <keras.callbacks.TensorBoard at 0x7f28b25c90d0>]"
            ]
          },
          "metadata": {},
          "execution_count": 17
        }
      ]
    },
    {
      "cell_type": "markdown",
      "metadata": {
        "id": "ja6cGEMKLcWe"
      },
      "source": [
        "**Task 11:** Train the model.\n",
        "\n",
        "**Requirement:** \n",
        "* Train the model with 10 epochs, generator = train_dataset, validataion_data = test_dataset.\n",
        "* Return the model with best-checkpoint weights.\n",
        "\n",
        "*Hint:*\n",
        "[Fit](https://keras.io/models/sequential/#fit_generator) the model first, then reload the model ([load_model function](https://keras.io/getting-started/faq/)) with best-checkpoint weights."
      ]
    },
    {
      "cell_type": "code",
      "source": [
        "batch_size = 8\n",
        "model.fit_generator(\n",
        "        train_ds,\n",
        "        steps_per_epoch  = 2000 // batch_size,\n",
        "        epochs= 10,\n",
        "        validation_data  = test_ds,\n",
        "        validation_steps = 800 // batch_size)\n",
        "\n",
        "model.save_weights('first_try.h5') "
      ],
      "metadata": {
        "colab": {
          "base_uri": "https://localhost:8080/"
        },
        "id": "s8nhIYqKkSqo",
        "outputId": "85ee4ad6-2b5a-4140-ab8c-c574c826238b"
      },
      "execution_count": null,
      "outputs": [
        {
          "output_type": "stream",
          "name": "stderr",
          "text": [
            "/usr/local/lib/python3.7/dist-packages/keras/engine/training.py:1972: UserWarning: `Model.fit_generator` is deprecated and will be removed in a future version. Please use `Model.fit`, which supports generators.\n",
            "  warnings.warn('`Model.fit_generator` is deprecated and '\n"
          ]
        },
        {
          "output_type": "stream",
          "name": "stdout",
          "text": [
            "Epoch 1/10\n",
            "250/250 [==============================] - 13s 47ms/step - loss: 1.0758 - accuracy: 0.5780 - get_f1: 0.5065\n",
            "Epoch 2/10\n",
            "250/250 [==============================] - 12s 46ms/step - loss: 1.0257 - accuracy: 0.6094 - get_f1: 0.5356\n",
            "Epoch 3/10\n",
            "250/250 [==============================] - 13s 52ms/step - loss: 0.9735 - accuracy: 0.6325 - get_f1: 0.5760\n",
            "Epoch 4/10\n",
            "250/250 [==============================] - 12s 48ms/step - loss: 0.9427 - accuracy: 0.6429 - get_f1: 0.5905\n",
            "Epoch 5/10\n",
            "250/250 [==============================] - 12s 48ms/step - loss: 0.9147 - accuracy: 0.6634 - get_f1: 0.6137\n",
            "Epoch 6/10\n",
            "250/250 [==============================] - 12s 47ms/step - loss: 0.9100 - accuracy: 0.6615 - get_f1: 0.6122\n",
            "Epoch 7/10\n",
            "250/250 [==============================] - 12s 47ms/step - loss: 0.8768 - accuracy: 0.6783 - get_f1: 0.6332\n",
            "Epoch 8/10\n",
            "250/250 [==============================] - 14s 55ms/step - loss: 0.8632 - accuracy: 0.6851 - get_f1: 0.6426\n",
            "Epoch 9/10\n",
            "250/250 [==============================] - 12s 46ms/step - loss: 0.8469 - accuracy: 0.6885 - get_f1: 0.6510\n",
            "Epoch 10/10\n",
            "250/250 [==============================] - 15s 61ms/step - loss: 0.8354 - accuracy: 0.6947 - get_f1: 0.6612\n"
          ]
        }
      ]
    },
    {
      "cell_type": "markdown",
      "metadata": {
        "id": "F3FD0BZBfQjm"
      },
      "source": [
        "**Task 12**: [Show the tensorboard](https://www.tensorflow.org/tensorboard/tensorboard_in_notebooks) in the notebook."
      ]
    },
    {
      "cell_type": "code",
      "metadata": {
        "id": "XntTCK1q4r7v",
        "colab": {
          "base_uri": "https://localhost:8080/"
        },
        "outputId": "d01b067e-3887-4d97-a955-051cfc6d6d85"
      },
      "source": [
        "## TYPE YOUR CODE for task 12 here:\n",
        "#!kill 685\n",
        "%tensorboard -- logdir logs"
      ],
      "execution_count": null,
      "outputs": [
        {
          "output_type": "stream",
          "name": "stderr",
          "text": [
            "UsageError: Line magic function `%tensorboard` not found.\n"
          ]
        }
      ]
    },
    {
      "cell_type": "markdown",
      "metadata": {
        "id": "4jX-z_NC3IW0"
      },
      "source": [
        "**Task 13:** Prediction on test set.\n",
        "* Complete the get_prediction_classes function.\n",
        "* Print out the test F1. "
      ]
    },
    {
      "cell_type": "code",
      "metadata": {
        "id": "Bj4jGYrO2Nvo",
        "colab": {
          "base_uri": "https://localhost:8080/"
        },
        "outputId": "4083c77a-c034-48b8-aa39-49cc7e69509f"
      },
      "source": [
        "def get_prediction_classes(model, prediction_dataset):\n",
        "    ## TYPE YOUR CODE for task 13 here:\n",
        "    '''\n",
        "    Input: \n",
        "        Model and prediction dataset.\n",
        "    Return: \n",
        "        Prediction list and groundtrurth list with predicted classes.\n",
        "    '''\n",
        "    preds = model.predict(prediction_dataset)\n",
        "    groundtruth = np.argmax(preds, axis=1) \n",
        "    return preds, groundtruth\n",
        "preds, groundtruth = get_prediction_classes(model, test_ds)"
      ],
      "execution_count": null,
      "outputs": [
        {
          "output_type": "execute_result",
          "data": {
            "text/plain": [
              "array([3, 2, 5, ..., 2, 4, 1])"
            ]
          },
          "metadata": {},
          "execution_count": 27
        }
      ]
    },
    {
      "cell_type": "code",
      "source": [
        "groundtruth"
      ],
      "metadata": {
        "colab": {
          "base_uri": "https://localhost:8080/"
        },
        "id": "Rh_z01T8yXgX",
        "outputId": "ba8b33d6-d1e9-4c16-c273-74cd5bb4d231"
      },
      "execution_count": null,
      "outputs": [
        {
          "output_type": "execute_result",
          "data": {
            "text/plain": [
              "array([3, 2, 5, ..., 2, 4, 1])"
            ]
          },
          "metadata": {},
          "execution_count": 55
        }
      ]
    },
    {
      "cell_type": "markdown",
      "metadata": {
        "id": "XFc16kTD3zTM"
      },
      "source": [
        "**Task 14:** Perform the predicted result on test set using confusion matrix.\n",
        "Remember to show the class name in the confusion matrix. "
      ]
    },
    {
      "cell_type": "code",
      "source": [
        "test_ds.labels"
      ],
      "metadata": {
        "colab": {
          "base_uri": "https://localhost:8080/"
        },
        "id": "cCnI0TzwxFBI",
        "outputId": "12847b7a-69bb-4a0d-c759-7dd8d3a608b2"
      },
      "execution_count": null,
      "outputs": [
        {
          "output_type": "execute_result",
          "data": {
            "text/plain": [
              "array([0, 0, 0, ..., 5, 5, 5], dtype=int32)"
            ]
          },
          "metadata": {},
          "execution_count": 47
        }
      ]
    },
    {
      "cell_type": "code",
      "source": [
        "from sklearn.metrics import ConfusionMatrixDisplay\n",
        "from sklearn.metrics import confusion_matrix\n",
        "import matplotlib.pyplot as plt\n",
        "import numpy as np\n",
        "\n",
        "\n",
        "y_pred = groundtruth\n",
        "y_test = test_ds.labels\n",
        "labels = list(test_ds.class_indices.keys())\n",
        "\n",
        "cm = confusion_matrix(y_test, y_pred)\n",
        "\n",
        "disp = ConfusionMatrixDisplay(confusion_matrix=cm, display_labels=labels)\n",
        "\n",
        "disp.plot(cmap=plt.cm.Blues)\n",
        "plt.show()"
      ],
      "metadata": {
        "colab": {
          "base_uri": "https://localhost:8080/",
          "height": 296
        },
        "id": "2XuZxU7DsSfO",
        "outputId": "fdbf29e2-bacd-4ad5-899c-8b65c2bb10c3"
      },
      "execution_count": null,
      "outputs": [
        {
          "output_type": "display_data",
          "data": {
            "text/plain": [
              "<Figure size 1080x1080 with 0 Axes>"
            ]
          },
          "metadata": {}
        },
        {
          "output_type": "display_data",
          "data": {
            "text/plain": [
              "<Figure size 432x288 with 2 Axes>"
            ],
            "image/png": "[encoded data removed]"
          },
          "metadata": {
            "needs_background": "light"
          }
        }
      ]
    },
    {
      "cell_type": "markdown",
      "metadata": {
        "id": "s4Op2HBLPiTC"
      },
      "source": [
        "**Task 15**: Model finetuning - fine tune the model using some of these approachs:\n",
        "* Increase max epochs, change batch size.\n",
        "* Play around with CNN, Dense and Dropoutlayers (add/# units/etc).\n",
        "* Increase data augmentation transformations.\n",
        "* Try to use a [pretrained model](https://www.tensorflow.org/api_docs/python/tf/keras/applications) on Keras.\n",
        "\n",
        "Requirement: The val_best_F1 should be higher than 87%."
      ]
    },
    {
      "cell_type": "code",
      "source": [],
      "metadata": {
        "id": "tSeRX1qXzR7K"
      },
      "execution_count": null,
      "outputs": []
    },
    {
      "cell_type": "code",
      "metadata": {
        "id": "M2EW8panwBMG"
      },
      "source": [
        "## TYPE YOUR CODE for task 15 here:\n",
        "batch_size = 8\n",
        "model.fit_generator(\n",
        "        train_ds,\n",
        "        steps_per_epoch  = 2000 // batch_size,\n",
        "        epochs= 10,\n",
        "        validation_data  = test_ds,\n",
        "        validation_steps = 800 // batch_size)"
      ],
      "execution_count": null,
      "outputs": []
    }
  ]
}