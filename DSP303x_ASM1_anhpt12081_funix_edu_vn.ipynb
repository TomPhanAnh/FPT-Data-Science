{
  "cells": [
    {
      "cell_type": "markdown",
      "metadata": {
        "id": "view-in-github",
        "colab_type": "text"
      },
      "source": [
        "<a href=\"https://colab.research.google.com/github/TomPhanAnh/FPT-Data-Science/blob/DSP303x_Machine-Learning/DSP303x_ASM1_anhpt12081_funix_edu_vn.ipynb\" target=\"_parent\"><img src=\"https://colab.research.google.com/assets/colab-badge.svg\" alt=\"Open In Colab\"/></a>"
      ]
    },
    {
      "cell_type": "markdown",
      "metadata": {
        "id": "xeq3pMIRIKnK"
      },
      "source": [
        "<h1 align=center><font size = 10> Linear Regression </font></h1>"
      ]
    },
    {
      "cell_type": "markdown",
      "metadata": {
        "id": "LjHFM2kAIKns"
      },
      "source": [
        "In this notebook, we try to practice the linear regression algorithm that we learned in this course.\n",
        "\n",
        "We load a dataset using Pandas library and apply the following algorithm, and find the best one for this specific dataset by accuracy evaluation methods.\n",
        "Lets first load required libraries:"
      ]
    },
    {
      "cell_type": "code",
      "execution_count": null,
      "metadata": {
        "id": "vgdDORwkIKnx"
      },
      "outputs": [],
      "source": [
        "import pandas as pd\n",
        "import numpy as np\n",
        "import matplotlib\n",
        "import matplotlib.pyplot as plt\n",
        "from mpl_toolkits.mplot3d import Axes3D\n",
        "\n",
        "matplotlib.style.use('ggplot') # Look Pretty"
      ]
    },
    {
      "cell_type": "markdown",
      "metadata": {
        "id": "0i6ipCJvIKn_"
      },
      "source": [
        "### A Convenience Function"
      ]
    },
    {
      "cell_type": "markdown",
      "metadata": {
        "id": "TWlCdM1HIKoB"
      },
      "source": [
        "This convenience method will take care of plotting your test observations, comparing them to the regression line, and displaying the R2 coefficient"
      ]
    },
    {
      "cell_type": "code",
      "execution_count": null,
      "metadata": {
        "id": "L8R7I3gfIKoC"
      },
      "outputs": [],
      "source": [
        "def drawLine(model, X_test, y_test, title, R2):\n",
        "    fig = plt.figure()\n",
        "    ax = fig.add_subplot(111)\n",
        "    ax.scatter(X_test, y_test, c='g', marker='o')\n",
        "    ax.plot(X_test, model.predict(X_test), color='orange', linewidth=1, alpha=0.7)\n",
        "\n",
        "    title += \" R2: \" + str(R2)\n",
        "    ax.set_title(title)\n",
        "    print(title)\n",
        "    print(\"Intercept(s): \", model.intercept_)\n",
        "\n",
        "    plt.show()"
      ]
    },
    {
      "cell_type": "code",
      "execution_count": null,
      "metadata": {
        "id": "A6RyHyaoIKoK"
      },
      "outputs": [],
      "source": [
        "def drawPlane(model, X_test, y_test, title, R2):\n",
        "    # This convenience method will take care of plotting your\n",
        "    # test observations, comparing them to the regression plane,\n",
        "    # and displaying the R2 coefficient\n",
        "    fig = plt.figure()\n",
        "    ax = Axes3D(fig)\n",
        "    ax.set_zlabel('prediction')\n",
        "\n",
        "    \n",
        "    # You might have passed in a DataFrame, a Series (slice),\n",
        "    # an NDArray, or a Python List... so let's keep it simple:\n",
        "    X_test = np.array(X_test)\n",
        "    col1 = X_test[:,0]\n",
        "    col2 = X_test[:,1]\n",
        "\n",
        "    \n",
        "    # Set up a Grid. We could have predicted on the actual\n",
        "    # col1, col2 values directly; but that would have generated\n",
        "    # a mesh with WAY too fine a grid, which would have detracted\n",
        "    # from the visualization\n",
        "    x_min, x_max = col1.min(), col1.max()\n",
        "    y_min, y_max = col2.min(), col2.max()\n",
        "    x = np.arange(x_min, x_max, (x_max-x_min) / 10)\n",
        "    y = np.arange(y_min, y_max, (y_max-y_min) / 10)\n",
        "    x, y = np.meshgrid(x, y)\n",
        "\n",
        "    \n",
        "    # Predict based on possible input values that span the domain\n",
        "    # of the x and y inputs:\n",
        "    z = model.predict(  np.c_[x.ravel(), y.ravel()]  )\n",
        "    z = z.reshape(x.shape)\n",
        "\n",
        "    \n",
        "    ax.scatter(col1, col2, y_test, c='g', marker='o')\n",
        "    ax.plot_wireframe(x, y, z, color='orange', alpha=0.7)\n",
        "\n",
        "    title += \" R2: \" + str(R2)\n",
        "    ax.set_title(title)\n",
        "    print(title)\n",
        "    print(\"Intercept(s): \", model.intercept_)\n",
        "\n",
        "    plt.show()"
      ]
    },
    {
      "cell_type": "markdown",
      "metadata": {
        "id": "_Li4XOmpIKod"
      },
      "source": [
        "# Mandatory part (85%  of the total score)"
      ]
    },
    {
      "cell_type": "markdown",
      "metadata": {
        "id": "zT7hZrQ9IKog"
      },
      "source": [
        "## About dataset"
      ]
    },
    {
      "cell_type": "markdown",
      "metadata": {
        "collapsed": true,
        "id": "pWGBWLfnIKoi"
      },
      "source": [
        "This project relates to the College data set, which can be found in the file College.csv in the data folder. It contains a number of variables for 777 different universities and colleges in the US. The variables are:\n",
        "\n",
        "**Private** : Public/private indicator\n",
        "\n",
        "**Apps** : Number of applications received\n",
        "\n",
        "**Accept** : Number of applicants accepted\n",
        "\n",
        "**Enroll** : Number of new students enrolled\n",
        "\n",
        "**Top10perc** : New students from the top 10% of high school class\n",
        "\n",
        "**Top25perc** : New students from the top 25% of high school class\n",
        "\n",
        "**F.Undergrad** : Number of full-time undergraduates\n",
        "\n",
        "**P.Undergrad** : Number of part-time undergraduates\n",
        "\n",
        "**Outstate** : Out-of-state tuition\n",
        "\n",
        "**Room.Board** : Room and board costs\n",
        "\n",
        "**Books** : Estimated book costs\n",
        "\n",
        "**Personal** : Estimated personal spending\n",
        "\n",
        "**PhD** : Percent of faculty with Ph.D.’s\n",
        "\n",
        "**Terminal** : Percent of faculty with a terminal degree\n",
        "\n",
        "**S.F.Ratio** : Student/faculty ratio\n",
        "\n",
        "**perc.alumni** : Percent of alumni who donate\n",
        "\n",
        "**Expend** : Instructional expenditure per student\n",
        "\n",
        "**Grad.Rate** : Graduation rate"
      ]
    },
    {
      "cell_type": "markdown",
      "metadata": {
        "id": "c35zRlIJIKok"
      },
      "source": [
        "## The problem:"
      ]
    },
    {
      "cell_type": "markdown",
      "metadata": {
        "id": "THBnqaCIIKom"
      },
      "source": [
        "The type of dataset and problem is a classic regression. Given a number of elements all with certain characteristics (features), we want to build a machine learning model to identify the **number of people accepted**.\n",
        "\n",
        "To solve the problem we will have to analyze the data, do any required transformation and normalization, apply a machine learning algorithm, train a model, check the performance of the trained model and iterate until we find the most performant for our type of dataset."
      ]
    },
    {
      "cell_type": "markdown",
      "metadata": {
        "id": "v9hG45wDIKoo"
      },
      "source": [
        "First, as is your habit, inspect your dataset in a text editor, or spread sheet application. The first thing you should notice is that the first column is both unique (the name of each) college, as well as unlabeled. This is a HINT that it must be the index column. If you do not indicate to Pandas that you already have an index column, it'll create one for you, which would be undesirable since you already have one. \n",
        "\n",
        "**1. Review the `.read_csv()` documentation and discern how to load up a dataframe while indicating which existing column is to be taken as an index. Then, load up the College dataset into a variable called `X`:**"
      ]
    },
    {
      "cell_type": "code",
      "execution_count": null,
      "metadata": {
        "id": "sZYdUuCFe4nI"
      },
      "outputs": [],
      "source": [
        "x = pd.read_csv('sample_data/College.csv')"
      ]
    },
    {
      "cell_type": "code",
      "execution_count": null,
      "metadata": {
        "colab": {
          "base_uri": "https://localhost:8080/",
          "height": 426
        },
        "id": "4bEOzMGufDGM",
        "outputId": "9f5068df-6eec-45b1-d67b-a10fd7ca9e76"
      },
      "outputs": [
        {
          "output_type": "execute_result",
          "data": {
            "text/plain": [
              "                     Unnamed: 0 Private  Apps  Accept  Enroll  Top10perc  \\\n",
              "0  Abilene Christian University     Yes  1660    1232     721         23   \n",
              "1            Adelphi University     Yes  2186    1924     512         16   \n",
              "2                Adrian College     Yes  1428    1097     336         22   \n",
              "3           Agnes Scott College     Yes   417     349     137         60   \n",
              "4     Alaska Pacific University     Yes   193     146      55         16   \n",
              "\n",
              "   Top25perc  F.Undergrad  P.Undergrad  Outstate  Room.Board  Books  Personal  \\\n",
              "0         52         2885          537      7440        3300    450      2200   \n",
              "1         29         2683         1227     12280        6450    750      1500   \n",
              "2         50         1036           99     11250        3750    400      1165   \n",
              "3         89          510           63     12960        5450    450       875   \n",
              "4         44          249          869      7560        4120    800      1500   \n",
              "\n",
              "   PhD  Terminal  S.F.Ratio  perc.alumni  Expend  Grad.Rate  \n",
              "0   70        78       18.1           12    7041         60  \n",
              "1   29        30       12.2           16   10527         56  \n",
              "2   53        66       12.9           30    8735         54  \n",
              "3   92        97        7.7           37   19016         59  \n",
              "4   76        72       11.9            2   10922         15  "
            ],
            "text/html": [
              "\n",
              "  <div id=\"df-faaa79f4-20b1-4902-9274-29f4e4d47d00\">\n",
              "    <div class=\"colab-df-container\">\n",
              "      <div>\n",
              "<style scoped>\n",
              "    .dataframe tbody tr th:only-of-type {\n",
              "        vertical-align: middle;\n",
              "    }\n",
              "\n",
              "    .dataframe tbody tr th {\n",
              "        vertical-align: top;\n",
              "    }\n",
              "\n",
              "    .dataframe thead th {\n",
              "        text-align: right;\n",
              "    }\n",
              "</style>\n",
              "<table border=\"1\" class=\"dataframe\">\n",
              "  <thead>\n",
              "    <tr style=\"text-align: right;\">\n",
              "      <th></th>\n",
              "      <th>Unnamed: 0</th>\n",
              "      <th>Private</th>\n",
              "      <th>Apps</th>\n",
              "      <th>Accept</th>\n",
              "      <th>Enroll</th>\n",
              "      <th>Top10perc</th>\n",
              "      <th>Top25perc</th>\n",
              "      <th>F.Undergrad</th>\n",
              "      <th>P.Undergrad</th>\n",
              "      <th>Outstate</th>\n",
              "      <th>Room.Board</th>\n",
              "      <th>Books</th>\n",
              "      <th>Personal</th>\n",
              "      <th>PhD</th>\n",
              "      <th>Terminal</th>\n",
              "      <th>S.F.Ratio</th>\n",
              "      <th>perc.alumni</th>\n",
              "      <th>Expend</th>\n",
              "      <th>Grad.Rate</th>\n",
              "    </tr>\n",
              "  </thead>\n",
              "  <tbody>\n",
              "    <tr>\n",
              "      <th>0</th>\n",
              "      <td>Abilene Christian University</td>\n",
              "      <td>Yes</td>\n",
              "      <td>1660</td>\n",
              "      <td>1232</td>\n",
              "      <td>721</td>\n",
              "      <td>23</td>\n",
              "      <td>52</td>\n",
              "      <td>2885</td>\n",
              "      <td>537</td>\n",
              "      <td>7440</td>\n",
              "      <td>3300</td>\n",
              "      <td>450</td>\n",
              "      <td>2200</td>\n",
              "      <td>70</td>\n",
              "      <td>78</td>\n",
              "      <td>18.1</td>\n",
              "      <td>12</td>\n",
              "      <td>7041</td>\n",
              "      <td>60</td>\n",
              "    </tr>\n",
              "    <tr>\n",
              "      <th>1</th>\n",
              "      <td>Adelphi University</td>\n",
              "      <td>Yes</td>\n",
              "      <td>2186</td>\n",
              "      <td>1924</td>\n",
              "      <td>512</td>\n",
              "      <td>16</td>\n",
              "      <td>29</td>\n",
              "      <td>2683</td>\n",
              "      <td>1227</td>\n",
              "      <td>12280</td>\n",
              "      <td>6450</td>\n",
              "      <td>750</td>\n",
              "      <td>1500</td>\n",
              "      <td>29</td>\n",
              "      <td>30</td>\n",
              "      <td>12.2</td>\n",
              "      <td>16</td>\n",
              "      <td>10527</td>\n",
              "      <td>56</td>\n",
              "    </tr>\n",
              "    <tr>\n",
              "      <th>2</th>\n",
              "      <td>Adrian College</td>\n",
              "      <td>Yes</td>\n",
              "      <td>1428</td>\n",
              "      <td>1097</td>\n",
              "      <td>336</td>\n",
              "      <td>22</td>\n",
              "      <td>50</td>\n",
              "      <td>1036</td>\n",
              "      <td>99</td>\n",
              "      <td>11250</td>\n",
              "      <td>3750</td>\n",
              "      <td>400</td>\n",
              "      <td>1165</td>\n",
              "      <td>53</td>\n",
              "      <td>66</td>\n",
              "      <td>12.9</td>\n",
              "      <td>30</td>\n",
              "      <td>8735</td>\n",
              "      <td>54</td>\n",
              "    </tr>\n",
              "    <tr>\n",
              "      <th>3</th>\n",
              "      <td>Agnes Scott College</td>\n",
              "      <td>Yes</td>\n",
              "      <td>417</td>\n",
              "      <td>349</td>\n",
              "      <td>137</td>\n",
              "      <td>60</td>\n",
              "      <td>89</td>\n",
              "      <td>510</td>\n",
              "      <td>63</td>\n",
              "      <td>12960</td>\n",
              "      <td>5450</td>\n",
              "      <td>450</td>\n",
              "      <td>875</td>\n",
              "      <td>92</td>\n",
              "      <td>97</td>\n",
              "      <td>7.7</td>\n",
              "      <td>37</td>\n",
              "      <td>19016</td>\n",
              "      <td>59</td>\n",
              "    </tr>\n",
              "    <tr>\n",
              "      <th>4</th>\n",
              "      <td>Alaska Pacific University</td>\n",
              "      <td>Yes</td>\n",
              "      <td>193</td>\n",
              "      <td>146</td>\n",
              "      <td>55</td>\n",
              "      <td>16</td>\n",
              "      <td>44</td>\n",
              "      <td>249</td>\n",
              "      <td>869</td>\n",
              "      <td>7560</td>\n",
              "      <td>4120</td>\n",
              "      <td>800</td>\n",
              "      <td>1500</td>\n",
              "      <td>76</td>\n",
              "      <td>72</td>\n",
              "      <td>11.9</td>\n",
              "      <td>2</td>\n",
              "      <td>10922</td>\n",
              "      <td>15</td>\n",
              "    </tr>\n",
              "  </tbody>\n",
              "</table>\n",
              "</div>\n",
              "      <button class=\"colab-df-convert\" onclick=\"convertToInteractive('df-faaa79f4-20b1-4902-9274-29f4e4d47d00')\"\n",
              "              title=\"Convert this dataframe to an interactive table.\"\n",
              "              style=\"display:none;\">\n",
              "        \n",
              "  <svg xmlns=\"http://www.w3.org/2000/svg\" height=\"24px\"viewBox=\"0 0 24 24\"\n",
              "       width=\"24px\">\n",
              "    <path d=\"M0 0h24v24H0V0z\" fill=\"none\"/>\n",
              "    <path d=\"M18.56 5.44l.94 2.06.94-2.06 2.06-.94-2.06-.94-.94-2.06-.94 2.06-2.06.94zm-11 1L8.5 8.5l.94-2.06 2.06-.94-2.06-.94L8.5 2.5l-.94 2.06-2.06.94zm10 10l.94 2.06.94-2.06 2.06-.94-2.06-.94-.94-2.06-.94 2.06-2.06.94z\"/><path d=\"M17.41 7.96l-1.37-1.37c-.4-.4-.92-.59-1.43-.59-.52 0-1.04.2-1.43.59L10.3 9.45l-7.72 7.72c-.78.78-.78 2.05 0 2.83L4 21.41c.39.39.9.59 1.41.59.51 0 1.02-.2 1.41-.59l7.78-7.78 2.81-2.81c.8-.78.8-2.07 0-2.86zM5.41 20L4 18.59l7.72-7.72 1.47 1.35L5.41 20z\"/>\n",
              "  </svg>\n",
              "      </button>\n",
              "      \n",
              "  <style>\n",
              "    .colab-df-container {\n",
              "      display:flex;\n",
              "      flex-wrap:wrap;\n",
              "      gap: 12px;\n",
              "    }\n",
              "\n",
              "    .colab-df-convert {\n",
              "      background-color: #E8F0FE;\n",
              "      border: none;\n",
              "      border-radius: 50%;\n",
              "      cursor: pointer;\n",
              "      display: none;\n",
              "      fill: #1967D2;\n",
              "      height: 32px;\n",
              "      padding: 0 0 0 0;\n",
              "      width: 32px;\n",
              "    }\n",
              "\n",
              "    .colab-df-convert:hover {\n",
              "      background-color: #E2EBFA;\n",
              "      box-shadow: 0px 1px 2px rgba(60, 64, 67, 0.3), 0px 1px 3px 1px rgba(60, 64, 67, 0.15);\n",
              "      fill: #174EA6;\n",
              "    }\n",
              "\n",
              "    [theme=dark] .colab-df-convert {\n",
              "      background-color: #3B4455;\n",
              "      fill: #D2E3FC;\n",
              "    }\n",
              "\n",
              "    [theme=dark] .colab-df-convert:hover {\n",
              "      background-color: #434B5C;\n",
              "      box-shadow: 0px 1px 3px 1px rgba(0, 0, 0, 0.15);\n",
              "      filter: drop-shadow(0px 1px 2px rgba(0, 0, 0, 0.3));\n",
              "      fill: #FFFFFF;\n",
              "    }\n",
              "  </style>\n",
              "\n",
              "      <script>\n",
              "        const buttonEl =\n",
              "          document.querySelector('#df-faaa79f4-20b1-4902-9274-29f4e4d47d00 button.colab-df-convert');\n",
              "        buttonEl.style.display =\n",
              "          google.colab.kernel.accessAllowed ? 'block' : 'none';\n",
              "\n",
              "        async function convertToInteractive(key) {\n",
              "          const element = document.querySelector('#df-faaa79f4-20b1-4902-9274-29f4e4d47d00');\n",
              "          const dataTable =\n",
              "            await google.colab.kernel.invokeFunction('convertToInteractive',\n",
              "                                                     [key], {});\n",
              "          if (!dataTable) return;\n",
              "\n",
              "          const docLinkHtml = 'Like what you see? Visit the ' +\n",
              "            '<a target=\"_blank\" href=https://colab.research.google.com/notebooks/data_table.ipynb>data table notebook</a>'\n",
              "            + ' to learn more about interactive tables.';\n",
              "          element.innerHTML = '';\n",
              "          dataTable['output_type'] = 'display_data';\n",
              "          await google.colab.output.renderOutput(dataTable, element);\n",
              "          const docLink = document.createElement('div');\n",
              "          docLink.innerHTML = docLinkHtml;\n",
              "          element.appendChild(docLink);\n",
              "        }\n",
              "      </script>\n",
              "    </div>\n",
              "  </div>\n",
              "  "
            ]
          },
          "metadata": {},
          "execution_count": 10
        }
      ],
      "source": [
        "x.head()"
      ]
    },
    {
      "cell_type": "markdown",
      "metadata": {
        "id": "Yk8IBfDRIKo3"
      },
      "source": [
        "This line isn't necessary for your purposes, but we'd just like to show you an additional way to encode features directly. The `.map()` method is like `.apply()`, but instead of taking in a lambda/function, you simply provide a mapping of keys:values. If you decide to embark on the \"Data Scientist Challenge\", this line of code will save you the trouble of converting it through other means.\n",
        "\n",
        "**2. Transform the Private column to {'Yes':1, 'No':0} using map function.**"
      ]
    },
    {
      "cell_type": "code",
      "execution_count": null,
      "metadata": {
        "colab": {
          "base_uri": "https://localhost:8080/",
          "height": 748
        },
        "id": "paEmSbI5IKo5",
        "outputId": "ffe8d526-de89-4fd2-8b3f-592a34dbf3af"
      },
      "outputs": [
        {
          "output_type": "execute_result",
          "data": {
            "text/plain": [
              "                         Unnamed: 0  Private   Apps  Accept  Enroll  \\\n",
              "0      Abilene Christian University        1   1660    1232     721   \n",
              "1                Adelphi University        1   2186    1924     512   \n",
              "2                    Adrian College        1   1428    1097     336   \n",
              "3               Agnes Scott College        1    417     349     137   \n",
              "4         Alaska Pacific University        1    193     146      55   \n",
              "..                              ...      ...    ...     ...     ...   \n",
              "772         Worcester State College        0   2197    1515     543   \n",
              "773               Xavier University        1   1959    1805     695   \n",
              "774  Xavier University of Louisiana        1   2097    1915     695   \n",
              "775                 Yale University        1  10705    2453    1317   \n",
              "776    York College of Pennsylvania        1   2989    1855     691   \n",
              "\n",
              "     Top10perc  Top25perc  F.Undergrad  P.Undergrad  Outstate  Room.Board  \\\n",
              "0           23         52         2885          537      7440        3300   \n",
              "1           16         29         2683         1227     12280        6450   \n",
              "2           22         50         1036           99     11250        3750   \n",
              "3           60         89          510           63     12960        5450   \n",
              "4           16         44          249          869      7560        4120   \n",
              "..         ...        ...          ...          ...       ...         ...   \n",
              "772          4         26         3089         2029      6797        3900   \n",
              "773         24         47         2849         1107     11520        4960   \n",
              "774         34         61         2793          166      6900        4200   \n",
              "775         95         99         5217           83     19840        6510   \n",
              "776         28         63         2988         1726      4990        3560   \n",
              "\n",
              "     Books  Personal  PhD  Terminal  S.F.Ratio  perc.alumni  Expend  Grad.Rate  \n",
              "0      450      2200   70        78       18.1           12    7041         60  \n",
              "1      750      1500   29        30       12.2           16   10527         56  \n",
              "2      400      1165   53        66       12.9           30    8735         54  \n",
              "3      450       875   92        97        7.7           37   19016         59  \n",
              "4      800      1500   76        72       11.9            2   10922         15  \n",
              "..     ...       ...  ...       ...        ...          ...     ...        ...  \n",
              "772    500      1200   60        60       21.0           14    4469         40  \n",
              "773    600      1250   73        75       13.3           31    9189         83  \n",
              "774    617       781   67        75       14.4           20    8323         49  \n",
              "775    630      2115   96        96        5.8           49   40386         99  \n",
              "776    500      1250   75        75       18.1           28    4509         99  \n",
              "\n",
              "[777 rows x 19 columns]"
            ],
            "text/html": [
              "\n",
              "  <div id=\"df-37d467c7-6600-4a1e-8be0-8fb5a4c3f48b\">\n",
              "    <div class=\"colab-df-container\">\n",
              "      <div>\n",
              "<style scoped>\n",
              "    .dataframe tbody tr th:only-of-type {\n",
              "        vertical-align: middle;\n",
              "    }\n",
              "\n",
              "    .dataframe tbody tr th {\n",
              "        vertical-align: top;\n",
              "    }\n",
              "\n",
              "    .dataframe thead th {\n",
              "        text-align: right;\n",
              "    }\n",
              "</style>\n",
              "<table border=\"1\" class=\"dataframe\">\n",
              "  <thead>\n",
              "    <tr style=\"text-align: right;\">\n",
              "      <th></th>\n",
              "      <th>Unnamed: 0</th>\n",
              "      <th>Private</th>\n",
              "      <th>Apps</th>\n",
              "      <th>Accept</th>\n",
              "      <th>Enroll</th>\n",
              "      <th>Top10perc</th>\n",
              "      <th>Top25perc</th>\n",
              "      <th>F.Undergrad</th>\n",
              "      <th>P.Undergrad</th>\n",
              "      <th>Outstate</th>\n",
              "      <th>Room.Board</th>\n",
              "      <th>Books</th>\n",
              "      <th>Personal</th>\n",
              "      <th>PhD</th>\n",
              "      <th>Terminal</th>\n",
              "      <th>S.F.Ratio</th>\n",
              "      <th>perc.alumni</th>\n",
              "      <th>Expend</th>\n",
              "      <th>Grad.Rate</th>\n",
              "    </tr>\n",
              "  </thead>\n",
              "  <tbody>\n",
              "    <tr>\n",
              "      <th>0</th>\n",
              "      <td>Abilene Christian University</td>\n",
              "      <td>1</td>\n",
              "      <td>1660</td>\n",
              "      <td>1232</td>\n",
              "      <td>721</td>\n",
              "      <td>23</td>\n",
              "      <td>52</td>\n",
              "      <td>2885</td>\n",
              "      <td>537</td>\n",
              "      <td>7440</td>\n",
              "      <td>3300</td>\n",
              "      <td>450</td>\n",
              "      <td>2200</td>\n",
              "      <td>70</td>\n",
              "      <td>78</td>\n",
              "      <td>18.1</td>\n",
              "      <td>12</td>\n",
              "      <td>7041</td>\n",
              "      <td>60</td>\n",
              "    </tr>\n",
              "    <tr>\n",
              "      <th>1</th>\n",
              "      <td>Adelphi University</td>\n",
              "      <td>1</td>\n",
              "      <td>2186</td>\n",
              "      <td>1924</td>\n",
              "      <td>512</td>\n",
              "      <td>16</td>\n",
              "      <td>29</td>\n",
              "      <td>2683</td>\n",
              "      <td>1227</td>\n",
              "      <td>12280</td>\n",
              "      <td>6450</td>\n",
              "      <td>750</td>\n",
              "      <td>1500</td>\n",
              "      <td>29</td>\n",
              "      <td>30</td>\n",
              "      <td>12.2</td>\n",
              "      <td>16</td>\n",
              "      <td>10527</td>\n",
              "      <td>56</td>\n",
              "    </tr>\n",
              "    <tr>\n",
              "      <th>2</th>\n",
              "      <td>Adrian College</td>\n",
              "      <td>1</td>\n",
              "      <td>1428</td>\n",
              "      <td>1097</td>\n",
              "      <td>336</td>\n",
              "      <td>22</td>\n",
              "      <td>50</td>\n",
              "      <td>1036</td>\n",
              "      <td>99</td>\n",
              "      <td>11250</td>\n",
              "      <td>3750</td>\n",
              "      <td>400</td>\n",
              "      <td>1165</td>\n",
              "      <td>53</td>\n",
              "      <td>66</td>\n",
              "      <td>12.9</td>\n",
              "      <td>30</td>\n",
              "      <td>8735</td>\n",
              "      <td>54</td>\n",
              "    </tr>\n",
              "    <tr>\n",
              "      <th>3</th>\n",
              "      <td>Agnes Scott College</td>\n",
              "      <td>1</td>\n",
              "      <td>417</td>\n",
              "      <td>349</td>\n",
              "      <td>137</td>\n",
              "      <td>60</td>\n",
              "      <td>89</td>\n",
              "      <td>510</td>\n",
              "      <td>63</td>\n",
              "      <td>12960</td>\n",
              "      <td>5450</td>\n",
              "      <td>450</td>\n",
              "      <td>875</td>\n",
              "      <td>92</td>\n",
              "      <td>97</td>\n",
              "      <td>7.7</td>\n",
              "      <td>37</td>\n",
              "      <td>19016</td>\n",
              "      <td>59</td>\n",
              "    </tr>\n",
              "    <tr>\n",
              "      <th>4</th>\n",
              "      <td>Alaska Pacific University</td>\n",
              "      <td>1</td>\n",
              "      <td>193</td>\n",
              "      <td>146</td>\n",
              "      <td>55</td>\n",
              "      <td>16</td>\n",
              "      <td>44</td>\n",
              "      <td>249</td>\n",
              "      <td>869</td>\n",
              "      <td>7560</td>\n",
              "      <td>4120</td>\n",
              "      <td>800</td>\n",
              "      <td>1500</td>\n",
              "      <td>76</td>\n",
              "      <td>72</td>\n",
              "      <td>11.9</td>\n",
              "      <td>2</td>\n",
              "      <td>10922</td>\n",
              "      <td>15</td>\n",
              "    </tr>\n",
              "    <tr>\n",
              "      <th>...</th>\n",
              "      <td>...</td>\n",
              "      <td>...</td>\n",
              "      <td>...</td>\n",
              "      <td>...</td>\n",
              "      <td>...</td>\n",
              "      <td>...</td>\n",
              "      <td>...</td>\n",
              "      <td>...</td>\n",
              "      <td>...</td>\n",
              "      <td>...</td>\n",
              "      <td>...</td>\n",
              "      <td>...</td>\n",
              "      <td>...</td>\n",
              "      <td>...</td>\n",
              "      <td>...</td>\n",
              "      <td>...</td>\n",
              "      <td>...</td>\n",
              "      <td>...</td>\n",
              "      <td>...</td>\n",
              "    </tr>\n",
              "    <tr>\n",
              "      <th>772</th>\n",
              "      <td>Worcester State College</td>\n",
              "      <td>0</td>\n",
              "      <td>2197</td>\n",
              "      <td>1515</td>\n",
              "      <td>543</td>\n",
              "      <td>4</td>\n",
              "      <td>26</td>\n",
              "      <td>3089</td>\n",
              "      <td>2029</td>\n",
              "      <td>6797</td>\n",
              "      <td>3900</td>\n",
              "      <td>500</td>\n",
              "      <td>1200</td>\n",
              "      <td>60</td>\n",
              "      <td>60</td>\n",
              "      <td>21.0</td>\n",
              "      <td>14</td>\n",
              "      <td>4469</td>\n",
              "      <td>40</td>\n",
              "    </tr>\n",
              "    <tr>\n",
              "      <th>773</th>\n",
              "      <td>Xavier University</td>\n",
              "      <td>1</td>\n",
              "      <td>1959</td>\n",
              "      <td>1805</td>\n",
              "      <td>695</td>\n",
              "      <td>24</td>\n",
              "      <td>47</td>\n",
              "      <td>2849</td>\n",
              "      <td>1107</td>\n",
              "      <td>11520</td>\n",
              "      <td>4960</td>\n",
              "      <td>600</td>\n",
              "      <td>1250</td>\n",
              "      <td>73</td>\n",
              "      <td>75</td>\n",
              "      <td>13.3</td>\n",
              "      <td>31</td>\n",
              "      <td>9189</td>\n",
              "      <td>83</td>\n",
              "    </tr>\n",
              "    <tr>\n",
              "      <th>774</th>\n",
              "      <td>Xavier University of Louisiana</td>\n",
              "      <td>1</td>\n",
              "      <td>2097</td>\n",
              "      <td>1915</td>\n",
              "      <td>695</td>\n",
              "      <td>34</td>\n",
              "      <td>61</td>\n",
              "      <td>2793</td>\n",
              "      <td>166</td>\n",
              "      <td>6900</td>\n",
              "      <td>4200</td>\n",
              "      <td>617</td>\n",
              "      <td>781</td>\n",
              "      <td>67</td>\n",
              "      <td>75</td>\n",
              "      <td>14.4</td>\n",
              "      <td>20</td>\n",
              "      <td>8323</td>\n",
              "      <td>49</td>\n",
              "    </tr>\n",
              "    <tr>\n",
              "      <th>775</th>\n",
              "      <td>Yale University</td>\n",
              "      <td>1</td>\n",
              "      <td>10705</td>\n",
              "      <td>2453</td>\n",
              "      <td>1317</td>\n",
              "      <td>95</td>\n",
              "      <td>99</td>\n",
              "      <td>5217</td>\n",
              "      <td>83</td>\n",
              "      <td>19840</td>\n",
              "      <td>6510</td>\n",
              "      <td>630</td>\n",
              "      <td>2115</td>\n",
              "      <td>96</td>\n",
              "      <td>96</td>\n",
              "      <td>5.8</td>\n",
              "      <td>49</td>\n",
              "      <td>40386</td>\n",
              "      <td>99</td>\n",
              "    </tr>\n",
              "    <tr>\n",
              "      <th>776</th>\n",
              "      <td>York College of Pennsylvania</td>\n",
              "      <td>1</td>\n",
              "      <td>2989</td>\n",
              "      <td>1855</td>\n",
              "      <td>691</td>\n",
              "      <td>28</td>\n",
              "      <td>63</td>\n",
              "      <td>2988</td>\n",
              "      <td>1726</td>\n",
              "      <td>4990</td>\n",
              "      <td>3560</td>\n",
              "      <td>500</td>\n",
              "      <td>1250</td>\n",
              "      <td>75</td>\n",
              "      <td>75</td>\n",
              "      <td>18.1</td>\n",
              "      <td>28</td>\n",
              "      <td>4509</td>\n",
              "      <td>99</td>\n",
              "    </tr>\n",
              "  </tbody>\n",
              "</table>\n",
              "<p>777 rows × 19 columns</p>\n",
              "</div>\n",
              "      <button class=\"colab-df-convert\" onclick=\"convertToInteractive('df-37d467c7-6600-4a1e-8be0-8fb5a4c3f48b')\"\n",
              "              title=\"Convert this dataframe to an interactive table.\"\n",
              "              style=\"display:none;\">\n",
              "        \n",
              "  <svg xmlns=\"http://www.w3.org/2000/svg\" height=\"24px\"viewBox=\"0 0 24 24\"\n",
              "       width=\"24px\">\n",
              "    <path d=\"M0 0h24v24H0V0z\" fill=\"none\"/>\n",
              "    <path d=\"M18.56 5.44l.94 2.06.94-2.06 2.06-.94-2.06-.94-.94-2.06-.94 2.06-2.06.94zm-11 1L8.5 8.5l.94-2.06 2.06-.94-2.06-.94L8.5 2.5l-.94 2.06-2.06.94zm10 10l.94 2.06.94-2.06 2.06-.94-2.06-.94-.94-2.06-.94 2.06-2.06.94z\"/><path d=\"M17.41 7.96l-1.37-1.37c-.4-.4-.92-.59-1.43-.59-.52 0-1.04.2-1.43.59L10.3 9.45l-7.72 7.72c-.78.78-.78 2.05 0 2.83L4 21.41c.39.39.9.59 1.41.59.51 0 1.02-.2 1.41-.59l7.78-7.78 2.81-2.81c.8-.78.8-2.07 0-2.86zM5.41 20L4 18.59l7.72-7.72 1.47 1.35L5.41 20z\"/>\n",
              "  </svg>\n",
              "      </button>\n",
              "      \n",
              "  <style>\n",
              "    .colab-df-container {\n",
              "      display:flex;\n",
              "      flex-wrap:wrap;\n",
              "      gap: 12px;\n",
              "    }\n",
              "\n",
              "    .colab-df-convert {\n",
              "      background-color: #E8F0FE;\n",
              "      border: none;\n",
              "      border-radius: 50%;\n",
              "      cursor: pointer;\n",
              "      display: none;\n",
              "      fill: #1967D2;\n",
              "      height: 32px;\n",
              "      padding: 0 0 0 0;\n",
              "      width: 32px;\n",
              "    }\n",
              "\n",
              "    .colab-df-convert:hover {\n",
              "      background-color: #E2EBFA;\n",
              "      box-shadow: 0px 1px 2px rgba(60, 64, 67, 0.3), 0px 1px 3px 1px rgba(60, 64, 67, 0.15);\n",
              "      fill: #174EA6;\n",
              "    }\n",
              "\n",
              "    [theme=dark] .colab-df-convert {\n",
              "      background-color: #3B4455;\n",
              "      fill: #D2E3FC;\n",
              "    }\n",
              "\n",
              "    [theme=dark] .colab-df-convert:hover {\n",
              "      background-color: #434B5C;\n",
              "      box-shadow: 0px 1px 3px 1px rgba(0, 0, 0, 0.15);\n",
              "      filter: drop-shadow(0px 1px 2px rgba(0, 0, 0, 0.3));\n",
              "      fill: #FFFFFF;\n",
              "    }\n",
              "  </style>\n",
              "\n",
              "      <script>\n",
              "        const buttonEl =\n",
              "          document.querySelector('#df-37d467c7-6600-4a1e-8be0-8fb5a4c3f48b button.colab-df-convert');\n",
              "        buttonEl.style.display =\n",
              "          google.colab.kernel.accessAllowed ? 'block' : 'none';\n",
              "\n",
              "        async function convertToInteractive(key) {\n",
              "          const element = document.querySelector('#df-37d467c7-6600-4a1e-8be0-8fb5a4c3f48b');\n",
              "          const dataTable =\n",
              "            await google.colab.kernel.invokeFunction('convertToInteractive',\n",
              "                                                     [key], {});\n",
              "          if (!dataTable) return;\n",
              "\n",
              "          const docLinkHtml = 'Like what you see? Visit the ' +\n",
              "            '<a target=\"_blank\" href=https://colab.research.google.com/notebooks/data_table.ipynb>data table notebook</a>'\n",
              "            + ' to learn more about interactive tables.';\n",
              "          element.innerHTML = '';\n",
              "          dataTable['output_type'] = 'display_data';\n",
              "          await google.colab.output.renderOutput(dataTable, element);\n",
              "          const docLink = document.createElement('div');\n",
              "          docLink.innerHTML = docLinkHtml;\n",
              "          element.appendChild(docLink);\n",
              "        }\n",
              "      </script>\n",
              "    </div>\n",
              "  </div>\n",
              "  "
            ]
          },
          "metadata": {},
          "execution_count": 11
        }
      ],
      "source": [
        "#TO DO:\n",
        "x['Private'] = list(map(lambda x: 1 if x == \"Yes\" else 0, x['Private'].to_list()))\n",
        "x"
      ]
    },
    {
      "cell_type": "markdown",
      "metadata": {
        "id": "fGiM_AlHIKpJ"
      },
      "source": [
        "**3. Create your linear regression model here and store it in a variable called `model`.**\n",
        "\n",
        "Don't actually train or do anything else with it yet:"
      ]
    },
    {
      "cell_type": "code",
      "execution_count": null,
      "metadata": {
        "id": "XStZviNaIKpN"
      },
      "outputs": [],
      "source": [
        "#TO DO:\n",
        "from sklearn.linear_model import LinearRegression\n",
        "model = LinearRegression()"
      ]
    },
    {
      "cell_type": "markdown",
      "metadata": {
        "id": "q2ybf3CXIKpk"
      },
      "source": [
        "The first relationship we're interested in is the number of accepted students, as a function of the amount charged for room and board.\n",
        "\n",
        "**4. Using indexing, create two slices (series). One will just store the room and board column (X_rb), the other will store the accepted students' column (y_acc).**"
      ]
    },
    {
      "cell_type": "code",
      "execution_count": null,
      "metadata": {
        "id": "GtPhwgEFIKpn"
      },
      "outputs": [],
      "source": [
        "#TO DO:\n",
        "X_rb = x['Room.Board']\n",
        "Y_acc = x['Accept']"
      ]
    },
    {
      "cell_type": "code",
      "execution_count": null,
      "metadata": {
        "colab": {
          "base_uri": "https://localhost:8080/"
        },
        "id": "Iyf91TUt_REN",
        "outputId": "e1c4a887-2049-4cdf-9bdf-7f90a6fd8c36"
      },
      "outputs": [
        {
          "output_type": "execute_result",
          "data": {
            "text/plain": [
              "0      1232\n",
              "1      1924\n",
              "2      1097\n",
              "3       349\n",
              "4       146\n",
              "       ... \n",
              "772    1515\n",
              "773    1805\n",
              "774    1915\n",
              "775    2453\n",
              "776    1855\n",
              "Name: Accept, Length: 777, dtype: int64"
            ]
          },
          "metadata": {},
          "execution_count": 14
        }
      ],
      "source": [
        "Y_acc"
      ]
    },
    {
      "cell_type": "markdown",
      "metadata": {
        "id": "OhXU1-91IKq3"
      },
      "source": [
        "**5. Then use train_test_split to cut your data up into `X_train`, `X_test`, `y_train`, `y_test`, with a `test_size` of 30% and a random_state of 7**\n",
        "\n",
        "**Reshape your data either using array.reshape(-1, 1) if your data has a single feature or array.reshape(1, -1) if it contains a single sample.**\n"
      ]
    },
    {
      "cell_type": "code",
      "execution_count": null,
      "metadata": {
        "id": "fc_Pt4JHIKq5"
      },
      "outputs": [],
      "source": [
        "#TO DO:\n",
        "from sklearn.model_selection import train_test_split\n",
        "\n",
        "X_train, X_test, y_train, y_test = train_test_split(X_rb, \n",
        "                                                    Y_acc, \n",
        "                                                    test_size = 0.3,\n",
        "                                                    random_state = 7 )"
      ]
    },
    {
      "cell_type": "code",
      "execution_count": null,
      "metadata": {
        "id": "XldrpN-AAzwU"
      },
      "outputs": [],
      "source": [
        "X_train = np.array(X_train).reshape(-1,1)\n",
        "X_test  = np.array(X_test).reshape(-1,1)\n",
        "y_train = np.array(y_train).reshape(-1,1)\n",
        "y_test  = np.array(y_test).reshape(-1,1)"
      ]
    },
    {
      "cell_type": "markdown",
      "metadata": {
        "id": "pLTLlYTMIKrC"
      },
      "source": [
        "**6. Fit and score your model appropriately. Store the score in the `score` variable and print it.**"
      ]
    },
    {
      "cell_type": "code",
      "execution_count": null,
      "metadata": {
        "colab": {
          "base_uri": "https://localhost:8080/"
        },
        "id": "kREUlABOCIH4",
        "outputId": "0794661e-ff69-4073-e6e8-d80c92991306"
      },
      "outputs": [
        {
          "output_type": "execute_result",
          "data": {
            "text/plain": [
              "LinearRegression()"
            ]
          },
          "metadata": {},
          "execution_count": 17
        }
      ],
      "source": [
        "model.fit(X_train, y_train)"
      ]
    },
    {
      "cell_type": "code",
      "execution_count": null,
      "metadata": {
        "colab": {
          "base_uri": "https://localhost:8080/"
        },
        "id": "ULh5ektGCJSN",
        "outputId": "154e6841-d112-40ad-82d4-2443d906d936"
      },
      "outputs": [
        {
          "output_type": "stream",
          "name": "stdout",
          "text": [
            "Độ Chính xác của mô hình: 0.0053273912215762165\n"
          ]
        }
      ],
      "source": [
        "score = model.score(X_train, y_train)\n",
        "print(\"Độ Chính xác của mô hình: {}\".format(score))"
      ]
    },
    {
      "cell_type": "markdown",
      "metadata": {
        "id": "K6NXfOvsIKrY"
      },
      "source": [
        "**7. Draw the model, X_test, y_test, score(R2 score) using the drawLine function.**"
      ]
    },
    {
      "cell_type": "code",
      "execution_count": null,
      "metadata": {
        "colab": {
          "base_uri": "https://localhost:8080/",
          "height": 318
        },
        "id": "YWcNJfE9IKra",
        "outputId": "17f8bee5-8827-40e3-eb6f-85b3403f2554"
      },
      "outputs": [
        {
          "output_type": "stream",
          "name": "stdout",
          "text": [
            "Đồ thị mô hình hồi quy R2: -0.0026669864145500988\n",
            "Intercept(s):  [1340.61956519]\n"
          ]
        },
        {
          "output_type": "display_data",
          "data": {
            "text/plain": [
              "<Figure size 432x288 with 1 Axes>"
            ],
            "image/png": "[encoded data removed]"
          },
          "metadata": {}
        }
      ],
      "source": [
        "#TO DO:\n",
        "from sklearn.metrics import r2_score\n",
        "y_hat = model.predict(X_test)\n",
        "r2_score = r2_score(y_test, y_hat)\n",
        "drawLine(model, X_test, y_test, \"Đồ thị mô hình hồi quy\", r2_score)"
      ]
    },
    {
      "cell_type": "markdown",
      "metadata": {
        "id": "osgjDaMcIKrg"
      },
      "source": [
        "**8. Duplicate the process above (5,6, 7); this time, model the number of accepted students, as a function of the number of enrolled students per college.**\n",
        "\n",
        "Don't forget to split data with random_state = 7."
      ]
    },
    {
      "cell_type": "code",
      "execution_count": null,
      "metadata": {
        "colab": {
          "base_uri": "https://localhost:8080/",
          "height": 335
        },
        "id": "SDmjrQvPIKrh",
        "outputId": "6ba4446b-e90c-47ee-d326-085ff4f410f4"
      },
      "outputs": [
        {
          "output_type": "stream",
          "name": "stdout",
          "text": [
            "Độ Chính xác của mô hình: 1.0\n",
            "Đồ thị mô hình hồi quy R2: 0.8578204867356156\n",
            "Intercept(s):  [151.72611242]\n"
          ]
        },
        {
          "output_type": "display_data",
          "data": {
            "text/plain": [
              "<Figure size 432x288 with 1 Axes>"
            ],
            "image/png": "[encoded data removed]"
          },
          "metadata": {}
        }
      ],
      "source": [
        "#TO DO:\n",
        "X_rb = x['Enroll']\n",
        "Y_acc = x['Accept']\n",
        "\n",
        "\n",
        "#TO DO:\n",
        "from sklearn.model_selection import train_test_split\n",
        "x_train, x_test, y_train, y_test =train_test_split(X_rb, \n",
        "                                                    Y_acc, \n",
        "                                                    test_size = 0.3,\n",
        "                                                    random_state = 7  )\n",
        "x_train = np.array(x_train).reshape(-1,1)\n",
        "x_test  = np.array(x_test).reshape(-1,1)\n",
        "y_train = np.array(y_train).reshape(-1,1)\n",
        "y_test  = np.array(y_test).reshape(-1,1)\n",
        "\n",
        "#TO DO:\n",
        "model.fit(x_train, y_train)\n",
        "score = model.score(x_test, model.predict(x_test))\n",
        "print(\"Độ Chính xác của mô hình: {}\".format(score))\n",
        "\n",
        "\n",
        "#TO DO:\n",
        "from sklearn.metrics import r2_score\n",
        "y_hat = model.predict(x_test)\n",
        "r2_score = r2_score(y_test, y_hat)\n",
        "drawLine(model, x_test, y_test, \"Đồ thị mô hình hồi quy\", r2_score)"
      ]
    },
    {
      "cell_type": "code",
      "execution_count": null,
      "metadata": {
        "id": "JPAmclsr_0KD"
      },
      "outputs": [],
      "source": [
        ""
      ]
    },
    {
      "cell_type": "markdown",
      "metadata": {
        "collapsed": true,
        "id": "kGYb64A2IKrs"
      },
      "source": [
        "**9. Duplicate the process above (5, 6, 7); this time, model the number of accepted students, as function of the number of full-time undergraduates students per college.**\n",
        "\n",
        "Don't forget to split data with random_state = 7."
      ]
    },
    {
      "cell_type": "code",
      "execution_count": null,
      "metadata": {
        "colab": {
          "base_uri": "https://localhost:8080/",
          "height": 335
        },
        "id": "xgTP_pBHIKrw",
        "outputId": "76b8d55f-c831-47a4-c698-82db2f1b4bd0"
      },
      "outputs": [
        {
          "output_type": "stream",
          "name": "stdout",
          "text": [
            "Độ Chính xác của mô hình: 1.0\n",
            "Đồ thị mô hình hồi quy R2: 0.9044856902846029\n",
            "Intercept(s):  [88.92901681]\n"
          ]
        },
        {
          "output_type": "display_data",
          "data": {
            "text/plain": [
              "<Figure size 432x288 with 1 Axes>"
            ],
            "image/png": "[encoded data removed]"
          },
          "metadata": {}
        }
      ],
      "source": [
        "#TO DO:\n",
        "#TO DO:\n",
        "X_rb = x['F.Undergrad'] \n",
        "Y_acc = x['Enroll']\n",
        "\n",
        "#TO DO:\n",
        "from sklearn.model_selection import train_test_split\n",
        "x_train, x_test, y_train, y_test =train_test_split(X_rb, \n",
        "                                                    Y_acc, \n",
        "                                                    test_size = 0.3,\n",
        "                                                    random_state = 7  )\n",
        "x_train = np.array(x_train).reshape(-1,1)\n",
        "x_test  = np.array(x_test).reshape(-1,1)\n",
        "y_train = np.array(y_train).reshape(-1,1)\n",
        "y_test  = np.array(y_test).reshape(-1,1)\n",
        "\n",
        "#TO DO:\n",
        "model.fit(x_train, y_train)\n",
        "score = model.score(x_test, model.predict(x_test))\n",
        "print(\"Độ Chính xác của mô hình: {}\".format(score))\n",
        "\n",
        "\n",
        "#TO DO:\n",
        "from sklearn.metrics import r2_score\n",
        "r2_score = r2_score(y_test, model.predict(x_test))\n",
        "drawLine(model, x_test, y_test, \"Đồ thị mô hình hồi quy\", r2_score)"
      ]
    },
    {
      "cell_type": "markdown",
      "metadata": {
        "id": "R5f6ejNMIKr4"
      },
      "source": [
        "**10. Duplicate the process above (5, 6). This time is going to be a bit more complicated. Instead of modeling one feature as a function of another, you will attempt to do multivariate linear regression to model one feature as a function of TWO other features. Let's print out the model score.**\n",
        "\n",
        "Model the number of accepted students as a function of the amount charged for room and board _and_ the number of enrolled students. To do this, instead of creating a regular slice for a single-feature input, simply create a slice that contains both columns you wish to use as inputs. Your training labels will remain a single slice.\n",
        "    \n",
        "Don't forget to split data with random_state = 7."
      ]
    },
    {
      "cell_type": "code",
      "execution_count": null,
      "metadata": {
        "colab": {
          "base_uri": "https://localhost:8080/"
        },
        "id": "qBjcmfi8IKr7",
        "outputId": "a4753945-3efc-4cc6-bd6a-f2e8239bffc4"
      },
      "outputs": [
        {
          "output_type": "stream",
          "name": "stdout",
          "text": [
            "Độ Chính xác của mô hình: 0.8764371774214047\n"
          ]
        }
      ],
      "source": [
        "#TO DO:\n",
        "X_rb = x[['Enroll','Room.Board']]\n",
        "Y_acc = x['Accept']\n",
        "\n",
        "\n",
        "#TO DO:\n",
        "from sklearn.model_selection import train_test_split\n",
        "x_train, x_test, y_train, y_test =train_test_split(X_rb, \n",
        "                                                    Y_acc, \n",
        "                                                    test_size = 0.3,\n",
        "                                                    random_state = 7  )\n",
        "y_train = np.array(y_train).reshape(-1,1)\n",
        "y_test  = np.array(y_test).reshape(-1,1)\n",
        "\n",
        "#TO DO:\n",
        "model.fit(x_train, y_train)\n",
        "score = model.score(x_test, y_test)\n",
        "print(\"Độ Chính xác của mô hình: {}\".format(score))\n"
      ]
    },
    {
      "cell_type": "markdown",
      "metadata": {
        "id": "oXuVXeO_IKsG"
      },
      "source": [
        "# Advanced part (15%  of the total score)"
      ]
    },
    {
      "cell_type": "markdown",
      "metadata": {
        "id": "bXOb7jlqIKsO"
      },
      "source": [
        "**11. Duplicate the process above (5,6), try to use your own features set and your own model with modified parameters.**\n",
        "\n",
        "    Requirement: Score > 0.875\n",
        "    \n",
        "    Don't forget to split data with random_state = 7."
      ]
    },
    {
      "cell_type": "code",
      "execution_count": null,
      "metadata": {
        "colab": {
          "base_uri": "https://localhost:8080/"
        },
        "id": "1xwrjqo1IKsQ",
        "outputId": "6605b799-acc3-4a77-a2ff-7715efbfe73d"
      },
      "outputs": [
        {
          "output_type": "stream",
          "name": "stdout",
          "text": [
            "Độ Chính xác của mô hình: 0.9196285274563081\n"
          ]
        }
      ],
      "source": [
        "#TO DO:\n",
        "#TO DO:\n",
        "X_rb = x.drop(['Accept','Unnamed: 0'], axis = 1)\n",
        "Y_acc = x['Accept']\n",
        "\n",
        "\n",
        "#TO DO:\n",
        "from sklearn.model_selection import train_test_split\n",
        "x_train, x_test, y_train, y_test =train_test_split(X_rb, \n",
        "                                                    Y_acc, \n",
        "                                                    test_size = 0.3,\n",
        "                                                    random_state = 7  )\n",
        "y_train = np.array(y_train).reshape(-1,1)\n",
        "y_test  = np.array(y_test).reshape(-1,1)\n",
        "\n",
        "#TO DO:\n",
        "model.fit(x_train, y_train)\n",
        "score = model.score(x_test, y_test)\n",
        "print(\"Độ Chính xác của mô hình: {}\".format(score))"
      ]
    }
  ],
  "metadata": {
    "anaconda-cloud": {},
    "colab": {
      "name": "DSP303x_ASM1_anhpt12081_funix_edu_vn.ipynb",
      "provenance": [],
      "include_colab_link": true
    },
    "kernelspec": {
      "display_name": "Python 3",
      "language": "python",
      "name": "python3"
    },
    "language_info": {
      "codemirror_mode": {
        "name": "ipython",
        "version": 3
      },
      "file_extension": ".py",
      "mimetype": "text/x-python",
      "name": "python",
      "nbconvert_exporter": "python",
      "pygments_lexer": "ipython3",
      "version": "3.7.1"
    },
    "toc": {
      "colors": {
        "hover_highlight": "#DAA520",
        "running_highlight": "#FF0000",
        "selected_highlight": "#FFD700"
      },
      "moveMenuLeft": true,
      "nav_menu": {
        "height": "58px",
        "width": "252px"
      },
      "navigate_menu": true,
      "number_sections": true,
      "sideBar": true,
      "threshold": 4,
      "toc_cell": false,
      "toc_section_display": "block",
      "toc_window_display": false,
      "widenNotebook": false
    }
  },
  "nbformat": 4,
  "nbformat_minor": 0
}