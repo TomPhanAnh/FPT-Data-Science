{
  "cells": [
    {
      "cell_type": "markdown",
      "metadata": {
        "id": "view-in-github",
        "colab_type": "text"
      },
      "source": [
        "<a href=\"https://colab.research.google.com/github/TomPhanAnh/FPT-Data-Science/blob/DSP303x_Machine-Learning/DSP303x_ASM2_anhpt12081_funix_edu_vn.ipynb\" target=\"_parent\"><img src=\"https://colab.research.google.com/assets/colab-badge.svg\" alt=\"Open In Colab\"/></a>"
      ]
    },
    {
      "cell_type": "markdown",
      "metadata": {
        "id": "SzPE54CYM1kJ"
      },
      "source": [
        "<h1 align=center><font size = 10> Classification with Python</font></h1>"
      ]
    },
    {
      "cell_type": "markdown",
      "metadata": {
        "id": "XPfbiVLfM1kK"
      },
      "source": [
        "In this notebook, we try to practice all the classification algorithms that we have learned in this course.\n",
        "\n",
        "We load a dataset using the Pandas library, and apply the following algorithms, and find the best one for this specific dataset by accuracy evaluation methods.\n",
        "\n",
        "Lets first load required libraries:"
      ]
    },
    {
      "cell_type": "code",
      "execution_count": null,
      "metadata": {
        "id": "vcBmcLcqM1kL"
      },
      "outputs": [],
      "source": [
        "import matplotlib.pyplot as plt\n",
        "from matplotlib.ticker import NullFormatter\n",
        "import pandas as pd\n",
        "import numpy as np\n",
        "import matplotlib.ticker as ticker\n",
        "from sklearn import preprocessing\n",
        "%matplotlib inline\n",
        "%matplotlib inline"
      ]
    },
    {
      "cell_type": "markdown",
      "metadata": {
        "id": "PKehb7okM1kN"
      },
      "source": [
        "# Mandatory part (85%  of the total score)"
      ]
    },
    {
      "cell_type": "markdown",
      "metadata": {
        "id": "1OXuDMKku37m"
      },
      "source": [
        ""
      ]
    },
    {
      "cell_type": "markdown",
      "metadata": {
        "id": "ZAL75IefM1kO"
      },
      "source": [
        "## About dataset"
      ]
    },
    {
      "cell_type": "markdown",
      "metadata": {
        "id": "yrPdRO--M1kO"
      },
      "source": [
        "The Pima is a group of Native Americans living in Arizona. A genetic predisposition allowed this group to survive normally to a diet poor of carbohydrates for years. In recent years, a sudden shift from traditional agricultural crops to processed foods, together with a decline in physical activity, has made them develop the highest prevalence of type 2 diabetes and for this reason, they have been subject of many studies.\n",
        "\n",
        "The dataset includes data from 768 women with 8 characteristics, in particular:\n",
        "\n",
        "- Number of times pregnant\n",
        "- Plasma glucose concentration a 2 hours in an oral glucose tolerance test\n",
        "- Diastolic blood pressure (mm Hg)\n",
        "- Triceps skinfold thickness (mm)\n",
        "- 2-Hour serum insulin (mu U/ml)\n",
        "- Body mass index (weight in kg/(height in m)^2)\n",
        "- Diabetes pedigree function\n",
        "- Age (years)\n",
        "- The last column of the dataset indicates if the person has been diagnosed with diabetes (1) or not (0)"
      ]
    },
    {
      "cell_type": "markdown",
      "metadata": {
        "id": "dzJFrqwyM1kP"
      },
      "source": [
        "## The problem:"
      ]
    },
    {
      "cell_type": "markdown",
      "metadata": {
        "id": "WFl47FBcM1kQ"
      },
      "source": [
        "The type of dataset and problem is a classic supervised binary classification. Given a number of elements with certain characteristics (features), we want to build a machine learning model to identify people affected by type 2 diabetes.\n",
        "\n",
        "To solve the problem we will have to analyze the data, do any required transformation and nomarlization, apply a machine learning algorithm, train a model, check the performance of the trained model and iterate with other algorithms until we find the most performant for our type of dataset."
      ]
    },
    {
      "cell_type": "markdown",
      "metadata": {
        "id": "Diy5tSZ7M1kQ"
      },
      "source": [
        "## Load Data From CSV File  "
      ]
    },
    {
      "cell_type": "markdown",
      "metadata": {
        "id": "qdIctwmZM1kR"
      },
      "source": [
        "### 1. Load the dataset from the 'pima-indians-diabetes.csv' file.\n",
        "\n",
        "Because the CSV doesn't contain any header, we add column names using the description from the original dataset website:\n",
        "\n",
        "dataset.columns = [\"NumTimesPrg\", \"PlGlcConc\", \"BloodP\", \"SkinThick\", \"TwoHourSerIns\", \"BMI\", \"DiPedFunc\", \"Age\", \"HasDiabetes\"]"
      ]
    },
    {
      "cell_type": "code",
      "execution_count": null,
      "metadata": {
        "id": "K-TmhZ8vM1kS"
      },
      "outputs": [],
      "source": [
        "#TO DO:\n",
        "data = pd.read_csv('pima-indians-diabetes.csv', \n",
        "                   header = None, \n",
        "                   names = [\"NumTimesPrg\", \"PlGlcConc\", \"BloodP\", \"SkinThick\", \"TwoHourSerIns\", \"BMI\", \"DiPedFunc\", \"Age\", \"HasDiabetes\"])"
      ]
    },
    {
      "cell_type": "code",
      "execution_count": null,
      "metadata": {
        "colab": {
          "base_uri": "https://localhost:8080/",
          "height": 206
        },
        "id": "6Qlkg3nqTEWt",
        "outputId": "66d68d86-d38c-4967-aac8-c6856b8a3dd1"
      },
      "outputs": [
        {
          "data": {
            "text/html": [
              "\n",
              "  <div id=\"df-d57486a7-211d-4ed5-9ec2-ba678eda14c6\">\n",
              "    <div class=\"colab-df-container\">\n",
              "      <div>\n",
              "<style scoped>\n",
              "    .dataframe tbody tr th:only-of-type {\n",
              "        vertical-align: middle;\n",
              "    }\n",
              "\n",
              "    .dataframe tbody tr th {\n",
              "        vertical-align: top;\n",
              "    }\n",
              "\n",
              "    .dataframe thead th {\n",
              "        text-align: right;\n",
              "    }\n",
              "</style>\n",
              "<table border=\"1\" class=\"dataframe\">\n",
              "  <thead>\n",
              "    <tr style=\"text-align: right;\">\n",
              "      <th></th>\n",
              "      <th>NumTimesPrg</th>\n",
              "      <th>PlGlcConc</th>\n",
              "      <th>BloodP</th>\n",
              "      <th>SkinThick</th>\n",
              "      <th>TwoHourSerIns</th>\n",
              "      <th>BMI</th>\n",
              "      <th>DiPedFunc</th>\n",
              "      <th>Age</th>\n",
              "      <th>HasDiabetes</th>\n",
              "    </tr>\n",
              "  </thead>\n",
              "  <tbody>\n",
              "    <tr>\n",
              "      <th>0</th>\n",
              "      <td>6</td>\n",
              "      <td>148</td>\n",
              "      <td>72</td>\n",
              "      <td>35</td>\n",
              "      <td>0</td>\n",
              "      <td>33.6</td>\n",
              "      <td>0.627</td>\n",
              "      <td>50</td>\n",
              "      <td>1</td>\n",
              "    </tr>\n",
              "    <tr>\n",
              "      <th>1</th>\n",
              "      <td>1</td>\n",
              "      <td>85</td>\n",
              "      <td>66</td>\n",
              "      <td>29</td>\n",
              "      <td>0</td>\n",
              "      <td>26.6</td>\n",
              "      <td>0.351</td>\n",
              "      <td>31</td>\n",
              "      <td>0</td>\n",
              "    </tr>\n",
              "    <tr>\n",
              "      <th>2</th>\n",
              "      <td>8</td>\n",
              "      <td>183</td>\n",
              "      <td>64</td>\n",
              "      <td>0</td>\n",
              "      <td>0</td>\n",
              "      <td>23.3</td>\n",
              "      <td>0.672</td>\n",
              "      <td>32</td>\n",
              "      <td>1</td>\n",
              "    </tr>\n",
              "    <tr>\n",
              "      <th>3</th>\n",
              "      <td>1</td>\n",
              "      <td>89</td>\n",
              "      <td>66</td>\n",
              "      <td>23</td>\n",
              "      <td>94</td>\n",
              "      <td>28.1</td>\n",
              "      <td>0.167</td>\n",
              "      <td>21</td>\n",
              "      <td>0</td>\n",
              "    </tr>\n",
              "    <tr>\n",
              "      <th>4</th>\n",
              "      <td>0</td>\n",
              "      <td>137</td>\n",
              "      <td>40</td>\n",
              "      <td>35</td>\n",
              "      <td>168</td>\n",
              "      <td>43.1</td>\n",
              "      <td>2.288</td>\n",
              "      <td>33</td>\n",
              "      <td>1</td>\n",
              "    </tr>\n",
              "  </tbody>\n",
              "</table>\n",
              "</div>\n",
              "      <button class=\"colab-df-convert\" onclick=\"convertToInteractive('df-d57486a7-211d-4ed5-9ec2-ba678eda14c6')\"\n",
              "              title=\"Convert this dataframe to an interactive table.\"\n",
              "              style=\"display:none;\">\n",
              "        \n",
              "  <svg xmlns=\"http://www.w3.org/2000/svg\" height=\"24px\"viewBox=\"0 0 24 24\"\n",
              "       width=\"24px\">\n",
              "    <path d=\"M0 0h24v24H0V0z\" fill=\"none\"/>\n",
              "    <path d=\"M18.56 5.44l.94 2.06.94-2.06 2.06-.94-2.06-.94-.94-2.06-.94 2.06-2.06.94zm-11 1L8.5 8.5l.94-2.06 2.06-.94-2.06-.94L8.5 2.5l-.94 2.06-2.06.94zm10 10l.94 2.06.94-2.06 2.06-.94-2.06-.94-.94-2.06-.94 2.06-2.06.94z\"/><path d=\"M17.41 7.96l-1.37-1.37c-.4-.4-.92-.59-1.43-.59-.52 0-1.04.2-1.43.59L10.3 9.45l-7.72 7.72c-.78.78-.78 2.05 0 2.83L4 21.41c.39.39.9.59 1.41.59.51 0 1.02-.2 1.41-.59l7.78-7.78 2.81-2.81c.8-.78.8-2.07 0-2.86zM5.41 20L4 18.59l7.72-7.72 1.47 1.35L5.41 20z\"/>\n",
              "  </svg>\n",
              "      </button>\n",
              "      \n",
              "  <style>\n",
              "    .colab-df-container {\n",
              "      display:flex;\n",
              "      flex-wrap:wrap;\n",
              "      gap: 12px;\n",
              "    }\n",
              "\n",
              "    .colab-df-convert {\n",
              "      background-color: #E8F0FE;\n",
              "      border: none;\n",
              "      border-radius: 50%;\n",
              "      cursor: pointer;\n",
              "      display: none;\n",
              "      fill: #1967D2;\n",
              "      height: 32px;\n",
              "      padding: 0 0 0 0;\n",
              "      width: 32px;\n",
              "    }\n",
              "\n",
              "    .colab-df-convert:hover {\n",
              "      background-color: #E2EBFA;\n",
              "      box-shadow: 0px 1px 2px rgba(60, 64, 67, 0.3), 0px 1px 3px 1px rgba(60, 64, 67, 0.15);\n",
              "      fill: #174EA6;\n",
              "    }\n",
              "\n",
              "    [theme=dark] .colab-df-convert {\n",
              "      background-color: #3B4455;\n",
              "      fill: #D2E3FC;\n",
              "    }\n",
              "\n",
              "    [theme=dark] .colab-df-convert:hover {\n",
              "      background-color: #434B5C;\n",
              "      box-shadow: 0px 1px 3px 1px rgba(0, 0, 0, 0.15);\n",
              "      filter: drop-shadow(0px 1px 2px rgba(0, 0, 0, 0.3));\n",
              "      fill: #FFFFFF;\n",
              "    }\n",
              "  </style>\n",
              "\n",
              "      <script>\n",
              "        const buttonEl =\n",
              "          document.querySelector('#df-d57486a7-211d-4ed5-9ec2-ba678eda14c6 button.colab-df-convert');\n",
              "        buttonEl.style.display =\n",
              "          google.colab.kernel.accessAllowed ? 'block' : 'none';\n",
              "\n",
              "        async function convertToInteractive(key) {\n",
              "          const element = document.querySelector('#df-d57486a7-211d-4ed5-9ec2-ba678eda14c6');\n",
              "          const dataTable =\n",
              "            await google.colab.kernel.invokeFunction('convertToInteractive',\n",
              "                                                     [key], {});\n",
              "          if (!dataTable) return;\n",
              "\n",
              "          const docLinkHtml = 'Like what you see? Visit the ' +\n",
              "            '<a target=\"_blank\" href=https://colab.research.google.com/notebooks/data_table.ipynb>data table notebook</a>'\n",
              "            + ' to learn more about interactive tables.';\n",
              "          element.innerHTML = '';\n",
              "          dataTable['output_type'] = 'display_data';\n",
              "          await google.colab.output.renderOutput(dataTable, element);\n",
              "          const docLink = document.createElement('div');\n",
              "          docLink.innerHTML = docLinkHtml;\n",
              "          element.appendChild(docLink);\n",
              "        }\n",
              "      </script>\n",
              "    </div>\n",
              "  </div>\n",
              "  "
            ],
            "text/plain": [
              "   NumTimesPrg  PlGlcConc  BloodP  SkinThick  TwoHourSerIns   BMI  DiPedFunc  \\\n",
              "0            6        148      72         35              0  33.6      0.627   \n",
              "1            1         85      66         29              0  26.6      0.351   \n",
              "2            8        183      64          0              0  23.3      0.672   \n",
              "3            1         89      66         23             94  28.1      0.167   \n",
              "4            0        137      40         35            168  43.1      2.288   \n",
              "\n",
              "   Age  HasDiabetes  \n",
              "0   50            1  \n",
              "1   31            0  \n",
              "2   32            1  \n",
              "3   21            0  \n",
              "4   33            1  "
            ]
          },
          "execution_count": 3,
          "metadata": {},
          "output_type": "execute_result"
        }
      ],
      "source": [
        "data.head()"
      ]
    },
    {
      "cell_type": "markdown",
      "metadata": {
        "id": "AmBhwo0DM1kU"
      },
      "source": [
        "## Inspect the Dataset"
      ]
    },
    {
      "cell_type": "markdown",
      "metadata": {
        "id": "_HlgbaIQM1kU"
      },
      "source": [
        "### 2. Print out the shape of the dataset: we have 768 rows and 9 columns. Then, print out the head of the dataset to better understand the data format.\n",
        "\n",
        "The first 8 columns are features while the last one is the supervised label (1 = has diabetes, 0 = no diabetes)"
      ]
    },
    {
      "cell_type": "code",
      "execution_count": null,
      "metadata": {
        "colab": {
          "base_uri": "https://localhost:8080/",
          "height": 318
        },
        "id": "bpyxtYzcM1kV",
        "outputId": "5e06a002-cef7-4edc-b439-e57421647b07"
      },
      "outputs": [
        {
          "name": "stdout",
          "output_type": "stream",
          "text": [
            "Shape of Data: (768, 9)\n"
          ]
        },
        {
          "data": {
            "text/html": [
              "\n",
              "  <div id=\"df-13343127-04d6-4d1d-8280-f779acc355ca\">\n",
              "    <div class=\"colab-df-container\">\n",
              "      <div>\n",
              "<style scoped>\n",
              "    .dataframe tbody tr th:only-of-type {\n",
              "        vertical-align: middle;\n",
              "    }\n",
              "\n",
              "    .dataframe tbody tr th {\n",
              "        vertical-align: top;\n",
              "    }\n",
              "\n",
              "    .dataframe thead th {\n",
              "        text-align: right;\n",
              "    }\n",
              "</style>\n",
              "<table border=\"1\" class=\"dataframe\">\n",
              "  <thead>\n",
              "    <tr style=\"text-align: right;\">\n",
              "      <th></th>\n",
              "      <th>NumTimesPrg</th>\n",
              "      <th>PlGlcConc</th>\n",
              "      <th>BloodP</th>\n",
              "      <th>SkinThick</th>\n",
              "      <th>TwoHourSerIns</th>\n",
              "      <th>BMI</th>\n",
              "      <th>DiPedFunc</th>\n",
              "      <th>Age</th>\n",
              "      <th>HasDiabetes</th>\n",
              "    </tr>\n",
              "  </thead>\n",
              "  <tbody>\n",
              "    <tr>\n",
              "      <th>count</th>\n",
              "      <td>768.000000</td>\n",
              "      <td>768.000000</td>\n",
              "      <td>768.000000</td>\n",
              "      <td>768.000000</td>\n",
              "      <td>768.000000</td>\n",
              "      <td>768.000000</td>\n",
              "      <td>768.000000</td>\n",
              "      <td>768.000000</td>\n",
              "      <td>768.000000</td>\n",
              "    </tr>\n",
              "    <tr>\n",
              "      <th>mean</th>\n",
              "      <td>3.845052</td>\n",
              "      <td>120.894531</td>\n",
              "      <td>69.105469</td>\n",
              "      <td>20.536458</td>\n",
              "      <td>79.799479</td>\n",
              "      <td>31.992578</td>\n",
              "      <td>0.471876</td>\n",
              "      <td>33.240885</td>\n",
              "      <td>0.348958</td>\n",
              "    </tr>\n",
              "    <tr>\n",
              "      <th>std</th>\n",
              "      <td>3.369578</td>\n",
              "      <td>31.972618</td>\n",
              "      <td>19.355807</td>\n",
              "      <td>15.952218</td>\n",
              "      <td>115.244002</td>\n",
              "      <td>7.884160</td>\n",
              "      <td>0.331329</td>\n",
              "      <td>11.760232</td>\n",
              "      <td>0.476951</td>\n",
              "    </tr>\n",
              "    <tr>\n",
              "      <th>min</th>\n",
              "      <td>0.000000</td>\n",
              "      <td>0.000000</td>\n",
              "      <td>0.000000</td>\n",
              "      <td>0.000000</td>\n",
              "      <td>0.000000</td>\n",
              "      <td>0.000000</td>\n",
              "      <td>0.078000</td>\n",
              "      <td>21.000000</td>\n",
              "      <td>0.000000</td>\n",
              "    </tr>\n",
              "    <tr>\n",
              "      <th>25%</th>\n",
              "      <td>1.000000</td>\n",
              "      <td>99.000000</td>\n",
              "      <td>62.000000</td>\n",
              "      <td>0.000000</td>\n",
              "      <td>0.000000</td>\n",
              "      <td>27.300000</td>\n",
              "      <td>0.243750</td>\n",
              "      <td>24.000000</td>\n",
              "      <td>0.000000</td>\n",
              "    </tr>\n",
              "    <tr>\n",
              "      <th>50%</th>\n",
              "      <td>3.000000</td>\n",
              "      <td>117.000000</td>\n",
              "      <td>72.000000</td>\n",
              "      <td>23.000000</td>\n",
              "      <td>30.500000</td>\n",
              "      <td>32.000000</td>\n",
              "      <td>0.372500</td>\n",
              "      <td>29.000000</td>\n",
              "      <td>0.000000</td>\n",
              "    </tr>\n",
              "    <tr>\n",
              "      <th>75%</th>\n",
              "      <td>6.000000</td>\n",
              "      <td>140.250000</td>\n",
              "      <td>80.000000</td>\n",
              "      <td>32.000000</td>\n",
              "      <td>127.250000</td>\n",
              "      <td>36.600000</td>\n",
              "      <td>0.626250</td>\n",
              "      <td>41.000000</td>\n",
              "      <td>1.000000</td>\n",
              "    </tr>\n",
              "    <tr>\n",
              "      <th>max</th>\n",
              "      <td>17.000000</td>\n",
              "      <td>199.000000</td>\n",
              "      <td>122.000000</td>\n",
              "      <td>99.000000</td>\n",
              "      <td>846.000000</td>\n",
              "      <td>67.100000</td>\n",
              "      <td>2.420000</td>\n",
              "      <td>81.000000</td>\n",
              "      <td>1.000000</td>\n",
              "    </tr>\n",
              "  </tbody>\n",
              "</table>\n",
              "</div>\n",
              "      <button class=\"colab-df-convert\" onclick=\"convertToInteractive('df-13343127-04d6-4d1d-8280-f779acc355ca')\"\n",
              "              title=\"Convert this dataframe to an interactive table.\"\n",
              "              style=\"display:none;\">\n",
              "        \n",
              "  <svg xmlns=\"http://www.w3.org/2000/svg\" height=\"24px\"viewBox=\"0 0 24 24\"\n",
              "       width=\"24px\">\n",
              "    <path d=\"M0 0h24v24H0V0z\" fill=\"none\"/>\n",
              "    <path d=\"M18.56 5.44l.94 2.06.94-2.06 2.06-.94-2.06-.94-.94-2.06-.94 2.06-2.06.94zm-11 1L8.5 8.5l.94-2.06 2.06-.94-2.06-.94L8.5 2.5l-.94 2.06-2.06.94zm10 10l.94 2.06.94-2.06 2.06-.94-2.06-.94-.94-2.06-.94 2.06-2.06.94z\"/><path d=\"M17.41 7.96l-1.37-1.37c-.4-.4-.92-.59-1.43-.59-.52 0-1.04.2-1.43.59L10.3 9.45l-7.72 7.72c-.78.78-.78 2.05 0 2.83L4 21.41c.39.39.9.59 1.41.59.51 0 1.02-.2 1.41-.59l7.78-7.78 2.81-2.81c.8-.78.8-2.07 0-2.86zM5.41 20L4 18.59l7.72-7.72 1.47 1.35L5.41 20z\"/>\n",
              "  </svg>\n",
              "      </button>\n",
              "      \n",
              "  <style>\n",
              "    .colab-df-container {\n",
              "      display:flex;\n",
              "      flex-wrap:wrap;\n",
              "      gap: 12px;\n",
              "    }\n",
              "\n",
              "    .colab-df-convert {\n",
              "      background-color: #E8F0FE;\n",
              "      border: none;\n",
              "      border-radius: 50%;\n",
              "      cursor: pointer;\n",
              "      display: none;\n",
              "      fill: #1967D2;\n",
              "      height: 32px;\n",
              "      padding: 0 0 0 0;\n",
              "      width: 32px;\n",
              "    }\n",
              "\n",
              "    .colab-df-convert:hover {\n",
              "      background-color: #E2EBFA;\n",
              "      box-shadow: 0px 1px 2px rgba(60, 64, 67, 0.3), 0px 1px 3px 1px rgba(60, 64, 67, 0.15);\n",
              "      fill: #174EA6;\n",
              "    }\n",
              "\n",
              "    [theme=dark] .colab-df-convert {\n",
              "      background-color: #3B4455;\n",
              "      fill: #D2E3FC;\n",
              "    }\n",
              "\n",
              "    [theme=dark] .colab-df-convert:hover {\n",
              "      background-color: #434B5C;\n",
              "      box-shadow: 0px 1px 3px 1px rgba(0, 0, 0, 0.15);\n",
              "      filter: drop-shadow(0px 1px 2px rgba(0, 0, 0, 0.3));\n",
              "      fill: #FFFFFF;\n",
              "    }\n",
              "  </style>\n",
              "\n",
              "      <script>\n",
              "        const buttonEl =\n",
              "          document.querySelector('#df-13343127-04d6-4d1d-8280-f779acc355ca button.colab-df-convert');\n",
              "        buttonEl.style.display =\n",
              "          google.colab.kernel.accessAllowed ? 'block' : 'none';\n",
              "\n",
              "        async function convertToInteractive(key) {\n",
              "          const element = document.querySelector('#df-13343127-04d6-4d1d-8280-f779acc355ca');\n",
              "          const dataTable =\n",
              "            await google.colab.kernel.invokeFunction('convertToInteractive',\n",
              "                                                     [key], {});\n",
              "          if (!dataTable) return;\n",
              "\n",
              "          const docLinkHtml = 'Like what you see? Visit the ' +\n",
              "            '<a target=\"_blank\" href=https://colab.research.google.com/notebooks/data_table.ipynb>data table notebook</a>'\n",
              "            + ' to learn more about interactive tables.';\n",
              "          element.innerHTML = '';\n",
              "          dataTable['output_type'] = 'display_data';\n",
              "          await google.colab.output.renderOutput(dataTable, element);\n",
              "          const docLink = document.createElement('div');\n",
              "          docLink.innerHTML = docLinkHtml;\n",
              "          element.appendChild(docLink);\n",
              "        }\n",
              "      </script>\n",
              "    </div>\n",
              "  </div>\n",
              "  "
            ],
            "text/plain": [
              "       NumTimesPrg   PlGlcConc      BloodP   SkinThick  TwoHourSerIns  \\\n",
              "count   768.000000  768.000000  768.000000  768.000000     768.000000   \n",
              "mean      3.845052  120.894531   69.105469   20.536458      79.799479   \n",
              "std       3.369578   31.972618   19.355807   15.952218     115.244002   \n",
              "min       0.000000    0.000000    0.000000    0.000000       0.000000   \n",
              "25%       1.000000   99.000000   62.000000    0.000000       0.000000   \n",
              "50%       3.000000  117.000000   72.000000   23.000000      30.500000   \n",
              "75%       6.000000  140.250000   80.000000   32.000000     127.250000   \n",
              "max      17.000000  199.000000  122.000000   99.000000     846.000000   \n",
              "\n",
              "              BMI   DiPedFunc         Age  HasDiabetes  \n",
              "count  768.000000  768.000000  768.000000   768.000000  \n",
              "mean    31.992578    0.471876   33.240885     0.348958  \n",
              "std      7.884160    0.331329   11.760232     0.476951  \n",
              "min      0.000000    0.078000   21.000000     0.000000  \n",
              "25%     27.300000    0.243750   24.000000     0.000000  \n",
              "50%     32.000000    0.372500   29.000000     0.000000  \n",
              "75%     36.600000    0.626250   41.000000     1.000000  \n",
              "max     67.100000    2.420000   81.000000     1.000000  "
            ]
          },
          "execution_count": 4,
          "metadata": {},
          "output_type": "execute_result"
        }
      ],
      "source": [
        "#TO DO:\n",
        "# Number of times pregnant\n",
        "# Plasma glucose concentration a 2 hours in an oral glucose tolerance test\n",
        "# Diastolic blood pressure (mm Hg)\n",
        "# Triceps skinfold thickness (mm)\n",
        "# 2-Hour serum insulin (mu U/ml)\n",
        "# Body mass index (weight in kg/(height in m)^2)\n",
        "# Diabetes pedigree function\n",
        "# Age (years)\n",
        "print(\"Shape of Data: {}\".format(data.shape))\n",
        "data.describe()"
      ]
    },
    {
      "cell_type": "code",
      "execution_count": null,
      "metadata": {
        "colab": {
          "base_uri": "https://localhost:8080/"
        },
        "id": "kwff3InYgj6g",
        "outputId": "9350dfa2-fa37-4a6d-c9a6-c92eb66364fe"
      },
      "outputs": [
        {
          "name": "stdout",
          "output_type": "stream",
          "text": [
            "<class 'pandas.core.frame.DataFrame'>\n",
            "RangeIndex: 768 entries, 0 to 767\n",
            "Data columns (total 9 columns):\n",
            " #   Column         Non-Null Count  Dtype  \n",
            "---  ------         --------------  -----  \n",
            " 0   NumTimesPrg    768 non-null    int64  \n",
            " 1   PlGlcConc      768 non-null    int64  \n",
            " 2   BloodP         768 non-null    int64  \n",
            " 3   SkinThick      768 non-null    int64  \n",
            " 4   TwoHourSerIns  768 non-null    int64  \n",
            " 5   BMI            768 non-null    float64\n",
            " 6   DiPedFunc      768 non-null    float64\n",
            " 7   Age            768 non-null    int64  \n",
            " 8   HasDiabetes    768 non-null    int64  \n",
            "dtypes: float64(2), int64(7)\n",
            "memory usage: 54.1 KB\n"
          ]
        }
      ],
      "source": [
        "data.info()"
      ]
    },
    {
      "cell_type": "code",
      "execution_count": null,
      "metadata": {
        "colab": {
          "base_uri": "https://localhost:8080/"
        },
        "id": "pU2olk-Fgr2B",
        "outputId": "9db4d878-f37f-4d90-e5bc-16c0f3bc16e5"
      },
      "outputs": [
        {
          "data": {
            "text/plain": [
              "NumTimesPrg      False\n",
              "PlGlcConc        False\n",
              "BloodP           False\n",
              "SkinThick        False\n",
              "TwoHourSerIns    False\n",
              "BMI              False\n",
              "DiPedFunc        False\n",
              "Age              False\n",
              "HasDiabetes      False\n",
              "dtype: bool"
            ]
          },
          "execution_count": 6,
          "metadata": {},
          "output_type": "execute_result"
        }
      ],
      "source": [
        "data.isnull().any()"
      ]
    },
    {
      "cell_type": "markdown",
      "metadata": {
        "id": "a02T2r1XM1kY"
      },
      "source": [
        "# Data visualization and pre-processing\n",
        "\n"
      ]
    },
    {
      "cell_type": "markdown",
      "metadata": {
        "id": "WyisS4NVM1kZ"
      },
      "source": [
        "## Data correlation matrix\n",
        "### 3. Let's calculate the correlation matrix for our dataset.\n",
        "\n",
        "The correlation matrix is an important tool to understand the correlation between the different characteristics. The values range from -1 to 1 and the closer a value is to 1 the better correlation there is between two characteristics. "
      ]
    },
    {
      "cell_type": "code",
      "execution_count": null,
      "metadata": {
        "colab": {
          "base_uri": "https://localhost:8080/",
          "height": 376
        },
        "id": "vymkxfN8M1kZ",
        "outputId": "e700c3eb-0fd3-49fa-879d-0b70d416703f"
      },
      "outputs": [
        {
          "data": {
            "text/html": [
              "\n",
              "  <div id=\"df-583f5513-ed20-4385-ade2-6aa9b03e7914\">\n",
              "    <div class=\"colab-df-container\">\n",
              "      <div>\n",
              "<style scoped>\n",
              "    .dataframe tbody tr th:only-of-type {\n",
              "        vertical-align: middle;\n",
              "    }\n",
              "\n",
              "    .dataframe tbody tr th {\n",
              "        vertical-align: top;\n",
              "    }\n",
              "\n",
              "    .dataframe thead th {\n",
              "        text-align: right;\n",
              "    }\n",
              "</style>\n",
              "<table border=\"1\" class=\"dataframe\">\n",
              "  <thead>\n",
              "    <tr style=\"text-align: right;\">\n",
              "      <th></th>\n",
              "      <th>NumTimesPrg</th>\n",
              "      <th>PlGlcConc</th>\n",
              "      <th>BloodP</th>\n",
              "      <th>SkinThick</th>\n",
              "      <th>TwoHourSerIns</th>\n",
              "      <th>BMI</th>\n",
              "      <th>DiPedFunc</th>\n",
              "      <th>Age</th>\n",
              "      <th>HasDiabetes</th>\n",
              "    </tr>\n",
              "  </thead>\n",
              "  <tbody>\n",
              "    <tr>\n",
              "      <th>NumTimesPrg</th>\n",
              "      <td>1.000000</td>\n",
              "      <td>0.129459</td>\n",
              "      <td>0.141282</td>\n",
              "      <td>-0.081672</td>\n",
              "      <td>-0.073535</td>\n",
              "      <td>0.017683</td>\n",
              "      <td>-0.033523</td>\n",
              "      <td>0.544341</td>\n",
              "      <td>0.221898</td>\n",
              "    </tr>\n",
              "    <tr>\n",
              "      <th>PlGlcConc</th>\n",
              "      <td>0.129459</td>\n",
              "      <td>1.000000</td>\n",
              "      <td>0.152590</td>\n",
              "      <td>0.057328</td>\n",
              "      <td>0.331357</td>\n",
              "      <td>0.221071</td>\n",
              "      <td>0.137337</td>\n",
              "      <td>0.263514</td>\n",
              "      <td>0.466581</td>\n",
              "    </tr>\n",
              "    <tr>\n",
              "      <th>BloodP</th>\n",
              "      <td>0.141282</td>\n",
              "      <td>0.152590</td>\n",
              "      <td>1.000000</td>\n",
              "      <td>0.207371</td>\n",
              "      <td>0.088933</td>\n",
              "      <td>0.281805</td>\n",
              "      <td>0.041265</td>\n",
              "      <td>0.239528</td>\n",
              "      <td>0.065068</td>\n",
              "    </tr>\n",
              "    <tr>\n",
              "      <th>SkinThick</th>\n",
              "      <td>-0.081672</td>\n",
              "      <td>0.057328</td>\n",
              "      <td>0.207371</td>\n",
              "      <td>1.000000</td>\n",
              "      <td>0.436783</td>\n",
              "      <td>0.392573</td>\n",
              "      <td>0.183928</td>\n",
              "      <td>-0.113970</td>\n",
              "      <td>0.074752</td>\n",
              "    </tr>\n",
              "    <tr>\n",
              "      <th>TwoHourSerIns</th>\n",
              "      <td>-0.073535</td>\n",
              "      <td>0.331357</td>\n",
              "      <td>0.088933</td>\n",
              "      <td>0.436783</td>\n",
              "      <td>1.000000</td>\n",
              "      <td>0.197859</td>\n",
              "      <td>0.185071</td>\n",
              "      <td>-0.042163</td>\n",
              "      <td>0.130548</td>\n",
              "    </tr>\n",
              "    <tr>\n",
              "      <th>BMI</th>\n",
              "      <td>0.017683</td>\n",
              "      <td>0.221071</td>\n",
              "      <td>0.281805</td>\n",
              "      <td>0.392573</td>\n",
              "      <td>0.197859</td>\n",
              "      <td>1.000000</td>\n",
              "      <td>0.140647</td>\n",
              "      <td>0.036242</td>\n",
              "      <td>0.292695</td>\n",
              "    </tr>\n",
              "    <tr>\n",
              "      <th>DiPedFunc</th>\n",
              "      <td>-0.033523</td>\n",
              "      <td>0.137337</td>\n",
              "      <td>0.041265</td>\n",
              "      <td>0.183928</td>\n",
              "      <td>0.185071</td>\n",
              "      <td>0.140647</td>\n",
              "      <td>1.000000</td>\n",
              "      <td>0.033561</td>\n",
              "      <td>0.173844</td>\n",
              "    </tr>\n",
              "    <tr>\n",
              "      <th>Age</th>\n",
              "      <td>0.544341</td>\n",
              "      <td>0.263514</td>\n",
              "      <td>0.239528</td>\n",
              "      <td>-0.113970</td>\n",
              "      <td>-0.042163</td>\n",
              "      <td>0.036242</td>\n",
              "      <td>0.033561</td>\n",
              "      <td>1.000000</td>\n",
              "      <td>0.238356</td>\n",
              "    </tr>\n",
              "    <tr>\n",
              "      <th>HasDiabetes</th>\n",
              "      <td>0.221898</td>\n",
              "      <td>0.466581</td>\n",
              "      <td>0.065068</td>\n",
              "      <td>0.074752</td>\n",
              "      <td>0.130548</td>\n",
              "      <td>0.292695</td>\n",
              "      <td>0.173844</td>\n",
              "      <td>0.238356</td>\n",
              "      <td>1.000000</td>\n",
              "    </tr>\n",
              "  </tbody>\n",
              "</table>\n",
              "</div>\n",
              "      <button class=\"colab-df-convert\" onclick=\"convertToInteractive('df-583f5513-ed20-4385-ade2-6aa9b03e7914')\"\n",
              "              title=\"Convert this dataframe to an interactive table.\"\n",
              "              style=\"display:none;\">\n",
              "        \n",
              "  <svg xmlns=\"http://www.w3.org/2000/svg\" height=\"24px\"viewBox=\"0 0 24 24\"\n",
              "       width=\"24px\">\n",
              "    <path d=\"M0 0h24v24H0V0z\" fill=\"none\"/>\n",
              "    <path d=\"M18.56 5.44l.94 2.06.94-2.06 2.06-.94-2.06-.94-.94-2.06-.94 2.06-2.06.94zm-11 1L8.5 8.5l.94-2.06 2.06-.94-2.06-.94L8.5 2.5l-.94 2.06-2.06.94zm10 10l.94 2.06.94-2.06 2.06-.94-2.06-.94-.94-2.06-.94 2.06-2.06.94z\"/><path d=\"M17.41 7.96l-1.37-1.37c-.4-.4-.92-.59-1.43-.59-.52 0-1.04.2-1.43.59L10.3 9.45l-7.72 7.72c-.78.78-.78 2.05 0 2.83L4 21.41c.39.39.9.59 1.41.59.51 0 1.02-.2 1.41-.59l7.78-7.78 2.81-2.81c.8-.78.8-2.07 0-2.86zM5.41 20L4 18.59l7.72-7.72 1.47 1.35L5.41 20z\"/>\n",
              "  </svg>\n",
              "      </button>\n",
              "      \n",
              "  <style>\n",
              "    .colab-df-container {\n",
              "      display:flex;\n",
              "      flex-wrap:wrap;\n",
              "      gap: 12px;\n",
              "    }\n",
              "\n",
              "    .colab-df-convert {\n",
              "      background-color: #E8F0FE;\n",
              "      border: none;\n",
              "      border-radius: 50%;\n",
              "      cursor: pointer;\n",
              "      display: none;\n",
              "      fill: #1967D2;\n",
              "      height: 32px;\n",
              "      padding: 0 0 0 0;\n",
              "      width: 32px;\n",
              "    }\n",
              "\n",
              "    .colab-df-convert:hover {\n",
              "      background-color: #E2EBFA;\n",
              "      box-shadow: 0px 1px 2px rgba(60, 64, 67, 0.3), 0px 1px 3px 1px rgba(60, 64, 67, 0.15);\n",
              "      fill: #174EA6;\n",
              "    }\n",
              "\n",
              "    [theme=dark] .colab-df-convert {\n",
              "      background-color: #3B4455;\n",
              "      fill: #D2E3FC;\n",
              "    }\n",
              "\n",
              "    [theme=dark] .colab-df-convert:hover {\n",
              "      background-color: #434B5C;\n",
              "      box-shadow: 0px 1px 3px 1px rgba(0, 0, 0, 0.15);\n",
              "      filter: drop-shadow(0px 1px 2px rgba(0, 0, 0, 0.3));\n",
              "      fill: #FFFFFF;\n",
              "    }\n",
              "  </style>\n",
              "\n",
              "      <script>\n",
              "        const buttonEl =\n",
              "          document.querySelector('#df-583f5513-ed20-4385-ade2-6aa9b03e7914 button.colab-df-convert');\n",
              "        buttonEl.style.display =\n",
              "          google.colab.kernel.accessAllowed ? 'block' : 'none';\n",
              "\n",
              "        async function convertToInteractive(key) {\n",
              "          const element = document.querySelector('#df-583f5513-ed20-4385-ade2-6aa9b03e7914');\n",
              "          const dataTable =\n",
              "            await google.colab.kernel.invokeFunction('convertToInteractive',\n",
              "                                                     [key], {});\n",
              "          if (!dataTable) return;\n",
              "\n",
              "          const docLinkHtml = 'Like what you see? Visit the ' +\n",
              "            '<a target=\"_blank\" href=https://colab.research.google.com/notebooks/data_table.ipynb>data table notebook</a>'\n",
              "            + ' to learn more about interactive tables.';\n",
              "          element.innerHTML = '';\n",
              "          dataTable['output_type'] = 'display_data';\n",
              "          await google.colab.output.renderOutput(dataTable, element);\n",
              "          const docLink = document.createElement('div');\n",
              "          docLink.innerHTML = docLinkHtml;\n",
              "          element.appendChild(docLink);\n",
              "        }\n",
              "      </script>\n",
              "    </div>\n",
              "  </div>\n",
              "  "
            ],
            "text/plain": [
              "               NumTimesPrg  PlGlcConc    BloodP  SkinThick  TwoHourSerIns  \\\n",
              "NumTimesPrg       1.000000   0.129459  0.141282  -0.081672      -0.073535   \n",
              "PlGlcConc         0.129459   1.000000  0.152590   0.057328       0.331357   \n",
              "BloodP            0.141282   0.152590  1.000000   0.207371       0.088933   \n",
              "SkinThick        -0.081672   0.057328  0.207371   1.000000       0.436783   \n",
              "TwoHourSerIns    -0.073535   0.331357  0.088933   0.436783       1.000000   \n",
              "BMI               0.017683   0.221071  0.281805   0.392573       0.197859   \n",
              "DiPedFunc        -0.033523   0.137337  0.041265   0.183928       0.185071   \n",
              "Age               0.544341   0.263514  0.239528  -0.113970      -0.042163   \n",
              "HasDiabetes       0.221898   0.466581  0.065068   0.074752       0.130548   \n",
              "\n",
              "                    BMI  DiPedFunc       Age  HasDiabetes  \n",
              "NumTimesPrg    0.017683  -0.033523  0.544341     0.221898  \n",
              "PlGlcConc      0.221071   0.137337  0.263514     0.466581  \n",
              "BloodP         0.281805   0.041265  0.239528     0.065068  \n",
              "SkinThick      0.392573   0.183928 -0.113970     0.074752  \n",
              "TwoHourSerIns  0.197859   0.185071 -0.042163     0.130548  \n",
              "BMI            1.000000   0.140647  0.036242     0.292695  \n",
              "DiPedFunc      0.140647   1.000000  0.033561     0.173844  \n",
              "Age            0.036242   0.033561  1.000000     0.238356  \n",
              "HasDiabetes    0.292695   0.173844  0.238356     1.000000  "
            ]
          },
          "execution_count": 7,
          "metadata": {},
          "output_type": "execute_result"
        }
      ],
      "source": [
        "#TO DO:\n",
        "data.corr()"
      ]
    },
    {
      "cell_type": "markdown",
      "metadata": {
        "id": "Q0YpKuUBM1kb"
      },
      "source": [
        "### 4. Render the corr matrix using the heatmap in seaborn."
      ]
    },
    {
      "cell_type": "code",
      "execution_count": null,
      "metadata": {
        "colab": {
          "base_uri": "https://localhost:8080/",
          "height": 613
        },
        "id": "ll0POqtIM1kc",
        "outputId": "c9998ab8-41ac-4ba6-c436-decf5b16dd30"
      },
      "outputs": [
        {
          "data": {
            "text/plain": [
              "<matplotlib.axes._subplots.AxesSubplot at 0x7f55a0c22610>"
            ]
          },
          "execution_count": 148,
          "metadata": {},
          "output_type": "execute_result"
        },
        {
          "data": {
            "image/png": "[encoded data removed]",
            "text/plain": [
              "<Figure size 1080x720 with 2 Axes>"
            ]
          },
          "metadata": {},
          "output_type": "display_data"
        }
      ],
      "source": [
        "#TO DO:\n",
        "%matplotlib inline\n",
        "import seaborn as sns\n",
        "plt.figure(figsize = (15,10))\n",
        "sns.heatmap(data.corr(), annot = True)\n"
      ]
    },
    {
      "cell_type": "markdown",
      "metadata": {
        "id": "r7DgicVOM1ke"
      },
      "source": [
        "### 5. Print out the column which has the biggest corr number with 'HasDiabetes'."
      ]
    },
    {
      "cell_type": "code",
      "execution_count": null,
      "metadata": {
        "colab": {
          "base_uri": "https://localhost:8080/",
          "height": 35
        },
        "id": "DoZkwj3oM1ke",
        "outputId": "0add987d-b2c1-4fcc-a032-28f4af83838c"
      },
      "outputs": [
        {
          "data": {
            "application/vnd.google.colaboratory.intrinsic+json": {
              "type": "string"
            },
            "text/plain": [
              "'PlGlcConc'"
            ]
          },
          "execution_count": 8,
          "metadata": {},
          "output_type": "execute_result"
        }
      ],
      "source": [
        "data.corr()['HasDiabetes'].sort_values(ascending = False).keys()[1]"
      ]
    },
    {
      "cell_type": "markdown",
      "metadata": {
        "id": "gZ5Msu8UM1kg"
      },
      "source": [
        "## Visualize the Dataset\n",
        "Visualizing the data is an important step of the data analysis. With a graphical visualization of the data, we have a better understanding of the various features values distribution: for example, we can understand the average age of the people or the average BMI, etc...\n",
        "\n",
        "We could, of course, limit our inspection to the table visualization, but we could miss important things that may affect our model precision.\n",
        "### 6. Manipulate histogram to represent all data columns in the dataset."
      ]
    },
    {
      "cell_type": "code",
      "execution_count": null,
      "metadata": {
        "colab": {
          "base_uri": "https://localhost:8080/",
          "height": 1000
        },
        "id": "JC3CILgxM1kh",
        "outputId": "83c50733-359e-448e-8995-ebdb34def48f"
      },
      "outputs": [
        {
          "data": {
            "image/png": "[encoded data removed]",
            "text/plain": [
              "<Figure size 432x288 with 1 Axes>"
            ]
          },
          "metadata": {},
          "output_type": "display_data"
        },
        {
          "data": {
            "image/png": "[encoded data removed]",
            "text/plain": [
              "<Figure size 432x288 with 1 Axes>"
            ]
          },
          "metadata": {},
          "output_type": "display_data"
        },
        {
          "data": {
            "image/png": "[encoded data removed]",
            "text/plain": [
              "<Figure size 432x288 with 1 Axes>"
            ]
          },
          "metadata": {},
          "output_type": "display_data"
        },
        {
          "data": {
            "image/png": "[encoded data removed]",
            "text/plain": [
              "<Figure size 432x288 with 1 Axes>"
            ]
          },
          "metadata": {},
          "output_type": "display_data"
        },
        {
          "data": {
            "image/png": "[encoded data removed]",
            "text/plain": [
              "<Figure size 432x288 with 1 Axes>"
            ]
          },
          "metadata": {},
          "output_type": "display_data"
        },
        {
          "data": {
            "image/png": "[encoded data removed]",
            "text/plain": [
              "<Figure size 432x288 with 1 Axes>"
            ]
          },
          "metadata": {},
          "output_type": "display_data"
        },
        {
          "data": {
            "image/png": "[encoded data removed]",
            "text/plain": [
              "<Figure size 432x288 with 1 Axes>"
            ]
          },
          "metadata": {},
          "output_type": "display_data"
        },
        {
          "data": {
            "image/png": "[encoded data removed]",
            "text/plain": [
              "<Figure size 432x288 with 1 Axes>"
            ]
          },
          "metadata": {},
          "output_type": "display_data"
        },
        {
          "data": {
            "image/png": "[encoded data removed]",
            "text/plain": [
              "<Figure size 432x288 with 1 Axes>"
            ]
          },
          "metadata": {},
          "output_type": "display_data"
        }
      ],
      "source": [
        "#TO DO:\n",
        "for i in data.columns:\n",
        "  col = data[i]\n",
        "  plt.figure() #Pull the figure so they plot on separate graphs\n",
        "  col.plot.hist(title = i, rot = 0) #Plot the column"
      ]
    },
    {
      "cell_type": "markdown",
      "metadata": {
        "id": "VYSkabikM1kj"
      },
      "source": [
        "An important thing I notice in the dataset (and that wasn't obvious at the beginning) is the fact that some people have null (zero) values for some of the features: it's not quite possible to have 0 for BMI or the blood pressure.\n",
        "\n",
        "How can we deal with similar values? We will see it later during the data transformation phase."
      ]
    },
    {
      "cell_type": "markdown",
      "metadata": {
        "id": "si5Fgks4M1kj"
      },
      "source": [
        "## Data cleaning and transformation"
      ]
    },
    {
      "cell_type": "markdown",
      "metadata": {
        "id": "ZDAqJwOaM1kk"
      },
      "source": [
        "We have noticed from the previous analysis that some patients have missing data for some of the features. Machine learning algorithms don't work very well when the data are missing so we have to find a solution to \"clean\" the data we have.\n",
        "\n",
        "The easiest option could be to eliminate all those patients with null/zero values, but in this way, we would eliminate a lot of important data.\n",
        "\n",
        "Another option is to calculate the median value for a specific column and substitute that value everywhere (in the same column) we have zero or null. Let's see how to apply this second method.\n",
        "\n",
        "### 7. Interpolate missing values on ['BMI', 'BloodP', 'PlGlcConc', 'SkinThick',  'TwoHourSerIns'] using median values or any other way which is effective.\n",
        "\n",
        "We haven't transformed all the columns, because of some values which can make sense to be zero (like \"Number of times pregnant\")."
      ]
    },
    {
      "cell_type": "code",
      "execution_count": null,
      "metadata": {
        "id": "ccZyY2RbM1kk"
      },
      "outputs": [],
      "source": [
        "#TO DO:\n",
        "for i in data.columns:\n",
        "  data[data[i].isnull()]  = data[i].mean()"
      ]
    },
    {
      "cell_type": "markdown",
      "metadata": {
        "id": "-8h0P-vLM1kl"
      },
      "source": [
        "## Normalize Data "
      ]
    },
    {
      "cell_type": "markdown",
      "metadata": {
        "id": "GNxKYsijM1km"
      },
      "source": [
        "One of the most important data transformations we need to apply is the features scaling. Basically, most of the machine learning algorithms don't work very well if the features have a different set of values. In our case, for example, the Age ranges from 20 to 80 years old, while the number of times a patient has been pregnant ranges from 0 to 17. For this reason, we need to apply a proper transformation.\n",
        "\n",
        "### 8. Execute Data Standardization using data zero mean and unit variance (don't forget to remove ground truth column before scaling)."
      ]
    },
    {
      "cell_type": "code",
      "execution_count": null,
      "metadata": {
        "id": "S22D1f6QM1km"
      },
      "outputs": [],
      "source": [
        "#TO DO:\n",
        "x = data.drop('HasDiabetes', axis = 1)\n",
        "y = data['HasDiabetes']"
      ]
    },
    {
      "cell_type": "code",
      "execution_count": null,
      "metadata": {
        "id": "k0pv-HrTHRlZ"
      },
      "outputs": [],
      "source": [
        "from sklearn.preprocessing import StandardScaler\n",
        "scaler = StandardScaler()\n",
        "x = scaler.fit_transform(x)"
      ]
    },
    {
      "cell_type": "markdown",
      "metadata": {
        "id": "oOHQu_2rM1ko"
      },
      "source": [
        "# Splitting the Dataset"
      ]
    },
    {
      "cell_type": "markdown",
      "metadata": {
        "id": "luDui2xtM1ko"
      },
      "source": [
        "Now that we have transformed the data, we need to split the dataset into two parts: a training dataset and a test dataset. Splitting the dataset is a very important step for supervised machine learning models. Basically, we are going to use the first part to train the model (ignoring the column with the pre-assigned label), then we use the trained model to make predictions on new data (which is the test dataset, not part of the training set) and compare the predicted value with the pre-assigned label.\n",
        "\n",
        "### 9. Split the dataset into 80/20 using the stratified technique and random_state=7."
      ]
    },
    {
      "cell_type": "code",
      "execution_count": null,
      "metadata": {
        "id": "Xfh4QK1oM1kp"
      },
      "outputs": [],
      "source": [
        "#TO DO:\n",
        "from sklearn.model_selection import train_test_split\n",
        "x_train, x_test, y_train, y_test = train_test_split(x,y, test_size = 0.2, random_state = 7, stratify = y)"
      ]
    },
    {
      "cell_type": "markdown",
      "metadata": {
        "id": "Yk3Y6qVtM1kq"
      },
      "source": [
        "# Additional Question: \n",
        "### Why should we perform data normalization and data splitting before the training step?\n",
        "Type your answer in the cell bellow as the markdown format."
      ]
    },
    {
      "cell_type": "markdown",
      "metadata": {
        "id": "2yXSkeUjM1kr"
      },
      "source": [
        "### TO DO:\n"
      ]
    },
    {
      "cell_type": "markdown",
      "metadata": {
        "id": "6PaVBEAwM1ks"
      },
      "source": [
        "### 10. Print out the proportion of positive/total women who have diabetes on the full dataset, training dataset, and testing dataset."
      ]
    },
    {
      "cell_type": "code",
      "execution_count": null,
      "metadata": {
        "colab": {
          "base_uri": "https://localhost:8080/"
        },
        "id": "36nXnB7cM1ku",
        "outputId": "68e34a62-6ae8-480e-abde-57120819d71d"
      },
      "outputs": [
        {
          "name": "stdout",
          "output_type": "stream",
          "text": [
            "The proportion of positive/total women in full dataset: 0.349\n",
            "The proportion of positive/total women in training: 0.349\n",
            "The proportion of positive/total women in test: 0.351\n"
          ]
        }
      ],
      "source": [
        "#TO DO:\n",
        "print(\"The proportion of positive/total women in full dataset: {}\".format(round(len(y[y == 1])/len(y),3)))\n",
        "print(\"The proportion of positive/total women in training: {}\".format(round(len(y_train[y_train == 1])/len(y_train),3)))\n",
        "print(\"The proportion of positive/total women in test: {}\".format(round(len(y_test[y_test == 1])/len(y_test),3)))"
      ]
    },
    {
      "cell_type": "markdown",
      "metadata": {
        "id": "KHXGaCazM1k0"
      },
      "source": [
        "# Classification "
      ]
    },
    {
      "cell_type": "markdown",
      "metadata": {
        "id": "Q-NwUyDVM1k0"
      },
      "source": [
        "Now, it is your turn, use the training set to build an accurate model. Then use the test set to report the accuracy of the model.\n",
        "\n",
        "You should use the following algorithms:\n",
        "- K Nearest Neighbor(KNN)\n",
        "- Decision Tree\n",
        "- Support Vector Machine\n",
        "- Logistic Regression\n",
        "- Soft voting\n",
        "- Hard voting\n",
        "\n",
        "\n",
        "\n",
        "**__ Notes:__**\n",
        "\n",
        "- You must try to **FINE TUNE AT LEAST 3 PARAMETERS** on each algorithm, except on soft voting and hard voting.\n",
        "- You can go above and change the pre-processing, feature selection, feature extraction, and so on, to make a better model.\n",
        "- You should use either scikit-learn, Scipy or Numpy libraries for developing the classification algorithms.\n",
        "- You should include the code of the algorithm in the following cells."
      ]
    },
    {
      "cell_type": "markdown",
      "metadata": {
        "id": "c8HKeDu9M1k1"
      },
      "source": [
        "# Import Evaluation Metrices"
      ]
    },
    {
      "cell_type": "code",
      "execution_count": null,
      "metadata": {
        "id": "sZrg6rrsM1k1"
      },
      "outputs": [],
      "source": [
        "from sklearn.metrics import accuracy_score, f1_score"
      ]
    },
    {
      "cell_type": "code",
      "execution_count": null,
      "metadata": {
        "id": "TBXdCSP-M1k3"
      },
      "outputs": [],
      "source": [
        "# a dictionary for keeping all scores of the classifiers\n",
        "f1_scores = {'train':{'KNN': 0, 'DT': 0, 'SVM': 0, 'LR': 0, 'EN_HARD': 0, 'EN_SOFT': 0},\n",
        "             'test':{'KNN': 0, 'DT': 0, 'SVM': 0, 'LR': 0, 'EN_HARD': 0, 'EN_SOFT': 0}}\n",
        "jaccard_scores = {'train':{'KNN': 0, 'DT': 0, 'SVM': 0, 'LR': 0, 'EN_HARD': 0, 'EN_SOFT': 0}, \n",
        "                  'test':{'KNN': 0, 'DT': 0, 'SVM': 0, 'LR': 0, 'EN_HARD': 0, 'EN_SOFT': 0}}\n"
      ]
    },
    {
      "cell_type": "markdown",
      "metadata": {
        "id": "ntwqYDm7M1k6"
      },
      "source": [
        "# K Nearest Neighbor(KNN)\n",
        "### 11. Finetune at least 3 parameters to get the KNN model with best accuracy. Then, print out the KNN model's parameters with the best accuracy(best estimator).\n",
        "Hint: Using GridSearchCV in sklearn.model_selection.\n",
        "\n",
        "**Warning:** You should not use the test data for finding the best parameters."
      ]
    },
    {
      "cell_type": "code",
      "execution_count": null,
      "metadata": {
        "id": "WpD6yCUlM1k7"
      },
      "outputs": [],
      "source": [
        "from sklearn.neighbors import KNeighborsClassifier\n",
        "from sklearn.model_selection import GridSearchCV"
      ]
    },
    {
      "cell_type": "code",
      "execution_count": null,
      "metadata": {
        "id": "8A3bFeF5bgYv"
      },
      "outputs": [],
      "source": [
        "knn = KNeighborsClassifier()"
      ]
    },
    {
      "cell_type": "code",
      "execution_count": null,
      "metadata": {
        "colab": {
          "background_save": true,
          "base_uri": "https://localhost:8080/"
        },
        "id": "Xw2vbHFKM1k9",
        "outputId": "7ff2f11b-f631-4839-8373-840929407817"
      },
      "outputs": [
        {
          "name": "stdout",
          "output_type": "stream",
          "text": [
            "Fitting 10 folds for each of 880 candidates, totalling 8800 fits\n"
          ]
        }
      ],
      "source": [
        "#TO DO:\n",
        "k_range = list(range(1,21))\n",
        "param_grid = {\"n_neighbors\": k_range,\n",
        "              \"weights\":[\"uniform\", \"distance\"],\n",
        "              \"leaf_size\": list(range(10,21)),\n",
        "              'p':[1,2]\n",
        "              \n",
        "              }\n",
        "grid = GridSearchCV(knn, \n",
        "                    param_grid, \n",
        "                    cv = 10, \n",
        "                    scoring = 'accuracy',\n",
        "                     return_train_score=True,verbose=1)\n",
        "grid_search_knn=grid.fit(x_train, y_train)"
      ]
    },
    {
      "cell_type": "markdown",
      "metadata": {
        "id": "QLvhv6JrM1lA"
      },
      "source": [
        "# Additional Question: \n",
        "### Interpret and explain the parameters you have chosen to fine tune in KNN algorithm.\n",
        "Type your answer in the cell bellow as markdown format."
      ]
    },
    {
      "cell_type": "code",
      "execution_count": null,
      "metadata": {
        "colab": {
          "background_save": true
        },
        "id": "jKuoPxPsMFgI",
        "outputId": "a8431e72-b0f4-47ad-81c9-8fb9c86ea678"
      },
      "outputs": [
        {
          "name": "stdout",
          "output_type": "stream",
          "text": [
            "{'leaf_size': 10, 'n_neighbors': 19, 'p': 2, 'weights': 'distance'}\n"
          ]
        }
      ],
      "source": [
        "print(grid_search_knn.best_params_)"
      ]
    },
    {
      "cell_type": "code",
      "execution_count": null,
      "metadata": {
        "colab": {
          "background_save": true
        },
        "id": "CVwNx2scrNbC",
        "outputId": "91b8f61d-e046-42d2-d627-8ddd16ec9193"
      },
      "outputs": [
        {
          "name": "stdout",
          "output_type": "stream",
          "text": [
            "Mô hình đạt hiệu quả, độ chính xác cao nhất khi:\n",
            "\n",
            " - Số lá: 10\n",
            "\n",
            " - Số điểm kề: 19\n",
            "\n",
            " - Phương pháp dự đoan: distance\n",
            "\n",
            " - Phương pháp tinh toán: 2\n"
          ]
        }
      ],
      "source": [
        "# TO DO\n",
        "print(\"Mô hình đạt hiệu quả, độ chính xác cao nhất khi:\")\n",
        "print(\"\\n - Số lá: {}\".format(grid_search_knn.best_estimator_.leaf_size))\n",
        "print(\"\\n - Số điểm kề: {}\".format(grid_search_knn.best_estimator_.n_neighbors))\n",
        "print(\"\\n - Phương pháp dự đoan: {}\".format(grid_search_knn.best_estimator_.weights))\n",
        "print(\"\\n - Phương pháp tinh toán: {}\".format(grid_search_knn.best_estimator_.p))"
      ]
    },
    {
      "cell_type": "markdown",
      "metadata": {
        "id": "GsPgXPEpM1lB"
      },
      "source": [
        "### 12. Run the prediction on KNN models on training data and test data, then calculate the f1 score and Jaccard similarity score and save it to f1_scores dict and jaccard_scores dict.  \n",
        "**Requirement**: F1 score on test data must be higher than **0.6**, Jaccard similarity score must be higher than **0.75**."
      ]
    },
    {
      "cell_type": "code",
      "execution_count": null,
      "metadata": {
        "colab": {
          "base_uri": "https://localhost:8080/"
        },
        "id": "GxclqWk1M1lB",
        "outputId": "6b28e329-3611-40a1-f1d5-293312be3355"
      },
      "outputs": [
        {
          "name": "stdout",
          "output_type": "stream",
          "text": [
            "F1_score là: 0.6250000000000001\n",
            "Accuracy Score là: 0.7662337662337663\n"
          ]
        }
      ],
      "source": [
        "#TO DO:\n",
        "from sklearn.metrics import f1_score\n",
        "from sklearn.metrics import accuracy_score\n",
        "knn = KNeighborsClassifier(n_neighbors =  21)\n",
        "knn.fit(x_train, y_train)\n",
        "y_pred = knn.predict(x_test).astype('int64')\n",
        "print(\"F1_score là: {}\".format(roundf1_score(y_test, y_pred)))\n",
        "print(\"Accuracy Score là: {}\".format(accuracy_score(y_test, y_pred)))\n"
      ]
    },
    {
      "cell_type": "markdown",
      "metadata": {
        "id": "NXIl2GGLM1lE"
      },
      "source": [
        "# Decision Tree"
      ]
    },
    {
      "cell_type": "markdown",
      "metadata": {
        "id": "kW11u1k6M1lF"
      },
      "source": [
        "### 13, 14. Perform task 11 and 12 on the DT model.\n",
        "\n",
        "Hint: Using GridSearchCV in sklearn.model_selection.\n",
        "\n",
        "**Warning**: You should not use the test data for finding the best parameters.\n",
        "\n",
        "**Requirement**: F1 score on test data has to higher than **0.6**, the Jaccard similarity score must be higher than **0.73**."
      ]
    },
    {
      "cell_type": "code",
      "execution_count": null,
      "metadata": {
        "id": "CnE8pvjvM1lG"
      },
      "outputs": [],
      "source": [
        "from sklearn.tree import DecisionTreeClassifier"
      ]
    },
    {
      "cell_type": "code",
      "execution_count": null,
      "metadata": {
        "colab": {
          "base_uri": "https://localhost:8080/"
        },
        "id": "RPdHH2HiM1lI",
        "outputId": "5dc7a258-70f8-416c-c722-ae3c3e15166c"
      },
      "outputs": [
        {
          "name": "stdout",
          "output_type": "stream",
          "text": [
            "Fitting 5 folds for each of 576 candidates, totalling 2880 fits\n"
          ]
        },
        {
          "name": "stderr",
          "output_type": "stream",
          "text": [
            "/usr/local/lib/python3.7/dist-packages/sklearn/model_selection/_validation.py:372: FitFailedWarning: \n",
            "1440 fits failed out of a total of 2880.\n",
            "The score on these train-test partitions for these parameters will be set to nan.\n",
            "If these failures are not expected, you can try to debug them by setting error_score='raise'.\n",
            "\n",
            "Below are more details about the failures:\n",
            "--------------------------------------------------------------------------------\n",
            "1440 fits failed with the following error:\n",
            "Traceback (most recent call last):\n",
            "  File \"/usr/local/lib/python3.7/dist-packages/sklearn/model_selection/_validation.py\", line 680, in _fit_and_score\n",
            "    estimator.fit(X_train, y_train, **fit_params)\n",
            "  File \"/usr/local/lib/python3.7/dist-packages/sklearn/tree/_classes.py\", line 942, in fit\n",
            "    X_idx_sorted=X_idx_sorted,\n",
            "  File \"/usr/local/lib/python3.7/dist-packages/sklearn/tree/_classes.py\", line 352, in fit\n",
            "    criterion = CRITERIA_CLF[self.criterion](\n",
            "KeyError: 'entrophy'\n",
            "\n",
            "  warnings.warn(some_fits_failed_message, FitFailedWarning)\n",
            "/usr/local/lib/python3.7/dist-packages/sklearn/model_selection/_search.py:972: UserWarning: One or more of the test scores are non-finite: [0.65147274 0.65147274 0.65147274 0.65147274 0.65147274 0.65147274\n",
            " 0.65147274 0.65147274 0.65147274 0.65147274 0.65147274 0.65147274\n",
            " 0.65147274 0.65147274 0.65147274 0.65147274 0.65147274 0.65147274\n",
            " 0.65147274 0.65147274 0.65147274 0.65147274 0.65147274 0.65147274\n",
            " 0.65147274 0.65147274 0.65147274 0.65147274 0.65147274 0.65147274\n",
            " 0.65147274 0.65147274 0.65147274 0.65147274 0.65147274 0.65147274\n",
            " 0.65147274 0.65147274 0.65147274 0.65147274 0.65147274 0.65147274\n",
            " 0.65147274 0.65147274 0.65147274 0.65147274 0.65147274 0.65147274\n",
            " 0.65147274 0.65147274 0.65147274 0.65147274 0.65147274 0.65147274\n",
            " 0.65147274 0.65147274 0.65147274 0.65147274 0.65147274 0.65147274\n",
            " 0.65147274 0.65147274 0.65147274 0.65147274 0.65147274 0.65147274\n",
            " 0.65147274 0.65147274 0.65147274 0.65147274 0.65147274 0.65147274\n",
            " 0.65147274 0.65147274 0.65147274 0.65147274 0.65147274 0.65147274\n",
            " 0.65147274 0.65147274 0.65147274 0.65147274 0.65147274 0.65147274\n",
            " 0.65147274 0.65147274 0.65147274 0.65147274 0.65147274 0.65147274\n",
            " 0.65147274 0.65147274 0.65147274 0.65147274 0.65147274 0.65147274\n",
            "        nan        nan        nan        nan        nan        nan\n",
            "        nan        nan        nan        nan        nan        nan\n",
            "        nan        nan        nan        nan        nan        nan\n",
            "        nan        nan        nan        nan        nan        nan\n",
            "        nan        nan        nan        nan        nan        nan\n",
            "        nan        nan        nan        nan        nan        nan\n",
            "        nan        nan        nan        nan        nan        nan\n",
            "        nan        nan        nan        nan        nan        nan\n",
            "        nan        nan        nan        nan        nan        nan\n",
            "        nan        nan        nan        nan        nan        nan\n",
            "        nan        nan        nan        nan        nan        nan\n",
            "        nan        nan        nan        nan        nan        nan\n",
            "        nan        nan        nan        nan        nan        nan\n",
            "        nan        nan        nan        nan        nan        nan\n",
            "        nan        nan        nan        nan        nan        nan\n",
            "        nan        nan        nan        nan        nan        nan\n",
            " 0.68721845 0.65795015 0.74263628 0.68074104 0.72307077 0.67094496\n",
            " 0.70182594 0.67102492 0.709996   0.66610689 0.69206984 0.67261096\n",
            " 0.69865387 0.63669199 0.72301746 0.68242037 0.70669066 0.66933227\n",
            " 0.71484739 0.66938558 0.72792216 0.70517126 0.72961482 0.66445422\n",
            " 0.68239371 0.66943889 0.73618553 0.65469812 0.69051046 0.65960283\n",
            " 0.68897774 0.66112222 0.73935759 0.65964281 0.7197521  0.65476476\n",
            " 0.72953485 0.69862722 0.70840997 0.68731174 0.73767826 0.69205651\n",
            " 0.72786885 0.68240704 0.73280021 0.69868053 0.72629615 0.65471145\n",
            " 0.70835666 0.66448087 0.72956151 0.63829135 0.71487405 0.70513128\n",
            " 0.69044382 0.65797681 0.72948154 0.62854858 0.69865387 0.66773291\n",
            " 0.73443956 0.65476476 0.64658137 0.68893776 0.72792216 0.66605358\n",
            " 0.72148474 0.68236705 0.74588831 0.68070105 0.68887112 0.66773291\n",
            " 0.71174197 0.66773291 0.72149807 0.65636412 0.73775823 0.67105158\n",
            " 0.71167533 0.66453419 0.71331467 0.7003332  0.6985739  0.67911502\n",
            " 0.72473677 0.67261096 0.73611889 0.66129548 0.70673064 0.66453419\n",
            " 0.72303079 0.70515794 0.6937625  0.65143276 0.70831667 0.68561909\n",
            "        nan        nan        nan        nan        nan        nan\n",
            "        nan        nan        nan        nan        nan        nan\n",
            "        nan        nan        nan        nan        nan        nan\n",
            "        nan        nan        nan        nan        nan        nan\n",
            "        nan        nan        nan        nan        nan        nan\n",
            "        nan        nan        nan        nan        nan        nan\n",
            "        nan        nan        nan        nan        nan        nan\n",
            "        nan        nan        nan        nan        nan        nan\n",
            "        nan        nan        nan        nan        nan        nan\n",
            "        nan        nan        nan        nan        nan        nan\n",
            "        nan        nan        nan        nan        nan        nan\n",
            "        nan        nan        nan        nan        nan        nan\n",
            "        nan        nan        nan        nan        nan        nan\n",
            "        nan        nan        nan        nan        nan        nan\n",
            "        nan        nan        nan        nan        nan        nan\n",
            "        nan        nan        nan        nan        nan        nan\n",
            " 0.69056377 0.69384246 0.71492736 0.64980674 0.71496735 0.677489\n",
            " 0.72145808 0.69870718 0.70193256 0.69525523 0.711662   0.68399307\n",
            " 0.71650007 0.68240704 0.69052379 0.67423697 0.71322138 0.71326136\n",
            " 0.70018659 0.69213648 0.7247501  0.68399307 0.69696122 0.6693456\n",
            " 0.70345195 0.69701453 0.70027989 0.67751566 0.68235373 0.68074104\n",
            " 0.70347861 0.6725843  0.70514461 0.66286819 0.70682394 0.68563241\n",
            " 0.72472344 0.67103825 0.68725843 0.67912835 0.71487405 0.71817939\n",
            " 0.71807277 0.70681061 0.70030654 0.70354525 0.75401839 0.69701453\n",
            " 0.7050913  0.70518459 0.70678395 0.69858723 0.72636279 0.68712515\n",
            " 0.75071305 0.67587632 0.68074104 0.69214981 0.72300413 0.71007597\n",
            " 0.69532187 0.6742503  0.73276023 0.68395309 0.68392643 0.70345195\n",
            " 0.71816607 0.69220312 0.71495402 0.67263761 0.72629615 0.71815274\n",
            " 0.70838331 0.69044382 0.70351859 0.68563241 0.70844995 0.70361189\n",
            " 0.71647341 0.67583633 0.69051046 0.67922164 0.7019059  0.68083433\n",
            " 0.7344129  0.71176863 0.71976543 0.66278822 0.71977876 0.71319472\n",
            " 0.70671731 0.66761295 0.73281354 0.66457417 0.72622951 0.68565907\n",
            "        nan        nan        nan        nan        nan        nan\n",
            "        nan        nan        nan        nan        nan        nan\n",
            "        nan        nan        nan        nan        nan        nan\n",
            "        nan        nan        nan        nan        nan        nan\n",
            "        nan        nan        nan        nan        nan        nan\n",
            "        nan        nan        nan        nan        nan        nan\n",
            "        nan        nan        nan        nan        nan        nan\n",
            "        nan        nan        nan        nan        nan        nan\n",
            "        nan        nan        nan        nan        nan        nan\n",
            "        nan        nan        nan        nan        nan        nan\n",
            "        nan        nan        nan        nan        nan        nan\n",
            "        nan        nan        nan        nan        nan        nan\n",
            "        nan        nan        nan        nan        nan        nan\n",
            "        nan        nan        nan        nan        nan        nan\n",
            "        nan        nan        nan        nan        nan        nan\n",
            "        nan        nan        nan        nan        nan        nan]\n",
            "  category=UserWarning,\n"
          ]
        },
        {
          "data": {
            "text/plain": [
              "GridSearchCV(cv=5, estimator=DecisionTreeClassifier(),\n",
              "             param_grid={'ccp_alpha': [0.1, 0.01, 0.001],\n",
              "                         'criterion': ['gini', 'entrophy'],\n",
              "                         'max_depth': [5, 6, 7, 8],\n",
              "                         'max_features': ['auto', 'sqrt', 'log2'],\n",
              "                         'min_samples_leaf': [4, 6, 8, 10],\n",
              "                         'splitter': ['best', 'random']},\n",
              "             verbose=True)"
            ]
          },
          "execution_count": 165,
          "metadata": {},
          "output_type": "execute_result"
        }
      ],
      "source": [
        "#TO DO:\n",
        "model = DecisionTreeClassifier()\n",
        "from sklearn.model_selection import GridSearchCV\n",
        "param_grid = {'max_features':['auto','sqrt','log2'],\n",
        "              'ccp_alpha':[0.1,0.01,0.001],\n",
        "              'max_depth': [5,6,7,8],\n",
        "              'min_samples_leaf': [4,6,8,10],\n",
        "              'splitter':[\"best\", \"random\"],\n",
        "              'criterion':['gini','entrophy']}\n",
        "grid_search_dt = GridSearchCV(model, param_grid=param_grid, cv=5, verbose=True)\n",
        "grid_search_dt.fit(x_train, y_train)           "
      ]
    },
    {
      "cell_type": "code",
      "execution_count": null,
      "metadata": {
        "colab": {
          "base_uri": "https://localhost:8080/"
        },
        "id": "jScsEx6v1N-e",
        "outputId": "d09ed9f2-5aec-4ad2-ee51-449cc82a150f"
      },
      "outputs": [
        {
          "name": "stdout",
          "output_type": "stream",
          "text": [
            "F1_score là: 0.7662337662337663\n",
            "Accuracy Score là: 0.7662337662337663\n"
          ]
        }
      ],
      "source": [
        "dtc = DecisionTreeClassifier(ccp_alpha=0.01, max_depth= 7\n",
        "                             ,min_samples_leaf= 10, max_features='log2')\n",
        "dtc.fit(x_train, y_train)\n",
        "y_pred = dtc.predict(x_test)\n",
        "print(\"F1_score là: {}\".format(f1_score(y_test, y_pred, average = 'micro')))\n",
        "print(\"Accuracy Score là: {}\".format(accuracy_score(y_test, y_pred)))"
      ]
    },
    {
      "cell_type": "markdown",
      "metadata": {
        "id": "0ZjQch2RM1lL"
      },
      "source": [
        "# Additional Question: \n",
        "### Interpret and explain the parameters you have chosen to fine tune in DT algorithm.\n",
        "Type your answer in the cell bellow as the markdown format."
      ]
    },
    {
      "cell_type": "markdown",
      "metadata": {
        "id": "g4aBT64WM1lL"
      },
      "source": [
        "### TO DO:\n"
      ]
    },
    {
      "cell_type": "code",
      "execution_count": null,
      "metadata": {
        "colab": {
          "base_uri": "https://localhost:8080/"
        },
        "id": "5j2yBhnrM1lM",
        "outputId": "e3b39c67-7cc9-4ae8-cdae-a408ae7f1b48"
      },
      "outputs": [
        {
          "data": {
            "text/plain": [
              "DecisionTreeClassifier(ccp_alpha=0.001, max_depth=6, max_features='log2',\n",
              "                       min_samples_leaf=10)"
            ]
          },
          "execution_count": 168,
          "metadata": {},
          "output_type": "execute_result"
        }
      ],
      "source": [
        "#TO DO:\n",
        "grid_search_dt.best_estimator_"
      ]
    },
    {
      "cell_type": "code",
      "execution_count": null,
      "metadata": {
        "colab": {
          "base_uri": "https://localhost:8080/"
        },
        "id": "bGE4kBPpqCO-",
        "outputId": "51fa2329-6268-4d76-9dea-8008816cee1b"
      },
      "outputs": [
        {
          "name": "stdout",
          "output_type": "stream",
          "text": [
            "Mô hình đạt hiệu quả, độ chính xác cao nhất khi:\n",
            "\n",
            " - Mức độ phức tạp : 0.001\n",
            "\n",
            " - Độ sâu mô hình tối đa: 6\n",
            "\n",
            " - Tính năng - Chuyển đổi dữ liệu (max_features): log2\n",
            "\n",
            " - Số lá (mẫu) tối thiểu: 10\n"
          ]
        }
      ],
      "source": [
        "print(\"Mô hình đạt hiệu quả, độ chính xác cao nhất khi:\")\n",
        "print(\"\\n - Mức độ phức tạp : {}\".format(grid_search_dt.best_estimator_.ccp_alpha))\n",
        "print(\"\\n - Độ sâu mô hình tối đa: {}\".format(grid_search_dt.best_estimator_.max_depth))\n",
        "print(\"\\n - Tính năng - Chuyển đổi dữ liệu (max_features): {}\".format(grid_search_dt.best_estimator_.max_features))\n",
        "print(\"\\n - Số lá (mẫu) tối thiểu: {}\".format(grid_search_dt.best_estimator_.min_samples_leaf))"
      ]
    },
    {
      "cell_type": "markdown",
      "metadata": {
        "id": "nd4a59C6M1lQ"
      },
      "source": [
        "# Support Vector Machine"
      ]
    },
    {
      "cell_type": "markdown",
      "metadata": {
        "id": "sn_wfdWpM1lR"
      },
      "source": [
        "### 15, 16. Perform task 11 and 12 on SVM models.\n",
        "\n",
        "Hint: Using GridSearchCV in sklearn.model_selection.\n",
        "\n",
        "**Warning**: You should not use the test data for finding the best parameters.\n",
        "\n",
        "**Requirement**: F1 score on test data has to higher than **0.62**, Jaccard similarity score must be higher than **0.75**."
      ]
    },
    {
      "cell_type": "code",
      "execution_count": null,
      "metadata": {
        "colab": {
          "base_uri": "https://localhost:8080/"
        },
        "id": "WUwo79EMM1lR",
        "outputId": "02cf99dd-4d54-46c2-9cf9-e8dc2e010cc7"
      },
      "outputs": [
        {
          "name": "stdout",
          "output_type": "stream",
          "text": [
            "Fitting 5 folds for each of 36 candidates, totalling 180 fits\n",
            "[CV 1/5] END ........C=0.1, gamma=1, kernel=rbf;, score=0.650 total time=   0.0s\n",
            "[CV 2/5] END ........C=0.1, gamma=1, kernel=rbf;, score=0.650 total time=   0.0s\n",
            "[CV 3/5] END ........C=0.1, gamma=1, kernel=rbf;, score=0.650 total time=   0.0s\n",
            "[CV 4/5] END ........C=0.1, gamma=1, kernel=rbf;, score=0.650 total time=   0.0s\n",
            "[CV 5/5] END ........C=0.1, gamma=1, kernel=rbf;, score=0.656 total time=   0.0s\n",
            "[CV 1/5] END ......C=0.1, gamma=0.1, kernel=rbf;, score=0.732 total time=   0.0s\n",
            "[CV 2/5] END ......C=0.1, gamma=0.1, kernel=rbf;, score=0.772 total time=   0.0s\n",
            "[CV 3/5] END ......C=0.1, gamma=0.1, kernel=rbf;, score=0.699 total time=   0.0s\n",
            "[CV 4/5] END ......C=0.1, gamma=0.1, kernel=rbf;, score=0.732 total time=   0.0s\n",
            "[CV 5/5] END ......C=0.1, gamma=0.1, kernel=rbf;, score=0.730 total time=   0.0s\n",
            "[CV 1/5] END .....C=0.1, gamma=0.01, kernel=rbf;, score=0.650 total time=   0.0s\n",
            "[CV 2/5] END .....C=0.1, gamma=0.01, kernel=rbf;, score=0.650 total time=   0.0s\n",
            "[CV 3/5] END .....C=0.1, gamma=0.01, kernel=rbf;, score=0.650 total time=   0.0s\n",
            "[CV 4/5] END .....C=0.1, gamma=0.01, kernel=rbf;, score=0.650 total time=   0.0s\n",
            "[CV 5/5] END .....C=0.1, gamma=0.01, kernel=rbf;, score=0.656 total time=   0.0s\n",
            "[CV 1/5] END ....C=0.1, gamma=0.001, kernel=rbf;, score=0.650 total time=   0.0s\n",
            "[CV 2/5] END ....C=0.1, gamma=0.001, kernel=rbf;, score=0.650 total time=   0.0s\n",
            "[CV 3/5] END ....C=0.1, gamma=0.001, kernel=rbf;, score=0.650 total time=   0.0s\n",
            "[CV 4/5] END ....C=0.1, gamma=0.001, kernel=rbf;, score=0.650 total time=   0.0s\n",
            "[CV 5/5] END ....C=0.1, gamma=0.001, kernel=rbf;, score=0.656 total time=   0.0s\n",
            "[CV 1/5] END ...C=0.1, gamma=0.0001, kernel=rbf;, score=0.650 total time=   0.0s\n",
            "[CV 2/5] END ...C=0.1, gamma=0.0001, kernel=rbf;, score=0.650 total time=   0.0s\n",
            "[CV 3/5] END ...C=0.1, gamma=0.0001, kernel=rbf;, score=0.650 total time=   0.0s\n",
            "[CV 4/5] END ...C=0.1, gamma=0.0001, kernel=rbf;, score=0.650 total time=   0.0s\n",
            "[CV 5/5] END ...C=0.1, gamma=0.0001, kernel=rbf;, score=0.656 total time=   0.1s\n",
            "[CV 1/5] END ....C=0.1, gamma=1e-05, kernel=rbf;, score=0.650 total time=   0.1s\n",
            "[CV 2/5] END ....C=0.1, gamma=1e-05, kernel=rbf;, score=0.650 total time=   0.1s\n",
            "[CV 3/5] END ....C=0.1, gamma=1e-05, kernel=rbf;, score=0.650 total time=   0.1s\n",
            "[CV 4/5] END ....C=0.1, gamma=1e-05, kernel=rbf;, score=0.650 total time=   0.1s\n",
            "[CV 5/5] END ....C=0.1, gamma=1e-05, kernel=rbf;, score=0.656 total time=   0.1s\n",
            "[CV 1/5] END ..........C=1, gamma=1, kernel=rbf;, score=0.667 total time=   0.1s\n",
            "[CV 2/5] END ..........C=1, gamma=1, kernel=rbf;, score=0.683 total time=   0.0s\n",
            "[CV 3/5] END ..........C=1, gamma=1, kernel=rbf;, score=0.683 total time=   0.0s\n",
            "[CV 4/5] END ..........C=1, gamma=1, kernel=rbf;, score=0.724 total time=   0.0s\n",
            "[CV 5/5] END ..........C=1, gamma=1, kernel=rbf;, score=0.664 total time=   0.0s\n",
            "[CV 1/5] END ........C=1, gamma=0.1, kernel=rbf;, score=0.789 total time=   0.0s\n",
            "[CV 2/5] END ........C=1, gamma=0.1, kernel=rbf;, score=0.748 total time=   0.0s\n",
            "[CV 3/5] END ........C=1, gamma=0.1, kernel=rbf;, score=0.789 total time=   0.0s\n",
            "[CV 4/5] END ........C=1, gamma=0.1, kernel=rbf;, score=0.756 total time=   0.0s\n",
            "[CV 5/5] END ........C=1, gamma=0.1, kernel=rbf;, score=0.697 total time=   0.0s\n",
            "[CV 1/5] END .......C=1, gamma=0.01, kernel=rbf;, score=0.748 total time=   0.0s\n",
            "[CV 2/5] END .......C=1, gamma=0.01, kernel=rbf;, score=0.764 total time=   0.0s\n",
            "[CV 3/5] END .......C=1, gamma=0.01, kernel=rbf;, score=0.780 total time=   0.0s\n",
            "[CV 4/5] END .......C=1, gamma=0.01, kernel=rbf;, score=0.780 total time=   0.0s\n",
            "[CV 5/5] END .......C=1, gamma=0.01, kernel=rbf;, score=0.730 total time=   0.0s\n",
            "[CV 1/5] END ......C=1, gamma=0.001, kernel=rbf;, score=0.650 total time=   0.0s\n",
            "[CV 2/5] END ......C=1, gamma=0.001, kernel=rbf;, score=0.650 total time=   0.0s\n",
            "[CV 3/5] END ......C=1, gamma=0.001, kernel=rbf;, score=0.642 total time=   0.0s\n",
            "[CV 4/5] END ......C=1, gamma=0.001, kernel=rbf;, score=0.650 total time=   0.0s\n",
            "[CV 5/5] END ......C=1, gamma=0.001, kernel=rbf;, score=0.656 total time=   0.0s\n",
            "[CV 1/5] END .....C=1, gamma=0.0001, kernel=rbf;, score=0.650 total time=   0.0s\n",
            "[CV 2/5] END .....C=1, gamma=0.0001, kernel=rbf;, score=0.650 total time=   0.0s\n",
            "[CV 3/5] END .....C=1, gamma=0.0001, kernel=rbf;, score=0.650 total time=   0.0s\n",
            "[CV 4/5] END .....C=1, gamma=0.0001, kernel=rbf;, score=0.650 total time=   0.0s\n",
            "[CV 5/5] END .....C=1, gamma=0.0001, kernel=rbf;, score=0.656 total time=   0.0s\n",
            "[CV 1/5] END ......C=1, gamma=1e-05, kernel=rbf;, score=0.650 total time=   0.0s\n",
            "[CV 2/5] END ......C=1, gamma=1e-05, kernel=rbf;, score=0.650 total time=   0.0s\n",
            "[CV 3/5] END ......C=1, gamma=1e-05, kernel=rbf;, score=0.650 total time=   0.0s\n",
            "[CV 4/5] END ......C=1, gamma=1e-05, kernel=rbf;, score=0.650 total time=   0.0s\n",
            "[CV 5/5] END ......C=1, gamma=1e-05, kernel=rbf;, score=0.656 total time=   0.0s\n",
            "[CV 1/5] END .........C=10, gamma=1, kernel=rbf;, score=0.642 total time=   0.1s\n",
            "[CV 2/5] END .........C=10, gamma=1, kernel=rbf;, score=0.707 total time=   0.1s\n",
            "[CV 3/5] END .........C=10, gamma=1, kernel=rbf;, score=0.634 total time=   0.1s\n",
            "[CV 4/5] END .........C=10, gamma=1, kernel=rbf;, score=0.724 total time=   0.1s\n",
            "[CV 5/5] END .........C=10, gamma=1, kernel=rbf;, score=0.648 total time=   0.1s\n",
            "[CV 1/5] END .......C=10, gamma=0.1, kernel=rbf;, score=0.756 total time=   0.1s\n",
            "[CV 2/5] END .......C=10, gamma=0.1, kernel=rbf;, score=0.707 total time=   0.0s\n",
            "[CV 3/5] END .......C=10, gamma=0.1, kernel=rbf;, score=0.748 total time=   0.0s\n",
            "[CV 4/5] END .......C=10, gamma=0.1, kernel=rbf;, score=0.756 total time=   0.0s\n",
            "[CV 5/5] END .......C=10, gamma=0.1, kernel=rbf;, score=0.697 total time=   0.0s\n",
            "[CV 1/5] END ......C=10, gamma=0.01, kernel=rbf;, score=0.797 total time=   0.0s\n",
            "[CV 2/5] END ......C=10, gamma=0.01, kernel=rbf;, score=0.772 total time=   0.0s\n",
            "[CV 3/5] END ......C=10, gamma=0.01, kernel=rbf;, score=0.772 total time=   0.0s\n",
            "[CV 4/5] END ......C=10, gamma=0.01, kernel=rbf;, score=0.789 total time=   0.0s\n",
            "[CV 5/5] END ......C=10, gamma=0.01, kernel=rbf;, score=0.721 total time=   0.0s\n",
            "[CV 1/5] END .....C=10, gamma=0.001, kernel=rbf;, score=0.756 total time=   0.0s\n",
            "[CV 2/5] END .....C=10, gamma=0.001, kernel=rbf;, score=0.764 total time=   0.0s\n",
            "[CV 3/5] END .....C=10, gamma=0.001, kernel=rbf;, score=0.797 total time=   0.0s\n",
            "[CV 4/5] END .....C=10, gamma=0.001, kernel=rbf;, score=0.780 total time=   0.0s\n",
            "[CV 5/5] END .....C=10, gamma=0.001, kernel=rbf;, score=0.713 total time=   0.0s\n",
            "[CV 1/5] END ....C=10, gamma=0.0001, kernel=rbf;, score=0.650 total time=   0.0s\n",
            "[CV 2/5] END ....C=10, gamma=0.0001, kernel=rbf;, score=0.650 total time=   0.0s\n",
            "[CV 3/5] END ....C=10, gamma=0.0001, kernel=rbf;, score=0.642 total time=   0.0s\n",
            "[CV 4/5] END ....C=10, gamma=0.0001, kernel=rbf;, score=0.650 total time=   0.0s\n",
            "[CV 5/5] END ....C=10, gamma=0.0001, kernel=rbf;, score=0.656 total time=   0.0s\n",
            "[CV 1/5] END .....C=10, gamma=1e-05, kernel=rbf;, score=0.650 total time=   0.0s\n",
            "[CV 2/5] END .....C=10, gamma=1e-05, kernel=rbf;, score=0.650 total time=   0.0s\n",
            "[CV 3/5] END .....C=10, gamma=1e-05, kernel=rbf;, score=0.650 total time=   0.0s\n",
            "[CV 4/5] END .....C=10, gamma=1e-05, kernel=rbf;, score=0.650 total time=   0.0s\n",
            "[CV 5/5] END .....C=10, gamma=1e-05, kernel=rbf;, score=0.656 total time=   0.0s\n",
            "[CV 1/5] END ........C=100, gamma=1, kernel=rbf;, score=0.642 total time=   0.0s\n",
            "[CV 2/5] END ........C=100, gamma=1, kernel=rbf;, score=0.707 total time=   0.0s\n",
            "[CV 3/5] END ........C=100, gamma=1, kernel=rbf;, score=0.634 total time=   0.0s\n",
            "[CV 4/5] END ........C=100, gamma=1, kernel=rbf;, score=0.724 total time=   0.0s\n",
            "[CV 5/5] END ........C=100, gamma=1, kernel=rbf;, score=0.648 total time=   0.0s\n",
            "[CV 1/5] END ......C=100, gamma=0.1, kernel=rbf;, score=0.707 total time=   0.0s\n",
            "[CV 2/5] END ......C=100, gamma=0.1, kernel=rbf;, score=0.724 total time=   0.0s\n",
            "[CV 3/5] END ......C=100, gamma=0.1, kernel=rbf;, score=0.667 total time=   0.0s\n",
            "[CV 4/5] END ......C=100, gamma=0.1, kernel=rbf;, score=0.699 total time=   0.0s\n",
            "[CV 5/5] END ......C=100, gamma=0.1, kernel=rbf;, score=0.705 total time=   0.0s\n",
            "[CV 1/5] END .....C=100, gamma=0.01, kernel=rbf;, score=0.797 total time=   0.0s\n",
            "[CV 2/5] END .....C=100, gamma=0.01, kernel=rbf;, score=0.748 total time=   0.0s\n",
            "[CV 3/5] END .....C=100, gamma=0.01, kernel=rbf;, score=0.772 total time=   0.0s\n",
            "[CV 4/5] END .....C=100, gamma=0.01, kernel=rbf;, score=0.772 total time=   0.0s\n",
            "[CV 5/5] END .....C=100, gamma=0.01, kernel=rbf;, score=0.705 total time=   0.0s\n",
            "[CV 1/5] END ....C=100, gamma=0.001, kernel=rbf;, score=0.764 total time=   0.0s\n",
            "[CV 2/5] END ....C=100, gamma=0.001, kernel=rbf;, score=0.772 total time=   0.0s\n",
            "[CV 3/5] END ....C=100, gamma=0.001, kernel=rbf;, score=0.805 total time=   0.0s\n",
            "[CV 4/5] END ....C=100, gamma=0.001, kernel=rbf;, score=0.805 total time=   0.0s\n",
            "[CV 5/5] END ....C=100, gamma=0.001, kernel=rbf;, score=0.697 total time=   0.0s\n",
            "[CV 1/5] END ...C=100, gamma=0.0001, kernel=rbf;, score=0.756 total time=   0.0s\n",
            "[CV 2/5] END ...C=100, gamma=0.0001, kernel=rbf;, score=0.764 total time=   0.0s\n",
            "[CV 3/5] END ...C=100, gamma=0.0001, kernel=rbf;, score=0.789 total time=   0.0s\n",
            "[CV 4/5] END ...C=100, gamma=0.0001, kernel=rbf;, score=0.780 total time=   0.0s\n",
            "[CV 5/5] END ...C=100, gamma=0.0001, kernel=rbf;, score=0.713 total time=   0.0s\n",
            "[CV 1/5] END ....C=100, gamma=1e-05, kernel=rbf;, score=0.650 total time=   0.0s\n",
            "[CV 2/5] END ....C=100, gamma=1e-05, kernel=rbf;, score=0.650 total time=   0.0s\n",
            "[CV 3/5] END ....C=100, gamma=1e-05, kernel=rbf;, score=0.642 total time=   0.0s\n",
            "[CV 4/5] END ....C=100, gamma=1e-05, kernel=rbf;, score=0.650 total time=   0.0s\n",
            "[CV 5/5] END ....C=100, gamma=1e-05, kernel=rbf;, score=0.656 total time=   0.0s\n",
            "[CV 1/5] END .......C=1000, gamma=1, kernel=rbf;, score=0.642 total time=   0.0s\n",
            "[CV 2/5] END .......C=1000, gamma=1, kernel=rbf;, score=0.707 total time=   0.0s\n",
            "[CV 3/5] END .......C=1000, gamma=1, kernel=rbf;, score=0.634 total time=   0.0s\n",
            "[CV 4/5] END .......C=1000, gamma=1, kernel=rbf;, score=0.724 total time=   0.0s\n",
            "[CV 5/5] END .......C=1000, gamma=1, kernel=rbf;, score=0.648 total time=   0.0s\n",
            "[CV 1/5] END .....C=1000, gamma=0.1, kernel=rbf;, score=0.732 total time=   0.1s\n",
            "[CV 2/5] END .....C=1000, gamma=0.1, kernel=rbf;, score=0.724 total time=   0.1s\n",
            "[CV 3/5] END .....C=1000, gamma=0.1, kernel=rbf;, score=0.650 total time=   0.1s\n",
            "[CV 4/5] END .....C=1000, gamma=0.1, kernel=rbf;, score=0.699 total time=   0.1s\n",
            "[CV 5/5] END .....C=1000, gamma=0.1, kernel=rbf;, score=0.615 total time=   0.1s\n",
            "[CV 1/5] END ....C=1000, gamma=0.01, kernel=rbf;, score=0.772 total time=   0.0s\n",
            "[CV 2/5] END ....C=1000, gamma=0.01, kernel=rbf;, score=0.756 total time=   0.1s\n",
            "[CV 3/5] END ....C=1000, gamma=0.01, kernel=rbf;, score=0.748 total time=   0.1s\n",
            "[CV 4/5] END ....C=1000, gamma=0.01, kernel=rbf;, score=0.780 total time=   0.0s\n",
            "[CV 5/5] END ....C=1000, gamma=0.01, kernel=rbf;, score=0.680 total time=   0.1s\n",
            "[CV 1/5] END ...C=1000, gamma=0.001, kernel=rbf;, score=0.797 total time=   0.0s\n",
            "[CV 2/5] END ...C=1000, gamma=0.001, kernel=rbf;, score=0.772 total time=   0.0s\n",
            "[CV 3/5] END ...C=1000, gamma=0.001, kernel=rbf;, score=0.772 total time=   0.0s\n",
            "[CV 4/5] END ...C=1000, gamma=0.001, kernel=rbf;, score=0.789 total time=   0.0s\n",
            "[CV 5/5] END ...C=1000, gamma=0.001, kernel=rbf;, score=0.730 total time=   0.0s\n",
            "[CV 1/5] END ..C=1000, gamma=0.0001, kernel=rbf;, score=0.764 total time=   0.0s\n",
            "[CV 2/5] END ..C=1000, gamma=0.0001, kernel=rbf;, score=0.764 total time=   0.0s\n",
            "[CV 3/5] END ..C=1000, gamma=0.0001, kernel=rbf;, score=0.813 total time=   0.0s\n",
            "[CV 4/5] END ..C=1000, gamma=0.0001, kernel=rbf;, score=0.797 total time=   0.0s\n",
            "[CV 5/5] END ..C=1000, gamma=0.0001, kernel=rbf;, score=0.689 total time=   0.0s\n",
            "[CV 1/5] END ...C=1000, gamma=1e-05, kernel=rbf;, score=0.756 total time=   0.0s\n",
            "[CV 2/5] END ...C=1000, gamma=1e-05, kernel=rbf;, score=0.756 total time=   0.0s\n",
            "[CV 3/5] END ...C=1000, gamma=1e-05, kernel=rbf;, score=0.789 total time=   0.0s\n",
            "[CV 4/5] END ...C=1000, gamma=1e-05, kernel=rbf;, score=0.780 total time=   0.0s\n",
            "[CV 5/5] END ...C=1000, gamma=1e-05, kernel=rbf;, score=0.713 total time=   0.0s\n",
            "[CV 1/5] END ......C=10000, gamma=1, kernel=rbf;, score=0.642 total time=   0.0s\n",
            "[CV 2/5] END ......C=10000, gamma=1, kernel=rbf;, score=0.707 total time=   0.0s\n",
            "[CV 3/5] END ......C=10000, gamma=1, kernel=rbf;, score=0.634 total time=   0.0s\n",
            "[CV 4/5] END ......C=10000, gamma=1, kernel=rbf;, score=0.724 total time=   0.0s\n",
            "[CV 5/5] END ......C=10000, gamma=1, kernel=rbf;, score=0.648 total time=   0.0s\n",
            "[CV 1/5] END ....C=10000, gamma=0.1, kernel=rbf;, score=0.715 total time=   0.1s\n",
            "[CV 2/5] END ....C=10000, gamma=0.1, kernel=rbf;, score=0.748 total time=   0.1s\n",
            "[CV 3/5] END ....C=10000, gamma=0.1, kernel=rbf;, score=0.642 total time=   0.1s\n",
            "[CV 4/5] END ....C=10000, gamma=0.1, kernel=rbf;, score=0.732 total time=   0.1s\n",
            "[CV 5/5] END ....C=10000, gamma=0.1, kernel=rbf;, score=0.648 total time=   0.1s\n",
            "[CV 1/5] END ...C=10000, gamma=0.01, kernel=rbf;, score=0.756 total time=   0.4s\n",
            "[CV 2/5] END ...C=10000, gamma=0.01, kernel=rbf;, score=0.707 total time=   0.3s\n",
            "[CV 3/5] END ...C=10000, gamma=0.01, kernel=rbf;, score=0.740 total time=   0.3s\n",
            "[CV 4/5] END ...C=10000, gamma=0.01, kernel=rbf;, score=0.764 total time=   0.4s\n",
            "[CV 5/5] END ...C=10000, gamma=0.01, kernel=rbf;, score=0.689 total time=   0.3s\n",
            "[CV 1/5] END ..C=10000, gamma=0.001, kernel=rbf;, score=0.797 total time=   0.1s\n",
            "[CV 2/5] END ..C=10000, gamma=0.001, kernel=rbf;, score=0.756 total time=   0.1s\n",
            "[CV 3/5] END ..C=10000, gamma=0.001, kernel=rbf;, score=0.756 total time=   0.1s\n",
            "[CV 4/5] END ..C=10000, gamma=0.001, kernel=rbf;, score=0.772 total time=   0.1s\n",
            "[CV 5/5] END ..C=10000, gamma=0.001, kernel=rbf;, score=0.721 total time=   0.1s\n",
            "[CV 1/5] END .C=10000, gamma=0.0001, kernel=rbf;, score=0.772 total time=   0.0s\n",
            "[CV 2/5] END .C=10000, gamma=0.0001, kernel=rbf;, score=0.772 total time=   0.0s\n",
            "[CV 3/5] END .C=10000, gamma=0.0001, kernel=rbf;, score=0.805 total time=   0.0s\n",
            "[CV 4/5] END .C=10000, gamma=0.0001, kernel=rbf;, score=0.805 total time=   0.0s\n",
            "[CV 5/5] END .C=10000, gamma=0.0001, kernel=rbf;, score=0.697 total time=   0.0s\n",
            "[CV 1/5] END ..C=10000, gamma=1e-05, kernel=rbf;, score=0.764 total time=   0.0s\n",
            "[CV 2/5] END ..C=10000, gamma=1e-05, kernel=rbf;, score=0.764 total time=   0.0s\n",
            "[CV 3/5] END ..C=10000, gamma=1e-05, kernel=rbf;, score=0.813 total time=   0.0s\n",
            "[CV 4/5] END ..C=10000, gamma=1e-05, kernel=rbf;, score=0.797 total time=   0.0s\n",
            "[CV 5/5] END ..C=10000, gamma=1e-05, kernel=rbf;, score=0.689 total time=   0.0s\n"
          ]
        },
        {
          "data": {
            "text/plain": [
              "GridSearchCV(estimator=SVC(),\n",
              "             param_grid={'C': [0.1, 1, 10, 100, 1000, 10000],\n",
              "                         'gamma': [1, 0.1, 0.01, 0.001, 0.0001, 1e-05],\n",
              "                         'kernel': ['rbf']},\n",
              "             verbose=3)"
            ]
          },
          "execution_count": 169,
          "metadata": {},
          "output_type": "execute_result"
        }
      ],
      "source": [
        "from sklearn.svm import SVC\n",
        "param_grid = {'C': [0.1, 1, 10, 100, 1000,10000],\n",
        "              'gamma': [1, 0.1, 0.01, 0.001, 0.0001,.00001],\n",
        "              'kernel': ['rbf']}\n",
        "grid_svc = GridSearchCV(SVC(), param_grid, refit = True, verbose = 3)\n",
        " \n",
        "# fitting the model for grid search\n",
        "grid_svc.fit(x_train, y_train)"
      ]
    },
    {
      "cell_type": "code",
      "execution_count": null,
      "metadata": {
        "colab": {
          "base_uri": "https://localhost:8080/"
        },
        "id": "034C7TVu4KRP",
        "outputId": "228103d2-11c4-418d-ad48-e04acdb3249e"
      },
      "outputs": [
        {
          "data": {
            "text/plain": [
              "SVC(C=1000, gamma=0.001)"
            ]
          },
          "execution_count": 170,
          "metadata": {},
          "output_type": "execute_result"
        }
      ],
      "source": [
        "grid_svc.best_estimator_"
      ]
    },
    {
      "cell_type": "code",
      "execution_count": null,
      "metadata": {
        "id": "eqq7MepE4HrT"
      },
      "outputs": [],
      "source": [
        "svc = SVC(C=1000, gamma=0.001)"
      ]
    },
    {
      "cell_type": "code",
      "execution_count": null,
      "metadata": {
        "colab": {
          "base_uri": "https://localhost:8080/"
        },
        "id": "JMxZtQa8M1lT",
        "outputId": "277b9f7d-dfa2-402d-884f-c7ec0cef57c6"
      },
      "outputs": [
        {
          "name": "stdout",
          "output_type": "stream",
          "text": [
            "F1_score là: 0.7727272727272727\n",
            "Accuracy Score là: 0.7727272727272727\n"
          ]
        }
      ],
      "source": [
        "#TO DO:\n",
        "svc.fit(x_train, y_train)\n",
        "y_pred = svc.predict(x_test)\n",
        "print(\"F1_score là: {}\".format(f1_score(y_test, y_pred, average = 'micro')))\n",
        "print(\"Accuracy Score là: {}\".format(accuracy_score(y_test, y_pred)))"
      ]
    },
    {
      "cell_type": "markdown",
      "metadata": {
        "id": "03XgTdoPM1lW"
      },
      "source": [
        "# Additional Question: \n",
        "### Interpret and explain the parameters you have chosen to fine tune in SVM algorithm.\n",
        "Type your answer in the cell bellow as the markdown format."
      ]
    },
    {
      "cell_type": "markdown",
      "metadata": {
        "id": "wz0N8-CIM1lW"
      },
      "source": [
        "### TO DO:\n"
      ]
    },
    {
      "cell_type": "code",
      "execution_count": null,
      "metadata": {
        "colab": {
          "base_uri": "https://localhost:8080/"
        },
        "id": "z0eWOaUaM1lX",
        "outputId": "b74f826f-c78c-4274-bc22-3b6efd066d56"
      },
      "outputs": [
        {
          "data": {
            "text/plain": [
              "SVC(C=1000, gamma=0.001)"
            ]
          },
          "execution_count": 173,
          "metadata": {},
          "output_type": "execute_result"
        }
      ],
      "source": [
        "#TO DO:\n",
        "grid_svc.best_estimator_"
      ]
    },
    {
      "cell_type": "code",
      "execution_count": null,
      "metadata": {
        "colab": {
          "base_uri": "https://localhost:8080/"
        },
        "id": "d1JgDOhOsJh3",
        "outputId": "4fa0f3c8-1472-47a4-eff4-f84b69fc9247"
      },
      "outputs": [
        {
          "name": "stdout",
          "output_type": "stream",
          "text": [
            "Mô hình đạt hiệu quả, độ chính xác cao nhất khi:\n",
            "\n",
            " - Tham số kiểm soát : 1000\n",
            "\n",
            " - Độ ảnh hưởng gamma: 0.001\n"
          ]
        }
      ],
      "source": [
        "print(\"Mô hình đạt hiệu quả, độ chính xác cao nhất khi:\")\n",
        "print(\"\\n - Tham số kiểm soát : {}\".format(grid_svc.best_estimator_.C))\n",
        "print(\"\\n - Độ ảnh hưởng gamma: {}\".format(grid_svc.best_estimator_.gamma))"
      ]
    },
    {
      "cell_type": "markdown",
      "metadata": {
        "id": "xRVAKHEkM1la"
      },
      "source": [
        "# Logistic Regression"
      ]
    },
    {
      "cell_type": "markdown",
      "metadata": {
        "id": "nTQkBQIXM1la"
      },
      "source": [
        "### 17, 18. Perform task 11 and 12 on Logistic Regression model.\n",
        "\n",
        "Hint: Using GridSearchCV in sklearn.model_selection.\n",
        "\n",
        "**Warning**: You should not use the test data for finding the best parameters.\n",
        "\n",
        "**Requirement**: F1 score on test data has to higher than **0.63**, Jaccard similarity score must be higher than **0.75**."
      ]
    },
    {
      "cell_type": "code",
      "execution_count": null,
      "metadata": {
        "colab": {
          "base_uri": "https://localhost:8080/"
        },
        "id": "cWFYayQLM1lb",
        "outputId": "a967c952-6151-4975-8ffe-fe40f51bc8ee"
      },
      "outputs": [
        {
          "name": "stderr",
          "output_type": "stream",
          "text": [
            "/usr/local/lib/python3.7/dist-packages/sklearn/model_selection/_validation.py:372: FitFailedWarning: \n",
            "140 fits failed out of a total of 280.\n",
            "The score on these train-test partitions for these parameters will be set to nan.\n",
            "If these failures are not expected, you can try to debug them by setting error_score='raise'.\n",
            "\n",
            "Below are more details about the failures:\n",
            "--------------------------------------------------------------------------------\n",
            "140 fits failed with the following error:\n",
            "Traceback (most recent call last):\n",
            "  File \"/usr/local/lib/python3.7/dist-packages/sklearn/model_selection/_validation.py\", line 680, in _fit_and_score\n",
            "    estimator.fit(X_train, y_train, **fit_params)\n",
            "  File \"/usr/local/lib/python3.7/dist-packages/sklearn/linear_model/_logistic.py\", line 1461, in fit\n",
            "    solver = _check_solver(self.solver, self.penalty, self.dual)\n",
            "  File \"/usr/local/lib/python3.7/dist-packages/sklearn/linear_model/_logistic.py\", line 449, in _check_solver\n",
            "    % (solver, penalty)\n",
            "ValueError: Solver lbfgs supports only 'l2' or 'none' penalties, got l1 penalty.\n",
            "\n",
            "  warnings.warn(some_fits_failed_message, FitFailedWarning)\n",
            "/usr/local/lib/python3.7/dist-packages/sklearn/model_selection/_search.py:972: UserWarning: One or more of the test scores are non-finite: [       nan 0.64986779        nan 0.64986779        nan 0.74912745\n",
            "        nan 0.74912745        nan 0.77205182        nan 0.77205182\n",
            "        nan 0.76713379        nan 0.76713379        nan 0.76877314\n",
            "        nan 0.76877314        nan 0.76877314        nan 0.76877314\n",
            "        nan 0.76877314        nan 0.76877314]\n",
            "  category=UserWarning,\n"
          ]
        },
        {
          "data": {
            "text/plain": [
              "GridSearchCV(cv=10, estimator=LogisticRegression(),\n",
              "             param_grid={'C': array([1.e-03, 1.e-02, 1.e-01, 1.e+00, 1.e+01, 1.e+02, 1.e+03]),\n",
              "                         'max_iter': [100, 200], 'penalty': ['l1', 'l2']})"
            ]
          },
          "execution_count": 174,
          "metadata": {},
          "output_type": "execute_result"
        }
      ],
      "source": [
        "from sklearn.linear_model import LogisticRegression\n",
        "grid={\"C\":np.logspace(-3,3,7), \"penalty\":[\"l1\",\"l2\"],\"max_iter\":[100,200]}# l1 lasso l2 ridge\n",
        "logreg=LogisticRegression()\n",
        "logreg_cv=GridSearchCV(logreg,grid,cv=10)\n",
        "logreg_cv.fit(x_train,y_train)"
      ]
    },
    {
      "cell_type": "code",
      "execution_count": null,
      "metadata": {
        "colab": {
          "base_uri": "https://localhost:8080/"
        },
        "id": "sTXlOiZepyx5",
        "outputId": "a9402c27-50db-4aca-a1ea-b5461e4bd9bf"
      },
      "outputs": [
        {
          "data": {
            "text/plain": [
              "LogisticRegression(C=0.1)"
            ]
          },
          "execution_count": 175,
          "metadata": {},
          "output_type": "execute_result"
        }
      ],
      "source": [
        "logreg_cv.best_estimator_"
      ]
    },
    {
      "cell_type": "code",
      "execution_count": null,
      "metadata": {
        "colab": {
          "base_uri": "https://localhost:8080/"
        },
        "id": "7szXdAHTM1lc",
        "outputId": "3cf53694-bfd8-4a0d-b207-3a0ad07fdc09"
      },
      "outputs": [
        {
          "name": "stdout",
          "output_type": "stream",
          "text": [
            "F1_score là: 0.7727272727272727\n",
            "Accuracy Score là: 0.7727272727272727\n"
          ]
        }
      ],
      "source": [
        "#TO DO:\n",
        "logreg=LogisticRegression(C=0.1)\n",
        "logreg.fit(x_train, y_train)\n",
        "y_pred = logreg.predict(x_test)\n",
        "print(\"F1_score là: {}\".format(f1_score(y_test, y_pred, average = 'micro')))\n",
        "print(\"Accuracy Score là: {}\".format(accuracy_score(y_test, y_pred)))\n"
      ]
    },
    {
      "cell_type": "markdown",
      "metadata": {
        "id": "pfPytCDYM1le"
      },
      "source": [
        "# Additional Question: \n",
        "### Interpret and explain the parameters you have chosen to fine tune in LR algorithm.\n",
        "Type your answer in the cell bellow as the markdown format."
      ]
    },
    {
      "cell_type": "code",
      "execution_count": null,
      "metadata": {
        "colab": {
          "base_uri": "https://localhost:8080/"
        },
        "id": "omVtJ381sZO1",
        "outputId": "cd42bc05-56c1-49e7-ee20-c628e25324e7"
      },
      "outputs": [
        {
          "name": "stdout",
          "output_type": "stream",
          "text": [
            "Mô hình đạt hiệu quả, độ chính xác cao nhất khi:\n",
            "\n",
            " - Tham số kiểm soát : 0.1\n"
          ]
        }
      ],
      "source": [
        "#TO DO\n",
        "print(\"Mô hình đạt hiệu quả, độ chính xác cao nhất khi:\")\n",
        "print(\"\\n - Tham số kiểm soát : {}\".format(logreg_cv.best_estimator_.C))\n"
      ]
    },
    {
      "cell_type": "markdown",
      "metadata": {
        "id": "RmPs5O5RM1lf"
      },
      "source": [
        "### TO DO:\n",
        "Mô hình đạt hiệu quả, độ chính xác cao nhất khi:\n",
        "- Mức độ kiểm soát (Regularization: C) = 0.1\n"
      ]
    },
    {
      "cell_type": "markdown",
      "metadata": {
        "id": "xhThcwLYM1li"
      },
      "source": [
        "# Advanced part (15%  of the total score)"
      ]
    },
    {
      "cell_type": "markdown",
      "metadata": {
        "id": "eRc5JoN7M1lo"
      },
      "source": [
        "# Ensemble model"
      ]
    },
    {
      "cell_type": "markdown",
      "metadata": {
        "id": "8-eteyNxM1lo"
      },
      "source": [
        "### 19. Perform soft voting on the 4 above models (using the same setting for the 4 models as in previous steps.) \n",
        "**Hint**: Using VotingClassifier in sklearn.ensemble."
      ]
    },
    {
      "cell_type": "code",
      "execution_count": null,
      "metadata": {
        "id": "G7FfposgM1lp"
      },
      "outputs": [],
      "source": [
        "#TO DO:\n",
        "#create a dictionary of our models\n",
        "from sklearn.ensemble import VotingClassifier\n",
        "md1 = KNeighborsClassifier(n_neighbors =  21)\n",
        "md2 = DecisionTreeClassifier(ccp_alpha=0.01, max_depth=7, max_features='log2',\n",
        "                       min_samples_leaf=10)\n",
        "md3 = SVC(C=1000, gamma=0.001)\n",
        "md4 = LogisticRegression(C=0.1)\n",
        "\n",
        "#create our voting classifier, inputting our models\n",
        "eclf1 = VotingClassifier(estimators=[('md1',md1),('md2',md2), ('md3',md3),('md4',md4)], weights = [1,0.5,2,1]).fit(x_train, y_train)"
      ]
    },
    {
      "cell_type": "markdown",
      "metadata": {
        "id": "vZu5N_i3M1lu"
      },
      "source": [
        "### 20. Run the prediction on the ensembling model using soft voting on training data and test data, then calculate the f1 score and Jaccard similarity score and save it to f1_scores dict and jaccard_scores dict.¶\n",
        "\n",
        "**Requirement**: F1 score on test data must be higher than **0.66**, Jaccard similarity score must be higher than **0.78**."
      ]
    },
    {
      "cell_type": "code",
      "execution_count": null,
      "metadata": {
        "colab": {
          "base_uri": "https://localhost:8080/"
        },
        "id": "SeuL7a0rM1lu",
        "outputId": "1446939a-79a3-44dc-950d-888ea4f8eb4c"
      },
      "outputs": [
        {
          "name": "stdout",
          "output_type": "stream",
          "text": [
            "F1_score là: 0.6597938144329897\n",
            "Accuracy Score là: 0.7857142857142857\n"
          ]
        }
      ],
      "source": [
        "#TO DO:\n",
        "y_pred = eclf1.predict(x_test)\n",
        "print(\"F1_score là: {}\".format(f1_score(y_test, y_pred)))\n",
        "print(\"Accuracy Score là: {}\".format(accuracy_score(y_test, y_pred)))"
      ]
    },
    {
      "cell_type": "markdown",
      "metadata": {
        "id": "d9vVirtTM1lw"
      },
      "source": [
        "### 21, 22. Perform task 19 and 20 using hard voting.\n",
        "Hint: Using GridSearchCV in sklearn.model_selection.\n",
        "\n",
        "**Warning**: You should not use the test data for finding the best parameters.\n",
        "\n",
        "**Requirement**: F1 score on test data must be higher than **0.57**, Jaccard similarity score must be higher than **0.73**."
      ]
    },
    {
      "cell_type": "code",
      "execution_count": null,
      "metadata": {
        "id": "2e293vvZvaz0"
      },
      "outputs": [],
      "source": [
        "#TO DO:\n",
        "#create a dictionary of our models\n",
        "from sklearn.ensemble import VotingClassifier\n",
        "md1 = KNeighborsClassifier()\n",
        "md2 = DecisionTreeClassifier()\n",
        "md3 = SVC()\n",
        "md4 = LogisticRegression()\n",
        "\n",
        "#create our voting classifier, inputting our models\n",
        "eclf2 = VotingClassifier(estimators=[('lr', md1),('lr2', md2),('rf', md3), ('gnb', md4)], voting = 'hard', weights = [3,1,1,1]).fit(x_train, y_train)"
      ]
    },
    {
      "cell_type": "code",
      "execution_count": null,
      "metadata": {
        "colab": {
          "base_uri": "https://localhost:8080/"
        },
        "id": "zxvqWZBcM1lz",
        "outputId": "f3b0612c-2161-4099-9fb2-688816464348"
      },
      "outputs": [
        {
          "name": "stdout",
          "output_type": "stream",
          "text": [
            "F1_score là: 0.7597402597402597\n",
            "Accuracy Score là: 0.7597402597402597\n"
          ]
        }
      ],
      "source": [
        "#TO DO:\n",
        "#TO DO:\n",
        "y_pred = eclf2.predict(x_test)\n",
        "print(\"F1_score là: {}\".format(f1_score(y_test, y_pred, average = 'micro')))\n",
        "print(\"Accuracy Score là: {}\".format(accuracy_score(y_test, y_pred)))"
      ]
    },
    {
      "cell_type": "markdown",
      "metadata": {
        "id": "RmteU8YeM1l3"
      },
      "source": [
        "# Report\n",
        "You should be able to report the accuracy of the built model using different evaluation metrics:"
      ]
    },
    {
      "cell_type": "markdown",
      "metadata": {
        "id": "c3q0IThKM1l3"
      },
      "source": [
        "| Algorithm          | Jaccard-training | F1-score-training |Jaccard-testing | F1-score-testing |\n",
        "|--------------------|------------------|-------------------|----------------|------------------|\n",
        "| KNN                | ?                | ?                 |  ?             |  ?               |\n",
        "| Decision Tree      | ?                | ?                 |  ?             |  ?               |\n",
        "| SVM                | ?                | ?                 |  ?             |  ?               |\n",
        "| Logistic Regression| ?                | ?                 |  ?             |  ?               |\n",
        "| Hard Voting        | ?                | ?                 |  ?             |  ?               |\n",
        "| Soft Voting        | ?                | ?                 |  ?             |  ?               |\n"
      ]
    },
    {
      "cell_type": "markdown",
      "metadata": {
        "id": "PpqjW-eOM1l3"
      },
      "source": [
        "### 23. Create a data frame that describes the result as exactly as above."
      ]
    },
    {
      "cell_type": "code",
      "execution_count": null,
      "metadata": {
        "id": "pI3_EsgtM1l4"
      },
      "outputs": [],
      "source": [
        "#TO DO:\n",
        "# a dictionary for keeping all scores of the classifiers\n",
        "f1_scores = {'train':{'KNN': f1_score(y_train,knn.predict(x_train)), \n",
        "                        'DT': f1_score(y_train,dtc.predict(x_train)), \n",
        "                        'SVM': f1_score(y_train,svc.predict(x_train)), \n",
        "                        'LR': f1_score(y_train,logreg.predict(x_train))\n",
        "                      , 'EN_HARD': f1_score(y_train,eclf1.predict(x_train)),   \n",
        "                        'EN_SOFT': f1_score(y_train,eclf2.predict(x_train))},\n",
        "             'test':{'KNN': f1_score(y_test,knn.predict(x_test)), \n",
        "                     'DT': f1_score(y_test,dtc.predict(x_test)), \n",
        "                     'SVM': f1_score(y_test,svc.predict(x_test)), \n",
        "                     'LR': f1_score(y_test, logreg.predict(x_test)), \n",
        "                     'EN_HARD': f1_score(y_test, eclf1.predict(x_test)), \n",
        "                     'EN_SOFT': f1_score(y_test, eclf2.predict(x_test))}}\n",
        "\n",
        "accuracy_scores = {'train':{'KNN': accuracy_score(y_train,knn.predict(x_train)), \n",
        "                        'DT': accuracy_score(y_train,dtc.predict(x_train)), \n",
        "                        'SVM': accuracy_score(y_train,svc.predict(x_train)), \n",
        "                        'LR': accuracy_score(y_train,logreg.predict(x_train))\n",
        "                      , 'EN_HARD': accuracy_score(y_train,eclf1.predict(x_train)),   \n",
        "                        'EN_SOFT': accuracy_score(y_train,eclf2.predict(x_train))}, \n",
        "                  'test':{'KNN': accuracy_score(y_test,knn.predict(x_test)), \n",
        "                     'DT': accuracy_score(y_test,dtc.predict(x_test)), \n",
        "                     'SVM': accuracy_score(y_test,svc.predict(x_test)), \n",
        "                     'LR': accuracy_score(y_test, logreg.predict(x_test)), \n",
        "                     'EN_HARD': accuracy_score(y_test, eclf1.predict(x_test)), \n",
        "                     'EN_SOFT': accuracy_score(y_test, eclf2.predict(x_test))}}\n"
      ]
    },
    {
      "cell_type": "code",
      "execution_count": null,
      "metadata": {
        "colab": {
          "base_uri": "https://localhost:8080/",
          "height": 238
        },
        "id": "vv9IQbRbYFWj",
        "outputId": "f26715e1-7000-4cda-ab41-d7b6d08dfc72"
      },
      "outputs": [
        {
          "data": {
            "text/html": [
              "\n",
              "  <div id=\"df-21649266-4006-494f-906d-0c02a0642611\">\n",
              "    <div class=\"colab-df-container\">\n",
              "      <div>\n",
              "<style scoped>\n",
              "    .dataframe tbody tr th:only-of-type {\n",
              "        vertical-align: middle;\n",
              "    }\n",
              "\n",
              "    .dataframe tbody tr th {\n",
              "        vertical-align: top;\n",
              "    }\n",
              "\n",
              "    .dataframe thead th {\n",
              "        text-align: right;\n",
              "    }\n",
              "</style>\n",
              "<table border=\"1\" class=\"dataframe\">\n",
              "  <thead>\n",
              "    <tr style=\"text-align: right;\">\n",
              "      <th></th>\n",
              "      <th>Accuracy Training</th>\n",
              "      <th>f1_score Training</th>\n",
              "      <th>Accuracy Testing</th>\n",
              "      <th>f1_score Testing</th>\n",
              "    </tr>\n",
              "  </thead>\n",
              "  <tbody>\n",
              "    <tr>\n",
              "      <th>KNN</th>\n",
              "      <td>0.778502</td>\n",
              "      <td>0.622222</td>\n",
              "      <td>0.766234</td>\n",
              "      <td>0.625000</td>\n",
              "    </tr>\n",
              "    <tr>\n",
              "      <th>Decision Tree</th>\n",
              "      <td>0.767101</td>\n",
              "      <td>0.678652</td>\n",
              "      <td>0.766234</td>\n",
              "      <td>0.666667</td>\n",
              "    </tr>\n",
              "    <tr>\n",
              "      <th>SVM</th>\n",
              "      <td>0.791531</td>\n",
              "      <td>0.654054</td>\n",
              "      <td>0.772727</td>\n",
              "      <td>0.639175</td>\n",
              "    </tr>\n",
              "    <tr>\n",
              "      <th>Logistic Regression</th>\n",
              "      <td>0.775244</td>\n",
              "      <td>0.631016</td>\n",
              "      <td>0.772727</td>\n",
              "      <td>0.631579</td>\n",
              "    </tr>\n",
              "    <tr>\n",
              "      <th>Hard Voting</th>\n",
              "      <td>0.794788</td>\n",
              "      <td>0.655738</td>\n",
              "      <td>0.785714</td>\n",
              "      <td>0.659794</td>\n",
              "    </tr>\n",
              "    <tr>\n",
              "      <th>Soft Voting</th>\n",
              "      <td>0.846906</td>\n",
              "      <td>0.755208</td>\n",
              "      <td>0.759740</td>\n",
              "      <td>0.584270</td>\n",
              "    </tr>\n",
              "  </tbody>\n",
              "</table>\n",
              "</div>\n",
              "      <button class=\"colab-df-convert\" onclick=\"convertToInteractive('df-21649266-4006-494f-906d-0c02a0642611')\"\n",
              "              title=\"Convert this dataframe to an interactive table.\"\n",
              "              style=\"display:none;\">\n",
              "        \n",
              "  <svg xmlns=\"http://www.w3.org/2000/svg\" height=\"24px\"viewBox=\"0 0 24 24\"\n",
              "       width=\"24px\">\n",
              "    <path d=\"M0 0h24v24H0V0z\" fill=\"none\"/>\n",
              "    <path d=\"M18.56 5.44l.94 2.06.94-2.06 2.06-.94-2.06-.94-.94-2.06-.94 2.06-2.06.94zm-11 1L8.5 8.5l.94-2.06 2.06-.94-2.06-.94L8.5 2.5l-.94 2.06-2.06.94zm10 10l.94 2.06.94-2.06 2.06-.94-2.06-.94-.94-2.06-.94 2.06-2.06.94z\"/><path d=\"M17.41 7.96l-1.37-1.37c-.4-.4-.92-.59-1.43-.59-.52 0-1.04.2-1.43.59L10.3 9.45l-7.72 7.72c-.78.78-.78 2.05 0 2.83L4 21.41c.39.39.9.59 1.41.59.51 0 1.02-.2 1.41-.59l7.78-7.78 2.81-2.81c.8-.78.8-2.07 0-2.86zM5.41 20L4 18.59l7.72-7.72 1.47 1.35L5.41 20z\"/>\n",
              "  </svg>\n",
              "      </button>\n",
              "      \n",
              "  <style>\n",
              "    .colab-df-container {\n",
              "      display:flex;\n",
              "      flex-wrap:wrap;\n",
              "      gap: 12px;\n",
              "    }\n",
              "\n",
              "    .colab-df-convert {\n",
              "      background-color: #E8F0FE;\n",
              "      border: none;\n",
              "      border-radius: 50%;\n",
              "      cursor: pointer;\n",
              "      display: none;\n",
              "      fill: #1967D2;\n",
              "      height: 32px;\n",
              "      padding: 0 0 0 0;\n",
              "      width: 32px;\n",
              "    }\n",
              "\n",
              "    .colab-df-convert:hover {\n",
              "      background-color: #E2EBFA;\n",
              "      box-shadow: 0px 1px 2px rgba(60, 64, 67, 0.3), 0px 1px 3px 1px rgba(60, 64, 67, 0.15);\n",
              "      fill: #174EA6;\n",
              "    }\n",
              "\n",
              "    [theme=dark] .colab-df-convert {\n",
              "      background-color: #3B4455;\n",
              "      fill: #D2E3FC;\n",
              "    }\n",
              "\n",
              "    [theme=dark] .colab-df-convert:hover {\n",
              "      background-color: #434B5C;\n",
              "      box-shadow: 0px 1px 3px 1px rgba(0, 0, 0, 0.15);\n",
              "      filter: drop-shadow(0px 1px 2px rgba(0, 0, 0, 0.3));\n",
              "      fill: #FFFFFF;\n",
              "    }\n",
              "  </style>\n",
              "\n",
              "      <script>\n",
              "        const buttonEl =\n",
              "          document.querySelector('#df-21649266-4006-494f-906d-0c02a0642611 button.colab-df-convert');\n",
              "        buttonEl.style.display =\n",
              "          google.colab.kernel.accessAllowed ? 'block' : 'none';\n",
              "\n",
              "        async function convertToInteractive(key) {\n",
              "          const element = document.querySelector('#df-21649266-4006-494f-906d-0c02a0642611');\n",
              "          const dataTable =\n",
              "            await google.colab.kernel.invokeFunction('convertToInteractive',\n",
              "                                                     [key], {});\n",
              "          if (!dataTable) return;\n",
              "\n",
              "          const docLinkHtml = 'Like what you see? Visit the ' +\n",
              "            '<a target=\"_blank\" href=https://colab.research.google.com/notebooks/data_table.ipynb>data table notebook</a>'\n",
              "            + ' to learn more about interactive tables.';\n",
              "          element.innerHTML = '';\n",
              "          dataTable['output_type'] = 'display_data';\n",
              "          await google.colab.output.renderOutput(dataTable, element);\n",
              "          const docLink = document.createElement('div');\n",
              "          docLink.innerHTML = docLinkHtml;\n",
              "          element.appendChild(docLink);\n",
              "        }\n",
              "      </script>\n",
              "    </div>\n",
              "  </div>\n",
              "  "
            ],
            "text/plain": [
              "                     Accuracy Training  f1_score Training  Accuracy Testing  \\\n",
              "KNN                           0.778502           0.622222          0.766234   \n",
              "Decision Tree                 0.767101           0.678652          0.766234   \n",
              "SVM                           0.791531           0.654054          0.772727   \n",
              "Logistic Regression           0.775244           0.631016          0.772727   \n",
              "Hard Voting                   0.794788           0.655738          0.785714   \n",
              "Soft Voting                   0.846906           0.755208          0.759740   \n",
              "\n",
              "                     f1_score Testing  \n",
              "KNN                          0.625000  \n",
              "Decision Tree                0.666667  \n",
              "SVM                          0.639175  \n",
              "Logistic Regression          0.631579  \n",
              "Hard Voting                  0.659794  \n",
              "Soft Voting                  0.584270  "
            ]
          },
          "execution_count": 182,
          "metadata": {},
          "output_type": "execute_result"
        }
      ],
      "source": [
        "result = pd.DataFrame({\"Accuracy Training\":accuracy_scores['train'],\"f1_score Training\":f1_scores['train'],\n",
        "              \"Accuracy Testing\":accuracy_scores['test'],\"f1_score Testing\":f1_scores['test']})\n",
        "result.rename(index = {'DT':'Decision Tree',\n",
        "                       'LR':'Logistic Regression','EN_HARD':'Hard Voting','EN_SOFT':'Soft Voting'})"
      ]
    },
    {
      "cell_type": "markdown",
      "metadata": {
        "id": "TYifTRP7M1l5"
      },
      "source": [
        "# Additional Question: \n",
        "### Are ensemble methods always better than a single model? If not, explain why?\n",
        "Type your answer in the cell bellow as the markdown format.\n",
        "\t"
      ]
    },
    {
      "cell_type": "markdown",
      "metadata": {
        "id": "450BrJ44M1l6"
      },
      "source": [
        "### TO DO:\n"
      ]
    }
  ],
  "metadata": {
    "colab": {
      "collapsed_sections": [
        "2yXSkeUjM1kr",
        "qaJt1GeEM1lA",
        "450BrJ44M1l6"
      ],
      "name": "DSP303x_ASM2_anhpt12081@funix.edu.vn",
      "provenance": [],
      "include_colab_link": true
    },
    "kernelspec": {
      "display_name": "Python 3",
      "language": "python",
      "name": "python3"
    },
    "language_info": {
      "codemirror_mode": {
        "name": "ipython",
        "version": 3
      },
      "file_extension": ".py",
      "mimetype": "text/x-python",
      "name": "python",
      "nbconvert_exporter": "python",
      "pygments_lexer": "ipython3",
      "version": "3.7.1"
    }
  },
  "nbformat": 4,
  "nbformat_minor": 0
}