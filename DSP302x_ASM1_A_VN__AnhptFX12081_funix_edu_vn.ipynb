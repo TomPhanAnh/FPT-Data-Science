{
  "cells": [
    {
      "cell_type": "markdown",
      "metadata": {
        "id": "view-in-github",
        "colab_type": "text"
      },
      "source": [
        "<a href=\"https://colab.research.google.com/github/TomPhanAnh/FPT-Data-Science/blob/DSP302x_Data-Analysis-with-Python/DSP302x_ASM1_A_VN__AnhptFX12081_funix_edu_vn.ipynb\" target=\"_parent\"><img src=\"https://colab.research.google.com/assets/colab-badge.svg\" alt=\"Open In Colab\"/></a>"
      ]
    },
    {
      "cell_type": "code",
      "execution_count": null,
      "id": "099a72d7",
      "metadata": {
        "id": "099a72d7"
      },
      "outputs": [],
      "source": [
        "import pandas as pd\n",
        "import numpy as np\n",
        "import sqlite3 \n",
        "from datetime import timedelta\n",
        "import warnings\n",
        "warnings.filterwarnings('ignore')\n",
        "pd.set_option(\"display.max_columns\",100)\n",
        "pd.set_option(\"display.max_colwidth\",-1)"
      ]
    },
    {
      "cell_type": "code",
      "execution_count": null,
      "id": "1e4a7ef3",
      "metadata": {
        "id": "1e4a7ef3"
      },
      "outputs": [],
      "source": [
        "# Câu 1: Kết nối với database và lấy thông tin của tất cả các bảng.\n",
        "conn = sqlite3.connect(r\"C:/Users/ptama/Downloads/database.sqlite\")\n",
        "# Get information of all table\n",
        "tables = pd.read_sql_query(\"SELECT * FROM sqlite_master WHERE type = 'table'\", conn)['name']"
      ]
    },
    {
      "cell_type": "code",
      "execution_count": null,
      "id": "b2af2909",
      "metadata": {
        "id": "b2af2909",
        "outputId": "808785d8-8da3-4b33-f153-d1888278644f"
      },
      "outputs": [
        {
          "data": {
            "text/plain": [
              "0    sqlite_sequence  \n",
              "1    Player_Attributes\n",
              "2    Player           \n",
              "3    Match            \n",
              "4    League           \n",
              "5    Country          \n",
              "6    Team             \n",
              "7    Team_Attributes  \n",
              "Name: name, dtype: object"
            ]
          },
          "execution_count": 4,
          "metadata": {},
          "output_type": "execute_result"
        }
      ],
      "source": [
        "tables"
      ]
    },
    {
      "cell_type": "code",
      "execution_count": null,
      "id": "06cb28e4",
      "metadata": {
        "id": "06cb28e4"
      },
      "outputs": [],
      "source": [
        "# Câu hỏi 2: Chọn dữ liệu trong bảng \"Country\"\n",
        "C2 = pd.read_sql_query('SELECT * FROM Country',conn)"
      ]
    },
    {
      "cell_type": "code",
      "execution_count": null,
      "id": "7d212b7a",
      "metadata": {
        "id": "7d212b7a"
      },
      "outputs": [],
      "source": [
        "df_countries.rename(columns = {'id':'country_id'}, inplace = True)"
      ]
    },
    {
      "cell_type": "code",
      "execution_count": null,
      "id": "72e2d658",
      "metadata": {
        "id": "72e2d658",
        "outputId": "61606e29-78a2-4a8c-faa3-f84c508b820e"
      },
      "outputs": [
        {
          "name": "stdout",
          "output_type": "stream",
          "text": [
            "--------------------------------------------------------------------------------\n",
            "Table Name: Player_Attributes--- Rows: 183978 --- Columns: 42 --- Unique values: ---209464\n",
            "Null value -----------\n",
            "Total Null Values: 47301\n",
            "Duplicated Record: 0\n",
            "id                     0   \n",
            "player_fifa_api_id     0   \n",
            "player_api_id          0   \n",
            "date                   0   \n",
            "overall_rating         836 \n",
            "potential              836 \n",
            "preferred_foot         836 \n",
            "attacking_work_rate    3230\n",
            "defensive_work_rate    836 \n",
            "crossing               836 \n",
            "finishing              836 \n",
            "heading_accuracy       836 \n",
            "short_passing          836 \n",
            "volleys                2713\n",
            "dribbling              836 \n",
            "curve                  2713\n",
            "free_kick_accuracy     836 \n",
            "long_passing           836 \n",
            "ball_control           836 \n",
            "acceleration           836 \n",
            "sprint_speed           836 \n",
            "agility                2713\n",
            "reactions              836 \n",
            "balance                2713\n",
            "shot_power             836 \n",
            "jumping                2713\n",
            "stamina                836 \n",
            "strength               836 \n",
            "long_shots             836 \n",
            "aggression             836 \n",
            "interceptions          836 \n",
            "positioning            836 \n",
            "vision                 2713\n",
            "penalties              836 \n",
            "marking                836 \n",
            "standing_tackle        836 \n",
            "sliding_tackle         2713\n",
            "gk_diving              836 \n",
            "gk_handling            836 \n",
            "gk_kicking             836 \n",
            "gk_positioning         836 \n",
            "gk_reflexes            836 \n",
            "dtype: int64\n",
            "--------------------------------------------------------------------------------\n",
            "Table Name: Player--- Rows: 11060 --- Columns: 7 --- Unique values: ---49860\n",
            "Null value -----------\n",
            "Total Null Values: 0\n",
            "Duplicated Record: 0\n",
            "id                    0\n",
            "player_api_id         0\n",
            "player_name           0\n",
            "player_fifa_api_id    0\n",
            "birthday              0\n",
            "height                0\n",
            "weight                0\n",
            "dtype: int64\n",
            "--------------------------------------------------------------------------------\n",
            "Table Name: Match--- Rows: 25979 --- Columns: 115 --- Unique values: ---206349\n",
            "Null value -----------\n",
            "Total Null Values: 407395\n",
            "Duplicated Record: 0\n",
            "id            0    \n",
            "country_id    0    \n",
            "league_id     0    \n",
            "season        0    \n",
            "stage         0    \n",
            "             ..    \n",
            "GBD           11817\n",
            "GBA           11817\n",
            "BSH           11818\n",
            "BSD           11818\n",
            "BSA           11818\n",
            "Length: 115, dtype: int64\n",
            "--------------------------------------------------------------------------------\n",
            "Table Name: League--- Rows: 11 --- Columns: 3 --- Unique values: ---33\n",
            "Null value -----------\n",
            "Total Null Values: 0\n",
            "Duplicated Record: 0\n",
            "id            0\n",
            "country_id    0\n",
            "name          0\n",
            "dtype: int64\n",
            "--------------------------------------------------------------------------------\n",
            "Table Name: Country--- Rows: 11 --- Columns: 2 --- Unique values: ---22\n",
            "Null value -----------\n",
            "Total Null Values: 0\n",
            "Duplicated Record: 0\n",
            "id      0\n",
            "name    0\n",
            "dtype: int64\n",
            "--------------------------------------------------------------------------------\n",
            "Table Name: Team--- Rows: 299 --- Columns: 5 --- Unique values: ---1438\n",
            "Null value -----------\n",
            "Total Null Values: 11\n",
            "Duplicated Record: 0\n",
            "id                  0 \n",
            "team_api_id         0 \n",
            "team_fifa_api_id    11\n",
            "team_long_name      0 \n",
            "team_short_name     0 \n",
            "dtype: int64\n",
            "--------------------------------------------------------------------------------\n",
            "Table Name: Team_Attributes--- Rows: 1458 --- Columns: 25 --- Unique values: ---2535\n",
            "Null value -----------\n",
            "Total Null Values: 969\n",
            "Duplicated Record: 0\n",
            "id                                0  \n",
            "team_fifa_api_id                  0  \n",
            "team_api_id                       0  \n",
            "date                              0  \n",
            "buildUpPlaySpeed                  0  \n",
            "buildUpPlaySpeedClass             0  \n",
            "buildUpPlayDribbling              969\n",
            "buildUpPlayDribblingClass         0  \n",
            "buildUpPlayPassing                0  \n",
            "buildUpPlayPassingClass           0  \n",
            "buildUpPlayPositioningClass       0  \n",
            "chanceCreationPassing             0  \n",
            "chanceCreationPassingClass        0  \n",
            "chanceCreationCrossing            0  \n",
            "chanceCreationCrossingClass       0  \n",
            "chanceCreationShooting            0  \n",
            "chanceCreationShootingClass       0  \n",
            "chanceCreationPositioningClass    0  \n",
            "defencePressure                   0  \n",
            "defencePressureClass              0  \n",
            "defenceAggression                 0  \n",
            "defenceAggressionClass            0  \n",
            "defenceTeamWidth                  0  \n",
            "defenceTeamWidthClass             0  \n",
            "defenceDefenderLineClass          0  \n",
            "dtype: int64\n"
          ]
        }
      ],
      "source": [
        "# np.delete is for delete a first (0) value of tables \n",
        "# df.nunique Count number of distinct elements in specified axis.\n",
        "for table in np.delete(tables.values,0):\n",
        "    df_tmp = pd.read_sql_query('SELECT * FROM {}'.format(table), conn)\n",
        "    print(80*('-'))\n",
        "    print(\"Table Name: {}--- Rows: {} --- Columns: {} --- Unique values: ---{}\".\n",
        "         format(table,df_tmp.shape[0],df_tmp.shape[1], df_tmp.nunique().sum()))\n",
        "    print('Null value -----------')\n",
        "    navals = df_tmp.isna().sum()\n",
        "    print('Total Null Values: {}'.format(navals.sum()))\n",
        "    print(\"Duplicated Record: {}\".format(df_tmp.duplicated().sum()))\n",
        "    print(navals)"
      ]
    },
    {
      "cell_type": "code",
      "execution_count": null,
      "id": "b0ce9ee3",
      "metadata": {
        "id": "b0ce9ee3",
        "outputId": "3347b2f8-4dd7-4603-9533-f898ca2cf213"
      },
      "outputs": [
        {
          "data": {
            "text/html": [
              "<div>\n",
              "<style scoped>\n",
              "    .dataframe tbody tr th:only-of-type {\n",
              "        vertical-align: middle;\n",
              "    }\n",
              "\n",
              "    .dataframe tbody tr th {\n",
              "        vertical-align: top;\n",
              "    }\n",
              "\n",
              "    .dataframe thead th {\n",
              "        text-align: right;\n",
              "    }\n",
              "</style>\n",
              "<table border=\"1\" class=\"dataframe\">\n",
              "  <thead>\n",
              "    <tr style=\"text-align: right;\">\n",
              "      <th></th>\n",
              "      <th>match_played</th>\n",
              "      <th>season</th>\n",
              "    </tr>\n",
              "  </thead>\n",
              "  <tbody>\n",
              "    <tr>\n",
              "      <th>0</th>\n",
              "      <td>3326</td>\n",
              "      <td>2008/2009</td>\n",
              "    </tr>\n",
              "    <tr>\n",
              "      <th>1</th>\n",
              "      <td>3230</td>\n",
              "      <td>2009/2010</td>\n",
              "    </tr>\n",
              "    <tr>\n",
              "      <th>2</th>\n",
              "      <td>3260</td>\n",
              "      <td>2010/2011</td>\n",
              "    </tr>\n",
              "    <tr>\n",
              "      <th>3</th>\n",
              "      <td>3220</td>\n",
              "      <td>2011/2012</td>\n",
              "    </tr>\n",
              "    <tr>\n",
              "      <th>4</th>\n",
              "      <td>3260</td>\n",
              "      <td>2012/2013</td>\n",
              "    </tr>\n",
              "    <tr>\n",
              "      <th>5</th>\n",
              "      <td>3032</td>\n",
              "      <td>2013/2014</td>\n",
              "    </tr>\n",
              "    <tr>\n",
              "      <th>6</th>\n",
              "      <td>3325</td>\n",
              "      <td>2014/2015</td>\n",
              "    </tr>\n",
              "    <tr>\n",
              "      <th>7</th>\n",
              "      <td>3326</td>\n",
              "      <td>2015/2016</td>\n",
              "    </tr>\n",
              "  </tbody>\n",
              "</table>\n",
              "</div>"
            ],
            "text/plain": [
              "   match_played     season\n",
              "0  3326          2008/2009\n",
              "1  3230          2009/2010\n",
              "2  3260          2010/2011\n",
              "3  3220          2011/2012\n",
              "4  3260          2012/2013\n",
              "5  3032          2013/2014\n",
              "6  3325          2014/2015\n",
              "7  3326          2015/2016"
            ]
          },
          "execution_count": 19,
          "metadata": {},
          "output_type": "execute_result"
        }
      ],
      "source": [
        "# Get the matches played in one season\n",
        "matches_season = pd.read_sql_query('Select count(*) as match_played,season from Match group by season', conn)\n",
        "matches_season"
      ]
    },
    {
      "cell_type": "code",
      "execution_count": null,
      "id": "4d13fd93",
      "metadata": {
        "id": "4d13fd93",
        "outputId": "b36adffd-8e04-4365-a0f9-cd80281a5cfb"
      },
      "outputs": [
        {
          "name": "stdout",
          "output_type": "stream",
          "text": [
            "Null value match_played    0\n",
            "season          0\n",
            "dtype: int64\n",
            "----------------------------------------------------------------------------------------------------\n",
            "Duplicated value: 0\n"
          ]
        }
      ],
      "source": [
        "# check for null values\n",
        "print(\"Null value {}\".format(matches_season.isna().sum()))\n",
        "print(100*(\"-\"))\n",
        "print(\"Duplicated value: {}\".format(matches_season.duplicated().sum()))"
      ]
    },
    {
      "cell_type": "code",
      "execution_count": null,
      "id": "6d720cc9",
      "metadata": {
        "id": "6d720cc9"
      },
      "outputs": [],
      "source": [
        "# Câu hỏi 3: Chọn dữ liệu trong bảng \"League\"\n",
        "C3 = pd.read_sql_query('''\n",
        "SELECT * FROM Team''', conn)"
      ]
    },
    {
      "cell_type": "code",
      "execution_count": null,
      "id": "37972d3d",
      "metadata": {
        "id": "37972d3d"
      },
      "outputs": [],
      "source": [
        "#  Câu hỏi 4: Chọn dữ liệu League với thông tin quốc gia\n",
        "C4 = pd.read_sql_query('''SELECT * FROM League l JOIN Country c ON l.country_id = c.id ''', conn)"
      ]
    },
    {
      "cell_type": "code",
      "execution_count": null,
      "id": "b1332147",
      "metadata": {
        "id": "b1332147"
      },
      "outputs": [],
      "source": [
        "# Câu hỏi 5: Chọn dữ liệu từ bảng “Match”\n",
        "C5 = pd.read_sql_query('Select * from Match',conn)"
      ]
    },
    {
      "cell_type": "code",
      "execution_count": null,
      "id": "11037512",
      "metadata": {
        "id": "11037512"
      },
      "outputs": [],
      "source": [
        "# Câu hỏi 6: Chọn dữ liệu trận đấu bao gồm  thông tin giải đấu và quốc gia\n",
        "C6 = pd.read_sql_query('''Select * from Country c \n",
        "                                            JOIN (League l JOIN Match m  on l.country_id = m.country_id) on c.id = m.country_id''' , conn)"
      ]
    },
    {
      "cell_type": "code",
      "execution_count": null,
      "id": "f3be603f",
      "metadata": {
        "id": "f3be603f"
      },
      "outputs": [],
      "source": [
        ""
      ]
    },
    {
      "cell_type": "code",
      "execution_count": null,
      "id": "26d8c3de",
      "metadata": {
        "id": "26d8c3de"
      },
      "outputs": [],
      "source": [
        "# Câu hỏi 7: Lấy số lượng trận đấu của mỗi giải đấu bao gồm cả tên giải đấu, sắp xếp theo thứ tự giảm dần số trận đấu\n",
        "C7 = pd.read_sql_query('''\n",
        "SELECT count(*) as matches, name , season \n",
        "FROM ( SELECT * FROM Match m JOIN League l ON m.country_id = l.country_id)  \n",
        "GROUP BY name, season\n",
        "ORDER BY matches DESC''', conn)\n"
      ]
    },
    {
      "cell_type": "code",
      "execution_count": null,
      "id": "ea60582d",
      "metadata": {
        "id": "ea60582d"
      },
      "outputs": [],
      "source": [
        "# Câu hỏi 8: Lấy tổng số bàn thắng của đội nhà và đội khách trong mỗi giải đấu\n",
        "C8 = pd.read_sql_query('''\n",
        "SELECT name, season, sum(home_team_goal) as home_total_goal, \n",
        "        sum(away_team_goal) as away_total_home\n",
        "FROM (\n",
        "SELECT * \n",
        "FROM Match m JOIN League l ON m.country_id = l.country_id)\n",
        "GROUP BY name, season\n",
        " ''', conn)"
      ]
    },
    {
      "cell_type": "code",
      "execution_count": null,
      "id": "8275486a",
      "metadata": {
        "id": "8275486a"
      },
      "outputs": [],
      "source": [
        "# Câu hỏi 9: Chọn dữ liệu từ bảng “Team”\n",
        "C9 = pd.read_sql_query('''\n",
        "SELECT * FROM Team''', conn)"
      ]
    },
    {
      "cell_type": "code",
      "execution_count": null,
      "id": "57ad899c",
      "metadata": {
        "id": "57ad899c"
      },
      "outputs": [],
      "source": [
        "# Câu hỏi 10: Top 20 đội với số bàn thắng sân nhà cao nhất\n",
        "C10 = pd.read_sql_query('''SELECT team_short_name, sum(home_team_goal) as total_goal \n",
        "                                FROM Match, Team where Match.id = Team.id \n",
        "                                GROUP BY team_short_name\n",
        "                                ORDER BY total_goal DESC\n",
        "                                LIMIT 20''', conn)\n",
        "# Câu hỏi 11: Top 20 đội với số bàn thắng sân khách cao nhất\n",
        "C11 = pd.read_sql_query('''SELECT team_short_name, sum(away_team_goal) as total_goal\n",
        "                                FROM Match m JOIN Team t\n",
        "                                ON m.id = t.id\n",
        "                                GROUP BY team_short_name\n",
        "                                ORDER BY total_goal DESC\n",
        "                                LIMIT 20''', conn)"
      ]
    },
    {
      "cell_type": "code",
      "execution_count": null,
      "id": "64b9401f",
      "metadata": {
        "id": "64b9401f"
      },
      "outputs": [],
      "source": [
        "#Câu hỏi 12: Liệt kê tên các đội bóng và tổng số bàn thắng mỗi đội, sắp xếp theo số lượng giảm dần\n",
        "C12 = pd.read_sql_query('''\n",
        "SELECT team_long_name, SUM(goal) as total_goal\n",
        "FROM \n",
        "(SELECT t.team_long_name, SUM(m.home_team_goal) AS goal\n",
        "FROM Match m, Team t\n",
        "WHERE m.home_team_api_id = t.team_api_id\n",
        "GROUP BY t.team_long_name\n",
        "\n",
        "UNION \n",
        "\n",
        "SELECT t.team_long_name, SUM(m.away_team_goal) AS goal\n",
        "FROM Match m, Team t\n",
        "WHERE m.away_team_api_id = t.team_api_id\n",
        "GROUP BY t.team_long_name)\n",
        "\n",
        "GROUP BY team_long_name \n",
        "ORDER BY SUM(goal) DESC\n",
        "''', conn)\n"
      ]
    },
    {
      "cell_type": "code",
      "execution_count": null,
      "id": "47b92799",
      "metadata": {
        "id": "47b92799"
      },
      "outputs": [],
      "source": [
        "# Câu hỏi 13: Liệt kê tên các đội bóng (long name) và tổng số trận đấu\n",
        "C13 = pd.read_sql_query('''\n",
        "SELECT \n",
        "    team_long_name,\n",
        "    sum(match)\n",
        "FROM \n",
        "(SELECT\n",
        "    t.team_long_name, count(*) as match\n",
        "FROM Match m, Team t\n",
        "WHERE m.home_team_api_id = t.team_api_id\n",
        "GROUP BY t.team_long_name\n",
        "\n",
        "UNION \n",
        "\n",
        "SELECT t.team_long_name, count(*) AS match\n",
        "FROM Match m, Team t\n",
        "WHERE m.away_team_api_id = t.team_api_id\n",
        "GROUP BY t.team_long_name)\n",
        "\n",
        "GROUP BY team_long_name\n",
        "ORDER BY SUM(match) DESC''',\n",
        "                       conn)"
      ]
    },
    {
      "cell_type": "code",
      "execution_count": null,
      "id": "9e7aac23",
      "metadata": {
        "id": "9e7aac23"
      },
      "outputs": [],
      "source": [
        "# Câu hỏi 14: Liệt kê số trận thắng, thua và hòa của mỗi đội.\n",
        "C14 = pd.read_sql_query('''\n",
        "SELECT team_long_name, result, count(result) as game FROM \n",
        "(SELECT team_long_name, home_team_goal, away_team_goal,\n",
        "\n",
        "CASE \n",
        "    WHEN home_team_goal > away_team_goal THEN \"Win\"\n",
        "    WHEN home_team_goal < away_team_goal THEN \"Lose\"\n",
        "    ELSE \"Tie\"\n",
        "END AS result\n",
        "FROM (\n",
        "SELECT * FROM Match m JOIN Team t \n",
        "    ON m.home_team_api_id = t.team_api_id))\n",
        "GROUP BY team_long_name, result''', conn)"
      ]
    },
    {
      "cell_type": "code",
      "execution_count": null,
      "id": "c976346f",
      "metadata": {
        "id": "c976346f"
      },
      "outputs": [],
      "source": [
        "# Câu hỏi 15: Liệt kê 10 đội có số trận thắng nhiều nhất\n",
        "C15 = pd.read_sql_query('''\n",
        "SELECT team_long_name, count(result) as total_match\n",
        "\n",
        "FROM (\n",
        "SELECT team_long_name, home_team_goal, away_team_goal,\n",
        "\n",
        "CASE \n",
        "    WHEN home_team_goal > away_team_goal THEN \"Win\"\n",
        "    WHEN home_team_goal < away_team_goal THEN \"Lose\"\n",
        "    ELSE \"Tie\"\n",
        "END AS result\n",
        "\n",
        "FROM (\n",
        "SELECT * FROM Match m JOIN Team t ON m.home_team_api_id = t.team_api_id))\n",
        "GROUP BY team_long_name, result\n",
        "HAVING result = \"Win\"\n",
        "ORDER BY total_match DESC\n",
        "LIMIT 10''', conn)"
      ]
    },
    {
      "cell_type": "code",
      "execution_count": null,
      "id": "526a753c",
      "metadata": {
        "id": "526a753c"
      },
      "outputs": [],
      "source": [
        "# Câu hỏi 16: Liệt kê tỉ lệ phần trăm về số trận của mỗi giải trên tổng tất cả các trận\n",
        "C16 = pd.read_sql_query('''\n",
        "SELECT name, 100*total_match/(\n",
        "SELECT count(*) FROM Match m \n",
        "        JOIN League l on m.league_id = l.id) \n",
        "AS percentage\n",
        "\n",
        "FROM (\n",
        "SELECT name, count(*) AS total_match\n",
        "FROM Match m JOIN League l on m.league_id = l.id\n",
        "GROUP BY name)\n",
        "ORDER BY percentage DESC\n",
        "''', conn)"
      ]
    },
    {
      "cell_type": "code",
      "execution_count": null,
      "id": "b6a93287",
      "metadata": {
        "id": "b6a93287"
      },
      "outputs": [],
      "source": [
        "# Câu hỏi 17: Liệt kê tỉ lệ phần trăm về số bàn ghi được của từng giải so với tổng số bàn của tất cả các trận.\n",
        "C17 = pd.read_sql_query('''\n",
        "SELECT name, 100*total_goal/(\n",
        "SELECT sum(home_team_goal + away_team_goal)\n",
        "FROM Match m JOIN League l ON m.league_id = l.id) AS percentage\n",
        "\n",
        "FROM (SELECT name, sum(home_team_goal + away_team_goal) AS total_goal\n",
        "FROM Match m JOIN League l on m.league_id = l.id\n",
        "GROUP BY name)\n",
        "ORDER BY percentage DESC''', conn)"
      ]
    },
    {
      "cell_type": "code",
      "execution_count": null,
      "id": "acd34816",
      "metadata": {
        "id": "acd34816"
      },
      "outputs": [],
      "source": [
        "#Câu hỏi 18: Liệt kê tổng số bàn ghi được của từng giải đấu theo từng mùa giải.\n",
        "C18 = pd.read_sql_query('''\n",
        "SELECT name, season, sum(home_team_goal + away_team_goal) as total_goal\n",
        "FROM Match m\n",
        "JOIN League l\n",
        "ON m.league_id = l.id\n",
        "GROUP BY name, season\n",
        "ORDER BY name,season ASC\n",
        "''', conn)"
      ]
    },
    {
      "cell_type": "code",
      "execution_count": null,
      "id": "2c8b9bd4",
      "metadata": {
        "id": "2c8b9bd4"
      },
      "outputs": [],
      "source": [
        "#Câu hỏi 19: Liệt kê thông tin cầu thủ:\n",
        "C19 = pd.read_sql_query('''\n",
        "SELECT weight*0.453592 as weight_kg,\n",
        "    weight/100 as height_m2,\n",
        "    weight*0.453592/(height*height/10000) as BMI\n",
        "    FROM Player''', conn)"
      ]
    },
    {
      "cell_type": "code",
      "execution_count": null,
      "id": "7f768a37",
      "metadata": {
        "id": "7f768a37"
      },
      "outputs": [],
      "source": [
        "#Câu hỏi 20: Liệt kê cầu thủ lớn tuổi nhất\n",
        "C20 = pd.read_sql_query('''\n",
        "SELECT *, DATE() - birthday as Age \n",
        "FROM Player\n",
        "ORDER BY Age DESC \n",
        "LIMIT 1''', conn)"
      ]
    }
  ],
  "metadata": {
    "kernelspec": {
      "display_name": "Python 3",
      "language": "python",
      "name": "python3"
    },
    "language_info": {
      "codemirror_mode": {
        "name": "ipython",
        "version": 3
      },
      "file_extension": ".py",
      "mimetype": "text/x-python",
      "name": "python",
      "nbconvert_exporter": "python",
      "pygments_lexer": "ipython3",
      "version": "3.8.8"
    },
    "colab": {
      "name": "DSP302x_ASM1_A_VN_ AnhptFX12081@funix.edu.vn.ipynb",
      "provenance": [],
      "include_colab_link": true
    }
  },
  "nbformat": 4,
  "nbformat_minor": 5
}